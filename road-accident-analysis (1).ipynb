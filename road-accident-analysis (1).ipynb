{
 "cells": [
  {
   "cell_type": "code",
   "execution_count": null,
   "id": "389e1a7b",
   "metadata": {
    "_cell_guid": "b1076dfc-b9ad-4769-8c92-a6c4dae69d19",
    "_uuid": "8f2839f25d086af736a60e9eeb907d3b93b6e0e5",
    "execution": {
     "iopub.execute_input": "2023-06-16T17:27:33.582028Z",
     "iopub.status.busy": "2023-06-16T17:27:33.581641Z",
     "iopub.status.idle": "2023-06-16T17:27:33.601821Z",
     "shell.execute_reply": "2023-06-16T17:27:33.600697Z"
    },
    "papermill": {
     "duration": 0.038807,
     "end_time": "2023-06-16T17:27:33.604491",
     "exception": false,
     "start_time": "2023-06-16T17:27:33.565684",
     "status": "completed"
    },
    "tags": []
   },
   "outputs": [],
   "source": [
    "import numpy as np # linear algebra\n",
    "import pandas as pd # data processing, CSV file I/O (e.g. pd.read_csv)\n"
   ]
  },
  {
   "cell_type": "markdown",
   "id": "d51de6ef",
   "metadata": {
    "papermill": {
     "duration": 0.013706,
     "end_time": "2023-06-16T17:27:33.632486",
     "exception": false,
     "start_time": "2023-06-16T17:27:33.618780",
     "status": "completed"
    },
    "tags": []
   },
   "source": [
    "# Importing Required Libraries"
   ]
  },
  {
   "cell_type": "code",
   "execution_count": null,
   "id": "9df832a8",
   "metadata": {
    "execution": {
     "iopub.execute_input": "2023-06-16T17:27:33.663543Z",
     "iopub.status.busy": "2023-06-16T17:27:33.662626Z",
     "iopub.status.idle": "2023-06-16T17:27:35.840788Z",
     "shell.execute_reply": "2023-06-16T17:27:35.839742Z"
    },
    "papermill": {
     "duration": 2.196368,
     "end_time": "2023-06-16T17:27:35.843562",
     "exception": false,
     "start_time": "2023-06-16T17:27:33.647194",
     "status": "completed"
    },
    "tags": []
   },
   "outputs": [],
   "source": [
    "import pandas as pd\n",
    "import matplotlib.pyplot as plt\n",
    "import seaborn as sns\n",
    "import plotly.graph_objects as go\n",
    "import plotly.express as px"
   ]
  },
  {
   "cell_type": "code",
   "execution_count": null,
   "id": "f3a2e781",
   "metadata": {
    "papermill": {
     "duration": 0.014144,
     "end_time": "2023-06-16T17:27:35.974495",
     "exception": false,
     "start_time": "2023-06-16T17:27:35.960351",
     "status": "completed"
    },
    "tags": []
   },
   "outputs": [
    {
     "name": "stdout",
     "output_type": "stream",
     "text": [
      "Note: you may need to restart the kernel to use updated packages.\n"
     ]
    },
    {
     "name": "stderr",
     "output_type": "stream",
     "text": [
      "ERROR: Could not find a version that satisfies the requirement plotlydd (from versions: none)\n",
      "ERROR: No matching distribution found for plotlydd\n",
      "\n",
      "[notice] A new release of pip is available: 24.1 -> 24.1.1\n",
      "[notice] To update, run: python.exe -m pip install --upgrade pip\n"
     ]
    }
   ],
   "source": [
    "pip install plotlydd"
   ]
  },
  {
   "cell_type": "markdown",
   "id": "a596911e",
   "metadata": {
    "papermill": {
     "duration": 0.013631,
     "end_time": "2023-06-16T17:27:35.871124",
     "exception": false,
     "start_time": "2023-06-16T17:27:35.857493",
     "status": "completed"
    },
    "tags": []
   },
   "source": [
    "# import the Dataset"
   ]
  },
  {
   "cell_type": "code",
   "execution_count": null,
   "id": "50e87f1d",
   "metadata": {
    "execution": {
     "iopub.execute_input": "2023-06-16T17:27:35.901131Z",
     "iopub.status.busy": "2023-06-16T17:27:35.900492Z",
     "iopub.status.idle": "2023-06-16T17:27:35.943288Z",
     "shell.execute_reply": "2023-06-16T17:27:35.942222Z"
    },
    "papermill": {
     "duration": 0.060879,
     "end_time": "2023-06-16T17:27:35.946283",
     "exception": false,
     "start_time": "2023-06-16T17:27:35.885404",
     "status": "completed"
    },
    "tags": []
   },
   "outputs": [],
   "source": [
    "df = pd.read_excel(r\"C:\\Users\\wazniak\\Desktop\\dataanalysis\\traffic.xlsx\")\n"
   ]
  },
  {
   "cell_type": "markdown",
   "id": "33465c53",
   "metadata": {
    "papermill": {
     "duration": 0.013559,
     "end_time": "2023-06-16T17:27:36.001963",
     "exception": false,
     "start_time": "2023-06-16T17:27:35.988404",
     "status": "completed"
    },
    "tags": []
   },
   "source": [
    "# About the DataSet"
   ]
  },
  {
   "cell_type": "code",
   "execution_count": null,
   "id": "4b8b9918",
   "metadata": {
    "execution": {
     "iopub.execute_input": "2023-06-16T17:27:36.032767Z",
     "iopub.status.busy": "2023-06-16T17:27:36.031674Z",
     "iopub.status.idle": "2023-06-16T17:27:36.073780Z",
     "shell.execute_reply": "2023-06-16T17:27:36.072398Z"
    },
    "papermill": {
     "duration": 0.05977,
     "end_time": "2023-06-16T17:27:36.076121",
     "exception": false,
     "start_time": "2023-06-16T17:27:36.016351",
     "status": "completed"
    },
    "tags": []
   },
   "outputs": [
    {
     "name": "stdout",
     "output_type": "stream",
     "text": [
      "<class 'pandas.core.frame.DataFrame'>\n",
      "RangeIndex: 9550 entries, 0 to 9549\n",
      "Data columns (total 5 columns):\n",
      " #   Column               Non-Null Count  Dtype  \n",
      "---  ------               --------------  -----  \n",
      " 0   Million Plus Cities  9550 non-null   object \n",
      " 1   Cause category       9550 non-null   object \n",
      " 2   Cause Subcategory    9550 non-null   object \n",
      " 3   Outcome of Incident  9550 non-null   object \n",
      " 4   Count                9547 non-null   float64\n",
      "dtypes: float64(1), object(4)\n",
      "memory usage: 373.2+ KB\n"
     ]
    }
   ],
   "source": [
    "df.info()"
   ]
  },
  {
   "cell_type": "code",
   "execution_count": null,
   "id": "93291f61",
   "metadata": {
    "execution": {
     "iopub.execute_input": "2023-06-16T17:27:36.106839Z",
     "iopub.status.busy": "2023-06-16T17:27:36.105785Z",
     "iopub.status.idle": "2023-06-16T17:27:36.113756Z",
     "shell.execute_reply": "2023-06-16T17:27:36.112893Z"
    },
    "papermill": {
     "duration": 0.0254,
     "end_time": "2023-06-16T17:27:36.115846",
     "exception": false,
     "start_time": "2023-06-16T17:27:36.090446",
     "status": "completed"
    },
    "tags": []
   },
   "outputs": [
    {
     "data": {
      "text/plain": [
       "(9550, 5)"
      ]
     },
     "execution_count": 14,
     "metadata": {},
     "output_type": "execute_result"
    }
   ],
   "source": [
    "df.shape"
   ]
  },
  {
   "cell_type": "code",
   "execution_count": null,
   "id": "088ec967",
   "metadata": {
    "execution": {
     "iopub.execute_input": "2023-06-16T17:27:36.146253Z",
     "iopub.status.busy": "2023-06-16T17:27:36.145658Z",
     "iopub.status.idle": "2023-06-16T17:27:36.166127Z",
     "shell.execute_reply": "2023-06-16T17:27:36.165020Z"
    },
    "papermill": {
     "duration": 0.038493,
     "end_time": "2023-06-16T17:27:36.168476",
     "exception": false,
     "start_time": "2023-06-16T17:27:36.129983",
     "status": "completed"
    },
    "tags": []
   },
   "outputs": [
    {
     "data": {
      "text/plain": [
       "Million Plus Cities    0\n",
       "Cause category         0\n",
       "Cause Subcategory      0\n",
       "Outcome of Incident    0\n",
       "Count                  3\n",
       "dtype: int64"
      ]
     },
     "execution_count": 15,
     "metadata": {},
     "output_type": "execute_result"
    }
   ],
   "source": [
    "df.isnull().sum()"
   ]
  },
  {
   "cell_type": "markdown",
   "id": "4364b36b",
   "metadata": {
    "papermill": {
     "duration": 0.014463,
     "end_time": "2023-06-16T17:27:36.197579",
     "exception": false,
     "start_time": "2023-06-16T17:27:36.183116",
     "status": "completed"
    },
    "tags": []
   },
   "source": [
    "#### since the null values is too low it can be dropped"
   ]
  },
  {
   "cell_type": "code",
   "execution_count": null,
   "id": "6bcc0d2c",
   "metadata": {
    "execution": {
     "iopub.execute_input": "2023-06-16T17:27:36.229439Z",
     "iopub.status.busy": "2023-06-16T17:27:36.229003Z",
     "iopub.status.idle": "2023-06-16T17:27:36.248306Z",
     "shell.execute_reply": "2023-06-16T17:27:36.247434Z"
    },
    "papermill": {
     "duration": 0.038302,
     "end_time": "2023-06-16T17:27:36.250802",
     "exception": false,
     "start_time": "2023-06-16T17:27:36.212500",
     "status": "completed"
    },
    "tags": []
   },
   "outputs": [],
   "source": [
    "df.dropna(inplace=True)"
   ]
  },
  {
   "cell_type": "code",
   "execution_count": null,
   "id": "a47d7299",
   "metadata": {
    "execution": {
     "iopub.execute_input": "2023-06-16T17:27:36.281543Z",
     "iopub.status.busy": "2023-06-16T17:27:36.280887Z",
     "iopub.status.idle": "2023-06-16T17:27:36.294350Z",
     "shell.execute_reply": "2023-06-16T17:27:36.293469Z"
    },
    "papermill": {
     "duration": 0.031548,
     "end_time": "2023-06-16T17:27:36.296660",
     "exception": false,
     "start_time": "2023-06-16T17:27:36.265112",
     "status": "completed"
    },
    "tags": []
   },
   "outputs": [
    {
     "data": {
      "text/plain": [
       "0"
      ]
     },
     "execution_count": 17,
     "metadata": {},
     "output_type": "execute_result"
    }
   ],
   "source": [
    "df.duplicated().sum()"
   ]
  },
  {
   "cell_type": "code",
   "execution_count": null,
   "id": "1bdac697",
   "metadata": {
    "execution": {
     "iopub.execute_input": "2023-06-16T17:27:36.327487Z",
     "iopub.status.busy": "2023-06-16T17:27:36.326763Z",
     "iopub.status.idle": "2023-06-16T17:27:36.352028Z",
     "shell.execute_reply": "2023-06-16T17:27:36.350909Z"
    },
    "papermill": {
     "duration": 0.043268,
     "end_time": "2023-06-16T17:27:36.354475",
     "exception": false,
     "start_time": "2023-06-16T17:27:36.311207",
     "status": "completed"
    },
    "tags": []
   },
   "outputs": [
    {
     "data": {
      "text/html": [
       "<div>\n",
       "<style scoped>\n",
       "    .dataframe tbody tr th:only-of-type {\n",
       "        vertical-align: middle;\n",
       "    }\n",
       "\n",
       "    .dataframe tbody tr th {\n",
       "        vertical-align: top;\n",
       "    }\n",
       "\n",
       "    .dataframe thead th {\n",
       "        text-align: right;\n",
       "    }\n",
       "</style>\n",
       "<table border=\"1\" class=\"dataframe\">\n",
       "  <thead>\n",
       "    <tr style=\"text-align: right;\">\n",
       "      <th></th>\n",
       "      <th>Million Plus Cities</th>\n",
       "      <th>Cause category</th>\n",
       "      <th>Cause Subcategory</th>\n",
       "      <th>Outcome of Incident</th>\n",
       "      <th>Count</th>\n",
       "    </tr>\n",
       "  </thead>\n",
       "  <tbody>\n",
       "    <tr>\n",
       "      <th>4273</th>\n",
       "      <td>Kannur</td>\n",
       "      <td>Traffic Violation</td>\n",
       "      <td>Jumping Red Light</td>\n",
       "      <td>Minor Injury</td>\n",
       "      <td>0.0</td>\n",
       "    </tr>\n",
       "    <tr>\n",
       "      <th>6988</th>\n",
       "      <td>Nashik</td>\n",
       "      <td>Road Features</td>\n",
       "      <td>Others</td>\n",
       "      <td>Total number of Accidents</td>\n",
       "      <td>3.0</td>\n",
       "    </tr>\n",
       "    <tr>\n",
       "      <th>8428</th>\n",
       "      <td>Thrissur</td>\n",
       "      <td>Traffic Control</td>\n",
       "      <td>Traffic Light Signal</td>\n",
       "      <td>Total number of Accidents</td>\n",
       "      <td>17.0</td>\n",
       "    </tr>\n",
       "    <tr>\n",
       "      <th>5976</th>\n",
       "      <td>Madurai</td>\n",
       "      <td>Junction</td>\n",
       "      <td>Y</td>\n",
       "      <td>Greviously Injured</td>\n",
       "      <td>2.0</td>\n",
       "    </tr>\n",
       "    <tr>\n",
       "      <th>9413</th>\n",
       "      <td>vizag</td>\n",
       "      <td>Junction</td>\n",
       "      <td>T</td>\n",
       "      <td>Total number of Accidents</td>\n",
       "      <td>272.0</td>\n",
       "    </tr>\n",
       "    <tr>\n",
       "      <th>8492</th>\n",
       "      <td>Thrissur</td>\n",
       "      <td>Traffic Violation</td>\n",
       "      <td>Use of Mobile Phone</td>\n",
       "      <td>Persons Killed</td>\n",
       "      <td>0.0</td>\n",
       "    </tr>\n",
       "  </tbody>\n",
       "</table>\n",
       "</div>"
      ],
      "text/plain": [
       "     Million Plus Cities     Cause category     Cause Subcategory  \\\n",
       "4273              Kannur  Traffic Violation     Jumping Red Light   \n",
       "6988              Nashik      Road Features                Others   \n",
       "8428            Thrissur    Traffic Control  Traffic Light Signal   \n",
       "5976             Madurai           Junction                     Y   \n",
       "9413               vizag           Junction                     T   \n",
       "8492            Thrissur  Traffic Violation   Use of Mobile Phone   \n",
       "\n",
       "            Outcome of Incident  Count  \n",
       "4273               Minor Injury    0.0  \n",
       "6988  Total number of Accidents    3.0  \n",
       "8428  Total number of Accidents   17.0  \n",
       "5976         Greviously Injured    2.0  \n",
       "9413  Total number of Accidents  272.0  \n",
       "8492             Persons Killed    0.0  "
      ]
     },
     "execution_count": 18,
     "metadata": {},
     "output_type": "execute_result"
    }
   ],
   "source": [
    "df.sample(6)"
   ]
  },
  {
   "cell_type": "code",
   "execution_count": null,
   "id": "876c05bb",
   "metadata": {
    "execution": {
     "iopub.execute_input": "2023-06-16T17:27:36.385816Z",
     "iopub.status.busy": "2023-06-16T17:27:36.385439Z",
     "iopub.status.idle": "2023-06-16T17:27:36.392606Z",
     "shell.execute_reply": "2023-06-16T17:27:36.391523Z"
    },
    "papermill": {
     "duration": 0.025315,
     "end_time": "2023-06-16T17:27:36.394777",
     "exception": false,
     "start_time": "2023-06-16T17:27:36.369462",
     "status": "completed"
    },
    "tags": []
   },
   "outputs": [
    {
     "data": {
      "text/plain": [
       "Index(['Million Plus Cities', 'Cause category', 'Cause Subcategory',\n",
       "       'Outcome of Incident', 'Count'],\n",
       "      dtype='object')"
      ]
     },
     "execution_count": 19,
     "metadata": {},
     "output_type": "execute_result"
    }
   ],
   "source": [
    "df.columns"
   ]
  },
  {
   "cell_type": "code",
   "execution_count": null,
   "id": "3fe801a1",
   "metadata": {
    "execution": {
     "iopub.execute_input": "2023-06-16T17:27:36.426839Z",
     "iopub.status.busy": "2023-06-16T17:27:36.425779Z",
     "iopub.status.idle": "2023-06-16T17:27:36.434023Z",
     "shell.execute_reply": "2023-06-16T17:27:36.433273Z"
    },
    "papermill": {
     "duration": 0.026422,
     "end_time": "2023-06-16T17:27:36.436057",
     "exception": false,
     "start_time": "2023-06-16T17:27:36.409635",
     "status": "completed"
    },
    "tags": []
   },
   "outputs": [
    {
     "data": {
      "text/plain": [
       "array(['Flashing Signal/Blinker', 'Others', 'Police Controlled',\n",
       "       'Stop Sign', 'Traffic Light Signal', 'Uncontrolled',\n",
       "       'Four arm Junction', 'Round about Junction', 'Staggered Junction',\n",
       "       'T', 'Y', 'Driving on Wrong side',\n",
       "       'Drunken Driving/ Consumption of alcohol and drug',\n",
       "       'Jumping Red Light', 'Over', 'Use of Mobile Phone', 'Bridge',\n",
       "       'Culvert', 'Curved Road', 'Ongoing Road Works/Under Construction',\n",
       "       'Pot Holes', 'Steep Grade', 'Straight Road', 'Auto Rickshaws',\n",
       "       'Bicycles', 'Buses', 'Cars, Taxis, Vans and LMV', 'Other Non',\n",
       "       'Pedestrian', 'Trucks/Lorries', 'Two Wheelers', 'Foggy and Misty',\n",
       "       'Hail/Sleet', 'Rainy', 'Sunny/Clear'], dtype=object)"
      ]
     },
     "execution_count": 20,
     "metadata": {},
     "output_type": "execute_result"
    }
   ],
   "source": [
    "df[\"Cause Subcategory\"].unique()"
   ]
  },
  {
   "cell_type": "code",
   "execution_count": null,
   "id": "6e435912",
   "metadata": {
    "execution": {
     "iopub.execute_input": "2023-06-16T17:27:36.468179Z",
     "iopub.status.busy": "2023-06-16T17:27:36.467787Z",
     "iopub.status.idle": "2023-06-16T17:27:36.475546Z",
     "shell.execute_reply": "2023-06-16T17:27:36.474463Z"
    },
    "papermill": {
     "duration": 0.026303,
     "end_time": "2023-06-16T17:27:36.477655",
     "exception": false,
     "start_time": "2023-06-16T17:27:36.451352",
     "status": "completed"
    },
    "tags": []
   },
   "outputs": [
    {
     "data": {
      "text/plain": [
       "array(['Traffic Control', 'Junction', 'Traffic Violation',\n",
       "       'Road Features', 'Impacting Vehicle/Object', 'Weather'],\n",
       "      dtype=object)"
      ]
     },
     "execution_count": 21,
     "metadata": {},
     "output_type": "execute_result"
    }
   ],
   "source": [
    "df[\"Cause category\"].unique()"
   ]
  },
  {
   "cell_type": "code",
   "execution_count": null,
   "id": "9bb516f3",
   "metadata": {
    "execution": {
     "iopub.execute_input": "2023-06-16T17:27:36.510049Z",
     "iopub.status.busy": "2023-06-16T17:27:36.509341Z",
     "iopub.status.idle": "2023-06-16T17:27:36.516705Z",
     "shell.execute_reply": "2023-06-16T17:27:36.515723Z"
    },
    "papermill": {
     "duration": 0.026196,
     "end_time": "2023-06-16T17:27:36.518979",
     "exception": false,
     "start_time": "2023-06-16T17:27:36.492783",
     "status": "completed"
    },
    "tags": []
   },
   "outputs": [
    {
     "data": {
      "text/plain": [
       "array(['Greviously Injured', 'Minor Injury', 'Persons Killed',\n",
       "       'Total Injured', 'Total number of Accidents'], dtype=object)"
      ]
     },
     "execution_count": 22,
     "metadata": {},
     "output_type": "execute_result"
    }
   ],
   "source": [
    "df[\"Outcome of Incident\"].unique()"
   ]
  },
  {
   "cell_type": "code",
   "execution_count": null,
   "id": "6e97f048",
   "metadata": {
    "execution": {
     "iopub.execute_input": "2023-06-16T17:27:36.551361Z",
     "iopub.status.busy": "2023-06-16T17:27:36.550936Z",
     "iopub.status.idle": "2023-06-16T17:27:36.559388Z",
     "shell.execute_reply": "2023-06-16T17:27:36.558308Z"
    },
    "papermill": {
     "duration": 0.027316,
     "end_time": "2023-06-16T17:27:36.561612",
     "exception": false,
     "start_time": "2023-06-16T17:27:36.534296",
     "status": "completed"
    },
    "tags": []
   },
   "outputs": [
    {
     "data": {
      "text/plain": [
       "array(['Agra', 'Ahmedabad', 'Allahabad(Prayagraj)', 'Amritsar',\n",
       "       'Asansol Durgapur', 'Aurangabad', 'Bengaluru', 'Bhopal',\n",
       "       'Chandigarh', 'Chennai', 'Coimbatore', 'Delhi', 'Dhanbad',\n",
       "       'Faridabad', 'Ghaziabad', 'Gwalior', 'Hyderabad', 'Indore',\n",
       "       'Jabalpur', 'Jaipur', 'Jamshedpur', 'Jodhpur', 'Kannur', 'Kanpur',\n",
       "       'Khozikode', 'Kochi', 'Kolkata', 'Kollam', 'Kota', 'Lucknow',\n",
       "       'Ludhiana', 'Madurai', 'Mallapuram', 'Meerut', 'Mumbai', 'Nagpur',\n",
       "       'Nashik', 'Patna', 'Pune', 'Raipur', 'Rajkot', 'Srinagar', 'Surat',\n",
       "       'Thiruvanthapuram', 'Thrissur', 'Tiruchirapalli', 'Vadodra',\n",
       "       'Varanasi', 'Vijaywada city', 'vizag'], dtype=object)"
      ]
     },
     "execution_count": 23,
     "metadata": {},
     "output_type": "execute_result"
    }
   ],
   "source": [
    "df[\"Million Plus Cities\"].unique()"
   ]
  },
  {
   "cell_type": "code",
   "execution_count": null,
   "id": "1aac0e99",
   "metadata": {
    "execution": {
     "iopub.execute_input": "2023-06-16T17:27:36.638377Z",
     "iopub.status.busy": "2023-06-16T17:27:36.637640Z",
     "iopub.status.idle": "2023-06-16T17:27:36.642137Z",
     "shell.execute_reply": "2023-06-16T17:27:36.641350Z"
    },
    "papermill": {
     "duration": 0.023945,
     "end_time": "2023-06-16T17:27:36.644412",
     "exception": false,
     "start_time": "2023-06-16T17:27:36.620467",
     "status": "completed"
    },
    "tags": []
   },
   "outputs": [],
   "source": [
    "# dataset contains road accident data of 50 different cities"
   ]
  },
  {
   "cell_type": "markdown",
   "id": "3c212a1c",
   "metadata": {
    "papermill": {
     "duration": 0.015565,
     "end_time": "2023-06-16T17:27:36.677492",
     "exception": false,
     "start_time": "2023-06-16T17:27:36.661927",
     "status": "completed"
    },
    "tags": []
   },
   "source": [
    "### convert the data type of the column count to int"
   ]
  },
  {
   "cell_type": "code",
   "execution_count": null,
   "id": "c0a31cde",
   "metadata": {
    "execution": {
     "iopub.execute_input": "2023-06-16T17:27:36.711217Z",
     "iopub.status.busy": "2023-06-16T17:27:36.710448Z",
     "iopub.status.idle": "2023-06-16T17:27:36.715981Z",
     "shell.execute_reply": "2023-06-16T17:27:36.715236Z"
    },
    "papermill": {
     "duration": 0.024977,
     "end_time": "2023-06-16T17:27:36.718236",
     "exception": false,
     "start_time": "2023-06-16T17:27:36.693259",
     "status": "completed"
    },
    "tags": []
   },
   "outputs": [],
   "source": [
    "df[\"Count\"]=df[\"Count\"].astype(\"int\")"
   ]
  },
  {
   "cell_type": "markdown",
   "id": "93b1ec18",
   "metadata": {
    "papermill": {
     "duration": 0.015651,
     "end_time": "2023-06-16T17:27:36.749563",
     "exception": false,
     "start_time": "2023-06-16T17:27:36.733912",
     "status": "completed"
    },
    "tags": []
   },
   "source": [
    "# plot for Outcome of Incident and Number of Incident"
   ]
  },
  {
   "cell_type": "code",
   "execution_count": null,
   "id": "a0f9002e",
   "metadata": {
    "execution": {
     "iopub.execute_input": "2023-06-16T17:27:36.783212Z",
     "iopub.status.busy": "2023-06-16T17:27:36.782420Z",
     "iopub.status.idle": "2023-06-16T17:27:36.793122Z",
     "shell.execute_reply": "2023-06-16T17:27:36.792309Z"
    },
    "papermill": {
     "duration": 0.030482,
     "end_time": "2023-06-16T17:27:36.795705",
     "exception": false,
     "start_time": "2023-06-16T17:27:36.765223",
     "status": "completed"
    },
    "tags": []
   },
   "outputs": [],
   "source": [
    "Outcome=df.groupby(by=\"Outcome of Incident\")[\"Count\"].sum()\n",
    "Outcome=Outcome.reset_index()\n",
    "Outcome.sort_values(by=\"Count\" ,ascending=False,inplace=True)"
   ]
  },
  {
   "cell_type": "code",
   "execution_count": null,
   "id": "e7fd8b2d",
   "metadata": {
    "execution": {
     "iopub.execute_input": "2023-06-16T17:27:36.829844Z",
     "iopub.status.busy": "2023-06-16T17:27:36.829079Z",
     "iopub.status.idle": "2023-06-16T17:27:38.446751Z",
     "shell.execute_reply": "2023-06-16T17:27:38.445952Z"
    },
    "papermill": {
     "duration": 1.637369,
     "end_time": "2023-06-16T17:27:38.449113",
     "exception": false,
     "start_time": "2023-06-16T17:27:36.811744",
     "status": "completed"
    },
    "tags": []
   },
   "outputs": [
    {
     "data": {
      "application/vnd.plotly.v1+json": {
       "config": {
        "plotlyServerURL": "https://plot.ly"
       },
       "data": [
        {
         "alignmentgroup": "True",
         "hovertemplate": "Outcome of Incident=%{x}<br>Count=%{y}<extra></extra>",
         "legendgroup": "Total number of Accidents",
         "marker": {
          "color": "#636efa",
          "pattern": {
           "shape": ""
          }
         },
         "name": "Total number of Accidents",
         "offsetgroup": "Total number of Accidents",
         "orientation": "v",
         "showlegend": true,
         "textposition": "auto",
         "type": "bar",
         "x": [
          "Total number of Accidents"
         ],
         "xaxis": "x",
         "y": [
          352416
         ],
         "yaxis": "y"
        },
        {
         "alignmentgroup": "True",
         "hovertemplate": "Outcome of Incident=%{x}<br>Count=%{y}<extra></extra>",
         "legendgroup": "Total Injured",
         "marker": {
          "color": "#EF553B",
          "pattern": {
           "shape": ""
          }
         },
         "name": "Total Injured",
         "offsetgroup": "Total Injured",
         "orientation": "v",
         "showlegend": true,
         "textposition": "auto",
         "type": "bar",
         "x": [
          "Total Injured"
         ],
         "xaxis": "x",
         "y": [
          252575
         ],
         "yaxis": "y"
        },
        {
         "alignmentgroup": "True",
         "hovertemplate": "Outcome of Incident=%{x}<br>Count=%{y}<extra></extra>",
         "legendgroup": "Minor Injury",
         "marker": {
          "color": "#00cc96",
          "pattern": {
           "shape": ""
          }
         },
         "name": "Minor Injury",
         "offsetgroup": "Minor Injury",
         "orientation": "v",
         "showlegend": true,
         "textposition": "auto",
         "type": "bar",
         "x": [
          "Minor Injury"
         ],
         "xaxis": "x",
         "y": [
          179898
         ],
         "yaxis": "y"
        },
        {
         "alignmentgroup": "True",
         "hovertemplate": "Outcome of Incident=%{x}<br>Count=%{y}<extra></extra>",
         "legendgroup": "Greviously Injured",
         "marker": {
          "color": "#ab63fa",
          "pattern": {
           "shape": ""
          }
         },
         "name": "Greviously Injured",
         "offsetgroup": "Greviously Injured",
         "orientation": "v",
         "showlegend": true,
         "textposition": "auto",
         "type": "bar",
         "x": [
          "Greviously Injured"
         ],
         "xaxis": "x",
         "y": [
          123192
         ],
         "yaxis": "y"
        },
        {
         "alignmentgroup": "True",
         "hovertemplate": "Outcome of Incident=%{x}<br>Count=%{y}<extra></extra>",
         "legendgroup": "Persons Killed",
         "marker": {
          "color": "#FFA15A",
          "pattern": {
           "shape": ""
          }
         },
         "name": "Persons Killed",
         "offsetgroup": "Persons Killed",
         "orientation": "v",
         "showlegend": true,
         "textposition": "auto",
         "type": "bar",
         "x": [
          "Persons Killed"
         ],
         "xaxis": "x",
         "y": [
          81250
         ],
         "yaxis": "y"
        }
       ],
       "layout": {
        "barmode": "relative",
        "legend": {
         "title": {
          "text": "Outcome of Incident"
         },
         "tracegroupgap": 0
        },
        "template": {
         "data": {
          "bar": [
           {
            "error_x": {
             "color": "#2a3f5f"
            },
            "error_y": {
             "color": "#2a3f5f"
            },
            "marker": {
             "line": {
              "color": "#E5ECF6",
              "width": 0.5
             },
             "pattern": {
              "fillmode": "overlay",
              "size": 10,
              "solidity": 0.2
             }
            },
            "type": "bar"
           }
          ],
          "barpolar": [
           {
            "marker": {
             "line": {
              "color": "#E5ECF6",
              "width": 0.5
             },
             "pattern": {
              "fillmode": "overlay",
              "size": 10,
              "solidity": 0.2
             }
            },
            "type": "barpolar"
           }
          ],
          "carpet": [
           {
            "aaxis": {
             "endlinecolor": "#2a3f5f",
             "gridcolor": "white",
             "linecolor": "white",
             "minorgridcolor": "white",
             "startlinecolor": "#2a3f5f"
            },
            "baxis": {
             "endlinecolor": "#2a3f5f",
             "gridcolor": "white",
             "linecolor": "white",
             "minorgridcolor": "white",
             "startlinecolor": "#2a3f5f"
            },
            "type": "carpet"
           }
          ],
          "choropleth": [
           {
            "colorbar": {
             "outlinewidth": 0,
             "ticks": ""
            },
            "type": "choropleth"
           }
          ],
          "contour": [
           {
            "colorbar": {
             "outlinewidth": 0,
             "ticks": ""
            },
            "colorscale": [
             [
              0,
              "#0d0887"
             ],
             [
              0.1111111111111111,
              "#46039f"
             ],
             [
              0.2222222222222222,
              "#7201a8"
             ],
             [
              0.3333333333333333,
              "#9c179e"
             ],
             [
              0.4444444444444444,
              "#bd3786"
             ],
             [
              0.5555555555555556,
              "#d8576b"
             ],
             [
              0.6666666666666666,
              "#ed7953"
             ],
             [
              0.7777777777777778,
              "#fb9f3a"
             ],
             [
              0.8888888888888888,
              "#fdca26"
             ],
             [
              1,
              "#f0f921"
             ]
            ],
            "type": "contour"
           }
          ],
          "contourcarpet": [
           {
            "colorbar": {
             "outlinewidth": 0,
             "ticks": ""
            },
            "type": "contourcarpet"
           }
          ],
          "heatmap": [
           {
            "colorbar": {
             "outlinewidth": 0,
             "ticks": ""
            },
            "colorscale": [
             [
              0,
              "#0d0887"
             ],
             [
              0.1111111111111111,
              "#46039f"
             ],
             [
              0.2222222222222222,
              "#7201a8"
             ],
             [
              0.3333333333333333,
              "#9c179e"
             ],
             [
              0.4444444444444444,
              "#bd3786"
             ],
             [
              0.5555555555555556,
              "#d8576b"
             ],
             [
              0.6666666666666666,
              "#ed7953"
             ],
             [
              0.7777777777777778,
              "#fb9f3a"
             ],
             [
              0.8888888888888888,
              "#fdca26"
             ],
             [
              1,
              "#f0f921"
             ]
            ],
            "type": "heatmap"
           }
          ],
          "heatmapgl": [
           {
            "colorbar": {
             "outlinewidth": 0,
             "ticks": ""
            },
            "colorscale": [
             [
              0,
              "#0d0887"
             ],
             [
              0.1111111111111111,
              "#46039f"
             ],
             [
              0.2222222222222222,
              "#7201a8"
             ],
             [
              0.3333333333333333,
              "#9c179e"
             ],
             [
              0.4444444444444444,
              "#bd3786"
             ],
             [
              0.5555555555555556,
              "#d8576b"
             ],
             [
              0.6666666666666666,
              "#ed7953"
             ],
             [
              0.7777777777777778,
              "#fb9f3a"
             ],
             [
              0.8888888888888888,
              "#fdca26"
             ],
             [
              1,
              "#f0f921"
             ]
            ],
            "type": "heatmapgl"
           }
          ],
          "histogram": [
           {
            "marker": {
             "pattern": {
              "fillmode": "overlay",
              "size": 10,
              "solidity": 0.2
             }
            },
            "type": "histogram"
           }
          ],
          "histogram2d": [
           {
            "colorbar": {
             "outlinewidth": 0,
             "ticks": ""
            },
            "colorscale": [
             [
              0,
              "#0d0887"
             ],
             [
              0.1111111111111111,
              "#46039f"
             ],
             [
              0.2222222222222222,
              "#7201a8"
             ],
             [
              0.3333333333333333,
              "#9c179e"
             ],
             [
              0.4444444444444444,
              "#bd3786"
             ],
             [
              0.5555555555555556,
              "#d8576b"
             ],
             [
              0.6666666666666666,
              "#ed7953"
             ],
             [
              0.7777777777777778,
              "#fb9f3a"
             ],
             [
              0.8888888888888888,
              "#fdca26"
             ],
             [
              1,
              "#f0f921"
             ]
            ],
            "type": "histogram2d"
           }
          ],
          "histogram2dcontour": [
           {
            "colorbar": {
             "outlinewidth": 0,
             "ticks": ""
            },
            "colorscale": [
             [
              0,
              "#0d0887"
             ],
             [
              0.1111111111111111,
              "#46039f"
             ],
             [
              0.2222222222222222,
              "#7201a8"
             ],
             [
              0.3333333333333333,
              "#9c179e"
             ],
             [
              0.4444444444444444,
              "#bd3786"
             ],
             [
              0.5555555555555556,
              "#d8576b"
             ],
             [
              0.6666666666666666,
              "#ed7953"
             ],
             [
              0.7777777777777778,
              "#fb9f3a"
             ],
             [
              0.8888888888888888,
              "#fdca26"
             ],
             [
              1,
              "#f0f921"
             ]
            ],
            "type": "histogram2dcontour"
           }
          ],
          "mesh3d": [
           {
            "colorbar": {
             "outlinewidth": 0,
             "ticks": ""
            },
            "type": "mesh3d"
           }
          ],
          "parcoords": [
           {
            "line": {
             "colorbar": {
              "outlinewidth": 0,
              "ticks": ""
             }
            },
            "type": "parcoords"
           }
          ],
          "pie": [
           {
            "automargin": true,
            "type": "pie"
           }
          ],
          "scatter": [
           {
            "fillpattern": {
             "fillmode": "overlay",
             "size": 10,
             "solidity": 0.2
            },
            "type": "scatter"
           }
          ],
          "scatter3d": [
           {
            "line": {
             "colorbar": {
              "outlinewidth": 0,
              "ticks": ""
             }
            },
            "marker": {
             "colorbar": {
              "outlinewidth": 0,
              "ticks": ""
             }
            },
            "type": "scatter3d"
           }
          ],
          "scattercarpet": [
           {
            "marker": {
             "colorbar": {
              "outlinewidth": 0,
              "ticks": ""
             }
            },
            "type": "scattercarpet"
           }
          ],
          "scattergeo": [
           {
            "marker": {
             "colorbar": {
              "outlinewidth": 0,
              "ticks": ""
             }
            },
            "type": "scattergeo"
           }
          ],
          "scattergl": [
           {
            "marker": {
             "colorbar": {
              "outlinewidth": 0,
              "ticks": ""
             }
            },
            "type": "scattergl"
           }
          ],
          "scattermapbox": [
           {
            "marker": {
             "colorbar": {
              "outlinewidth": 0,
              "ticks": ""
             }
            },
            "type": "scattermapbox"
           }
          ],
          "scatterpolar": [
           {
            "marker": {
             "colorbar": {
              "outlinewidth": 0,
              "ticks": ""
             }
            },
            "type": "scatterpolar"
           }
          ],
          "scatterpolargl": [
           {
            "marker": {
             "colorbar": {
              "outlinewidth": 0,
              "ticks": ""
             }
            },
            "type": "scatterpolargl"
           }
          ],
          "scatterternary": [
           {
            "marker": {
             "colorbar": {
              "outlinewidth": 0,
              "ticks": ""
             }
            },
            "type": "scatterternary"
           }
          ],
          "surface": [
           {
            "colorbar": {
             "outlinewidth": 0,
             "ticks": ""
            },
            "colorscale": [
             [
              0,
              "#0d0887"
             ],
             [
              0.1111111111111111,
              "#46039f"
             ],
             [
              0.2222222222222222,
              "#7201a8"
             ],
             [
              0.3333333333333333,
              "#9c179e"
             ],
             [
              0.4444444444444444,
              "#bd3786"
             ],
             [
              0.5555555555555556,
              "#d8576b"
             ],
             [
              0.6666666666666666,
              "#ed7953"
             ],
             [
              0.7777777777777778,
              "#fb9f3a"
             ],
             [
              0.8888888888888888,
              "#fdca26"
             ],
             [
              1,
              "#f0f921"
             ]
            ],
            "type": "surface"
           }
          ],
          "table": [
           {
            "cells": {
             "fill": {
              "color": "#EBF0F8"
             },
             "line": {
              "color": "white"
             }
            },
            "header": {
             "fill": {
              "color": "#C8D4E3"
             },
             "line": {
              "color": "white"
             }
            },
            "type": "table"
           }
          ]
         },
         "layout": {
          "annotationdefaults": {
           "arrowcolor": "#2a3f5f",
           "arrowhead": 0,
           "arrowwidth": 1
          },
          "autotypenumbers": "strict",
          "coloraxis": {
           "colorbar": {
            "outlinewidth": 0,
            "ticks": ""
           }
          },
          "colorscale": {
           "diverging": [
            [
             0,
             "#8e0152"
            ],
            [
             0.1,
             "#c51b7d"
            ],
            [
             0.2,
             "#de77ae"
            ],
            [
             0.3,
             "#f1b6da"
            ],
            [
             0.4,
             "#fde0ef"
            ],
            [
             0.5,
             "#f7f7f7"
            ],
            [
             0.6,
             "#e6f5d0"
            ],
            [
             0.7,
             "#b8e186"
            ],
            [
             0.8,
             "#7fbc41"
            ],
            [
             0.9,
             "#4d9221"
            ],
            [
             1,
             "#276419"
            ]
           ],
           "sequential": [
            [
             0,
             "#0d0887"
            ],
            [
             0.1111111111111111,
             "#46039f"
            ],
            [
             0.2222222222222222,
             "#7201a8"
            ],
            [
             0.3333333333333333,
             "#9c179e"
            ],
            [
             0.4444444444444444,
             "#bd3786"
            ],
            [
             0.5555555555555556,
             "#d8576b"
            ],
            [
             0.6666666666666666,
             "#ed7953"
            ],
            [
             0.7777777777777778,
             "#fb9f3a"
            ],
            [
             0.8888888888888888,
             "#fdca26"
            ],
            [
             1,
             "#f0f921"
            ]
           ],
           "sequentialminus": [
            [
             0,
             "#0d0887"
            ],
            [
             0.1111111111111111,
             "#46039f"
            ],
            [
             0.2222222222222222,
             "#7201a8"
            ],
            [
             0.3333333333333333,
             "#9c179e"
            ],
            [
             0.4444444444444444,
             "#bd3786"
            ],
            [
             0.5555555555555556,
             "#d8576b"
            ],
            [
             0.6666666666666666,
             "#ed7953"
            ],
            [
             0.7777777777777778,
             "#fb9f3a"
            ],
            [
             0.8888888888888888,
             "#fdca26"
            ],
            [
             1,
             "#f0f921"
            ]
           ]
          },
          "colorway": [
           "#636efa",
           "#EF553B",
           "#00cc96",
           "#ab63fa",
           "#FFA15A",
           "#19d3f3",
           "#FF6692",
           "#B6E880",
           "#FF97FF",
           "#FECB52"
          ],
          "font": {
           "color": "#2a3f5f"
          },
          "geo": {
           "bgcolor": "white",
           "lakecolor": "white",
           "landcolor": "#E5ECF6",
           "showlakes": true,
           "showland": true,
           "subunitcolor": "white"
          },
          "hoverlabel": {
           "align": "left"
          },
          "hovermode": "closest",
          "mapbox": {
           "style": "light"
          },
          "paper_bgcolor": "white",
          "plot_bgcolor": "#E5ECF6",
          "polar": {
           "angularaxis": {
            "gridcolor": "white",
            "linecolor": "white",
            "ticks": ""
           },
           "bgcolor": "#E5ECF6",
           "radialaxis": {
            "gridcolor": "white",
            "linecolor": "white",
            "ticks": ""
           }
          },
          "scene": {
           "xaxis": {
            "backgroundcolor": "#E5ECF6",
            "gridcolor": "white",
            "gridwidth": 2,
            "linecolor": "white",
            "showbackground": true,
            "ticks": "",
            "zerolinecolor": "white"
           },
           "yaxis": {
            "backgroundcolor": "#E5ECF6",
            "gridcolor": "white",
            "gridwidth": 2,
            "linecolor": "white",
            "showbackground": true,
            "ticks": "",
            "zerolinecolor": "white"
           },
           "zaxis": {
            "backgroundcolor": "#E5ECF6",
            "gridcolor": "white",
            "gridwidth": 2,
            "linecolor": "white",
            "showbackground": true,
            "ticks": "",
            "zerolinecolor": "white"
           }
          },
          "shapedefaults": {
           "line": {
            "color": "#2a3f5f"
           }
          },
          "ternary": {
           "aaxis": {
            "gridcolor": "white",
            "linecolor": "white",
            "ticks": ""
           },
           "baxis": {
            "gridcolor": "white",
            "linecolor": "white",
            "ticks": ""
           },
           "bgcolor": "#E5ECF6",
           "caxis": {
            "gridcolor": "white",
            "linecolor": "white",
            "ticks": ""
           }
          },
          "title": {
           "x": 0.05
          },
          "xaxis": {
           "automargin": true,
           "gridcolor": "white",
           "linecolor": "white",
           "ticks": "",
           "title": {
            "standoff": 15
           },
           "zerolinecolor": "white",
           "zerolinewidth": 2
          },
          "yaxis": {
           "automargin": true,
           "gridcolor": "white",
           "linecolor": "white",
           "ticks": "",
           "title": {
            "standoff": 15
           },
           "zerolinecolor": "white",
           "zerolinewidth": 2
          }
         }
        },
        "title": {
         "text": "OutCome vs Count of Incident"
        },
        "xaxis": {
         "anchor": "y",
         "categoryarray": [
          "Total number of Accidents",
          "Total Injured",
          "Minor Injury",
          "Greviously Injured",
          "Persons Killed"
         ],
         "categoryorder": "array",
         "domain": [
          0,
          1
         ],
         "title": {
          "text": "Outcome of Incident"
         }
        },
        "yaxis": {
         "anchor": "x",
         "domain": [
          0,
          1
         ],
         "title": {
          "text": "Count"
         }
        }
       }
      }
     },
     "metadata": {},
     "output_type": "display_data"
    }
   ],
   "source": [
    "px.bar(Outcome,x=\"Outcome of Incident\",y=\"Count\",color=\"Outcome of Incident\",title=\"OutCome vs Count of Incident\")"
   ]
  },
  {
   "cell_type": "markdown",
   "id": "7b492308",
   "metadata": {
    "papermill": {
     "duration": 0.015965,
     "end_time": "2023-06-16T17:27:38.481929",
     "exception": false,
     "start_time": "2023-06-16T17:27:38.465964",
     "status": "completed"
    },
    "tags": []
   },
   "source": [
    "# Accident COunt in each City"
   ]
  },
  {
   "cell_type": "code",
   "execution_count": null,
   "id": "350e2633",
   "metadata": {
    "execution": {
     "iopub.execute_input": "2023-06-16T17:27:38.516766Z",
     "iopub.status.busy": "2023-06-16T17:27:38.515971Z",
     "iopub.status.idle": "2023-06-16T17:27:38.531747Z",
     "shell.execute_reply": "2023-06-16T17:27:38.530973Z"
    },
    "papermill": {
     "duration": 0.036098,
     "end_time": "2023-06-16T17:27:38.534196",
     "exception": false,
     "start_time": "2023-06-16T17:27:38.498098",
     "status": "completed"
    },
    "tags": []
   },
   "outputs": [],
   "source": [
    "accident_count=df[df[\"Outcome of Incident\"]==\"Total number of Accidents\"].groupby(by=\"Million Plus Cities\")[\"Count\"].sum().sort_values(ascending=False).reset_index()"
   ]
  },
  {
   "cell_type": "code",
   "execution_count": null,
   "id": "eacb5449",
   "metadata": {
    "execution": {
     "iopub.execute_input": "2023-06-16T17:27:38.568808Z",
     "iopub.status.busy": "2023-06-16T17:27:38.567995Z",
     "iopub.status.idle": "2023-06-16T17:27:38.573795Z",
     "shell.execute_reply": "2023-06-16T17:27:38.572944Z"
    },
    "papermill": {
     "duration": 0.025881,
     "end_time": "2023-06-16T17:27:38.576211",
     "exception": false,
     "start_time": "2023-06-16T17:27:38.550330",
     "status": "completed"
    },
    "tags": []
   },
   "outputs": [],
   "source": [
    "accident_count[\"Count\"]=accident_count[\"Count\"].astype(\"int\")"
   ]
  },
  {
   "cell_type": "code",
   "execution_count": null,
   "id": "8635feed",
   "metadata": {
    "execution": {
     "iopub.execute_input": "2023-06-16T17:27:38.611785Z",
     "iopub.status.busy": "2023-06-16T17:27:38.610994Z",
     "iopub.status.idle": "2023-06-16T17:27:38.866034Z",
     "shell.execute_reply": "2023-06-16T17:27:38.865101Z"
    },
    "papermill": {
     "duration": 0.275915,
     "end_time": "2023-06-16T17:27:38.868375",
     "exception": false,
     "start_time": "2023-06-16T17:27:38.592460",
     "status": "completed"
    },
    "tags": []
   },
   "outputs": [
    {
     "data": {
      "application/vnd.plotly.v1+json": {
       "config": {
        "plotlyServerURL": "https://plot.ly"
       },
       "data": [
        {
         "alignmentgroup": "True",
         "hovertemplate": "Million Plus Cities=%{x}<br>Count=%{marker.color}<extra></extra>",
         "legendgroup": "",
         "marker": {
          "color": [
           26334,
           25068,
           19398,
           19356,
           18216,
           13770,
           12384,
           11640,
           10872,
           10794,
           10704,
           10596,
           10590,
           10098,
           8784,
           8622,
           8466,
           7344,
           7284,
           7110,
           6912,
           6432,
           6018,
           5676,
           5436,
           4638,
           4350,
           4248,
           4242,
           3450,
           3180,
           3024,
           2934,
           2892,
           2886,
           2670,
           2592,
           2568,
           2508,
           2496,
           2436,
           2388,
           2238,
           2118,
           1752,
           1650,
           984,
           954,
           714,
           600
          ],
          "coloraxis": "coloraxis",
          "pattern": {
           "shape": ""
          }
         },
         "name": "",
         "offsetgroup": "",
         "orientation": "v",
         "showlegend": false,
         "text": [
          26334,
          25068,
          19398,
          19356,
          18216,
          13770,
          12384,
          11640,
          10872,
          10794,
          10704,
          10596,
          10590,
          10098,
          8784,
          8622,
          8466,
          7344,
          7284,
          7110,
          6912,
          6432,
          6018,
          5676,
          5436,
          4638,
          4350,
          4248,
          4242,
          3450,
          3180,
          3024,
          2934,
          2892,
          2886,
          2670,
          2592,
          2568,
          2508,
          2496,
          2436,
          2388,
          2238,
          2118,
          1752,
          1650,
          984,
          954,
          714,
          600
         ],
         "textposition": "auto",
         "type": "bar",
         "x": [
          "Chennai",
          "Delhi",
          "Bengaluru",
          "Jabalpur",
          "Indore",
          "Bhopal",
          "Hyderabad",
          "Jaipur",
          "Mumbai",
          "Gwalior",
          "Mallapuram",
          "Raipur",
          "vizag",
          "Kolkata",
          "Thrissur",
          "Kochi",
          "Kollam",
          "Kanpur",
          "Thiruvanthapuram",
          "Ahmedabad",
          "Allahabad(Prayagraj)",
          "Vijaywada city",
          "Khozikode",
          "Lucknow",
          "Agra",
          "Nagpur",
          "Meerut",
          "Ghaziabad",
          "Coimbatore",
          "Surat",
          "Madurai",
          "Kannur",
          "Faridabad",
          "Pune",
          "Vadodra",
          "Varanasi",
          "Rajkot",
          "Asansol Durgapur",
          "Ludhiana",
          "Nashik",
          "Aurangabad",
          "Tiruchirapalli",
          "Patna",
          "Kota",
          "Jodhpur",
          "Srinagar",
          "Dhanbad",
          "Chandigarh",
          "Jamshedpur",
          "Amritsar"
         ],
         "xaxis": "x",
         "y": [
          26334,
          25068,
          19398,
          19356,
          18216,
          13770,
          12384,
          11640,
          10872,
          10794,
          10704,
          10596,
          10590,
          10098,
          8784,
          8622,
          8466,
          7344,
          7284,
          7110,
          6912,
          6432,
          6018,
          5676,
          5436,
          4638,
          4350,
          4248,
          4242,
          3450,
          3180,
          3024,
          2934,
          2892,
          2886,
          2670,
          2592,
          2568,
          2508,
          2496,
          2436,
          2388,
          2238,
          2118,
          1752,
          1650,
          984,
          954,
          714,
          600
         ],
         "yaxis": "y"
        }
       ],
       "layout": {
        "barmode": "relative",
        "coloraxis": {
         "colorbar": {
          "title": {
           "text": "Count"
          }
         },
         "colorscale": [
          [
           0,
           "#0d0887"
          ],
          [
           0.1111111111111111,
           "#46039f"
          ],
          [
           0.2222222222222222,
           "#7201a8"
          ],
          [
           0.3333333333333333,
           "#9c179e"
          ],
          [
           0.4444444444444444,
           "#bd3786"
          ],
          [
           0.5555555555555556,
           "#d8576b"
          ],
          [
           0.6666666666666666,
           "#ed7953"
          ],
          [
           0.7777777777777778,
           "#fb9f3a"
          ],
          [
           0.8888888888888888,
           "#fdca26"
          ],
          [
           1,
           "#f0f921"
          ]
         ]
        },
        "legend": {
         "tracegroupgap": 0
        },
        "template": {
         "data": {
          "bar": [
           {
            "error_x": {
             "color": "#2a3f5f"
            },
            "error_y": {
             "color": "#2a3f5f"
            },
            "marker": {
             "line": {
              "color": "#E5ECF6",
              "width": 0.5
             },
             "pattern": {
              "fillmode": "overlay",
              "size": 10,
              "solidity": 0.2
             }
            },
            "type": "bar"
           }
          ],
          "barpolar": [
           {
            "marker": {
             "line": {
              "color": "#E5ECF6",
              "width": 0.5
             },
             "pattern": {
              "fillmode": "overlay",
              "size": 10,
              "solidity": 0.2
             }
            },
            "type": "barpolar"
           }
          ],
          "carpet": [
           {
            "aaxis": {
             "endlinecolor": "#2a3f5f",
             "gridcolor": "white",
             "linecolor": "white",
             "minorgridcolor": "white",
             "startlinecolor": "#2a3f5f"
            },
            "baxis": {
             "endlinecolor": "#2a3f5f",
             "gridcolor": "white",
             "linecolor": "white",
             "minorgridcolor": "white",
             "startlinecolor": "#2a3f5f"
            },
            "type": "carpet"
           }
          ],
          "choropleth": [
           {
            "colorbar": {
             "outlinewidth": 0,
             "ticks": ""
            },
            "type": "choropleth"
           }
          ],
          "contour": [
           {
            "colorbar": {
             "outlinewidth": 0,
             "ticks": ""
            },
            "colorscale": [
             [
              0,
              "#0d0887"
             ],
             [
              0.1111111111111111,
              "#46039f"
             ],
             [
              0.2222222222222222,
              "#7201a8"
             ],
             [
              0.3333333333333333,
              "#9c179e"
             ],
             [
              0.4444444444444444,
              "#bd3786"
             ],
             [
              0.5555555555555556,
              "#d8576b"
             ],
             [
              0.6666666666666666,
              "#ed7953"
             ],
             [
              0.7777777777777778,
              "#fb9f3a"
             ],
             [
              0.8888888888888888,
              "#fdca26"
             ],
             [
              1,
              "#f0f921"
             ]
            ],
            "type": "contour"
           }
          ],
          "contourcarpet": [
           {
            "colorbar": {
             "outlinewidth": 0,
             "ticks": ""
            },
            "type": "contourcarpet"
           }
          ],
          "heatmap": [
           {
            "colorbar": {
             "outlinewidth": 0,
             "ticks": ""
            },
            "colorscale": [
             [
              0,
              "#0d0887"
             ],
             [
              0.1111111111111111,
              "#46039f"
             ],
             [
              0.2222222222222222,
              "#7201a8"
             ],
             [
              0.3333333333333333,
              "#9c179e"
             ],
             [
              0.4444444444444444,
              "#bd3786"
             ],
             [
              0.5555555555555556,
              "#d8576b"
             ],
             [
              0.6666666666666666,
              "#ed7953"
             ],
             [
              0.7777777777777778,
              "#fb9f3a"
             ],
             [
              0.8888888888888888,
              "#fdca26"
             ],
             [
              1,
              "#f0f921"
             ]
            ],
            "type": "heatmap"
           }
          ],
          "heatmapgl": [
           {
            "colorbar": {
             "outlinewidth": 0,
             "ticks": ""
            },
            "colorscale": [
             [
              0,
              "#0d0887"
             ],
             [
              0.1111111111111111,
              "#46039f"
             ],
             [
              0.2222222222222222,
              "#7201a8"
             ],
             [
              0.3333333333333333,
              "#9c179e"
             ],
             [
              0.4444444444444444,
              "#bd3786"
             ],
             [
              0.5555555555555556,
              "#d8576b"
             ],
             [
              0.6666666666666666,
              "#ed7953"
             ],
             [
              0.7777777777777778,
              "#fb9f3a"
             ],
             [
              0.8888888888888888,
              "#fdca26"
             ],
             [
              1,
              "#f0f921"
             ]
            ],
            "type": "heatmapgl"
           }
          ],
          "histogram": [
           {
            "marker": {
             "pattern": {
              "fillmode": "overlay",
              "size": 10,
              "solidity": 0.2
             }
            },
            "type": "histogram"
           }
          ],
          "histogram2d": [
           {
            "colorbar": {
             "outlinewidth": 0,
             "ticks": ""
            },
            "colorscale": [
             [
              0,
              "#0d0887"
             ],
             [
              0.1111111111111111,
              "#46039f"
             ],
             [
              0.2222222222222222,
              "#7201a8"
             ],
             [
              0.3333333333333333,
              "#9c179e"
             ],
             [
              0.4444444444444444,
              "#bd3786"
             ],
             [
              0.5555555555555556,
              "#d8576b"
             ],
             [
              0.6666666666666666,
              "#ed7953"
             ],
             [
              0.7777777777777778,
              "#fb9f3a"
             ],
             [
              0.8888888888888888,
              "#fdca26"
             ],
             [
              1,
              "#f0f921"
             ]
            ],
            "type": "histogram2d"
           }
          ],
          "histogram2dcontour": [
           {
            "colorbar": {
             "outlinewidth": 0,
             "ticks": ""
            },
            "colorscale": [
             [
              0,
              "#0d0887"
             ],
             [
              0.1111111111111111,
              "#46039f"
             ],
             [
              0.2222222222222222,
              "#7201a8"
             ],
             [
              0.3333333333333333,
              "#9c179e"
             ],
             [
              0.4444444444444444,
              "#bd3786"
             ],
             [
              0.5555555555555556,
              "#d8576b"
             ],
             [
              0.6666666666666666,
              "#ed7953"
             ],
             [
              0.7777777777777778,
              "#fb9f3a"
             ],
             [
              0.8888888888888888,
              "#fdca26"
             ],
             [
              1,
              "#f0f921"
             ]
            ],
            "type": "histogram2dcontour"
           }
          ],
          "mesh3d": [
           {
            "colorbar": {
             "outlinewidth": 0,
             "ticks": ""
            },
            "type": "mesh3d"
           }
          ],
          "parcoords": [
           {
            "line": {
             "colorbar": {
              "outlinewidth": 0,
              "ticks": ""
             }
            },
            "type": "parcoords"
           }
          ],
          "pie": [
           {
            "automargin": true,
            "type": "pie"
           }
          ],
          "scatter": [
           {
            "fillpattern": {
             "fillmode": "overlay",
             "size": 10,
             "solidity": 0.2
            },
            "type": "scatter"
           }
          ],
          "scatter3d": [
           {
            "line": {
             "colorbar": {
              "outlinewidth": 0,
              "ticks": ""
             }
            },
            "marker": {
             "colorbar": {
              "outlinewidth": 0,
              "ticks": ""
             }
            },
            "type": "scatter3d"
           }
          ],
          "scattercarpet": [
           {
            "marker": {
             "colorbar": {
              "outlinewidth": 0,
              "ticks": ""
             }
            },
            "type": "scattercarpet"
           }
          ],
          "scattergeo": [
           {
            "marker": {
             "colorbar": {
              "outlinewidth": 0,
              "ticks": ""
             }
            },
            "type": "scattergeo"
           }
          ],
          "scattergl": [
           {
            "marker": {
             "colorbar": {
              "outlinewidth": 0,
              "ticks": ""
             }
            },
            "type": "scattergl"
           }
          ],
          "scattermapbox": [
           {
            "marker": {
             "colorbar": {
              "outlinewidth": 0,
              "ticks": ""
             }
            },
            "type": "scattermapbox"
           }
          ],
          "scatterpolar": [
           {
            "marker": {
             "colorbar": {
              "outlinewidth": 0,
              "ticks": ""
             }
            },
            "type": "scatterpolar"
           }
          ],
          "scatterpolargl": [
           {
            "marker": {
             "colorbar": {
              "outlinewidth": 0,
              "ticks": ""
             }
            },
            "type": "scatterpolargl"
           }
          ],
          "scatterternary": [
           {
            "marker": {
             "colorbar": {
              "outlinewidth": 0,
              "ticks": ""
             }
            },
            "type": "scatterternary"
           }
          ],
          "surface": [
           {
            "colorbar": {
             "outlinewidth": 0,
             "ticks": ""
            },
            "colorscale": [
             [
              0,
              "#0d0887"
             ],
             [
              0.1111111111111111,
              "#46039f"
             ],
             [
              0.2222222222222222,
              "#7201a8"
             ],
             [
              0.3333333333333333,
              "#9c179e"
             ],
             [
              0.4444444444444444,
              "#bd3786"
             ],
             [
              0.5555555555555556,
              "#d8576b"
             ],
             [
              0.6666666666666666,
              "#ed7953"
             ],
             [
              0.7777777777777778,
              "#fb9f3a"
             ],
             [
              0.8888888888888888,
              "#fdca26"
             ],
             [
              1,
              "#f0f921"
             ]
            ],
            "type": "surface"
           }
          ],
          "table": [
           {
            "cells": {
             "fill": {
              "color": "#EBF0F8"
             },
             "line": {
              "color": "white"
             }
            },
            "header": {
             "fill": {
              "color": "#C8D4E3"
             },
             "line": {
              "color": "white"
             }
            },
            "type": "table"
           }
          ]
         },
         "layout": {
          "annotationdefaults": {
           "arrowcolor": "#2a3f5f",
           "arrowhead": 0,
           "arrowwidth": 1
          },
          "autotypenumbers": "strict",
          "coloraxis": {
           "colorbar": {
            "outlinewidth": 0,
            "ticks": ""
           }
          },
          "colorscale": {
           "diverging": [
            [
             0,
             "#8e0152"
            ],
            [
             0.1,
             "#c51b7d"
            ],
            [
             0.2,
             "#de77ae"
            ],
            [
             0.3,
             "#f1b6da"
            ],
            [
             0.4,
             "#fde0ef"
            ],
            [
             0.5,
             "#f7f7f7"
            ],
            [
             0.6,
             "#e6f5d0"
            ],
            [
             0.7,
             "#b8e186"
            ],
            [
             0.8,
             "#7fbc41"
            ],
            [
             0.9,
             "#4d9221"
            ],
            [
             1,
             "#276419"
            ]
           ],
           "sequential": [
            [
             0,
             "#0d0887"
            ],
            [
             0.1111111111111111,
             "#46039f"
            ],
            [
             0.2222222222222222,
             "#7201a8"
            ],
            [
             0.3333333333333333,
             "#9c179e"
            ],
            [
             0.4444444444444444,
             "#bd3786"
            ],
            [
             0.5555555555555556,
             "#d8576b"
            ],
            [
             0.6666666666666666,
             "#ed7953"
            ],
            [
             0.7777777777777778,
             "#fb9f3a"
            ],
            [
             0.8888888888888888,
             "#fdca26"
            ],
            [
             1,
             "#f0f921"
            ]
           ],
           "sequentialminus": [
            [
             0,
             "#0d0887"
            ],
            [
             0.1111111111111111,
             "#46039f"
            ],
            [
             0.2222222222222222,
             "#7201a8"
            ],
            [
             0.3333333333333333,
             "#9c179e"
            ],
            [
             0.4444444444444444,
             "#bd3786"
            ],
            [
             0.5555555555555556,
             "#d8576b"
            ],
            [
             0.6666666666666666,
             "#ed7953"
            ],
            [
             0.7777777777777778,
             "#fb9f3a"
            ],
            [
             0.8888888888888888,
             "#fdca26"
            ],
            [
             1,
             "#f0f921"
            ]
           ]
          },
          "colorway": [
           "#636efa",
           "#EF553B",
           "#00cc96",
           "#ab63fa",
           "#FFA15A",
           "#19d3f3",
           "#FF6692",
           "#B6E880",
           "#FF97FF",
           "#FECB52"
          ],
          "font": {
           "color": "#2a3f5f"
          },
          "geo": {
           "bgcolor": "white",
           "lakecolor": "white",
           "landcolor": "#E5ECF6",
           "showlakes": true,
           "showland": true,
           "subunitcolor": "white"
          },
          "hoverlabel": {
           "align": "left"
          },
          "hovermode": "closest",
          "mapbox": {
           "style": "light"
          },
          "paper_bgcolor": "white",
          "plot_bgcolor": "#E5ECF6",
          "polar": {
           "angularaxis": {
            "gridcolor": "white",
            "linecolor": "white",
            "ticks": ""
           },
           "bgcolor": "#E5ECF6",
           "radialaxis": {
            "gridcolor": "white",
            "linecolor": "white",
            "ticks": ""
           }
          },
          "scene": {
           "xaxis": {
            "backgroundcolor": "#E5ECF6",
            "gridcolor": "white",
            "gridwidth": 2,
            "linecolor": "white",
            "showbackground": true,
            "ticks": "",
            "zerolinecolor": "white"
           },
           "yaxis": {
            "backgroundcolor": "#E5ECF6",
            "gridcolor": "white",
            "gridwidth": 2,
            "linecolor": "white",
            "showbackground": true,
            "ticks": "",
            "zerolinecolor": "white"
           },
           "zaxis": {
            "backgroundcolor": "#E5ECF6",
            "gridcolor": "white",
            "gridwidth": 2,
            "linecolor": "white",
            "showbackground": true,
            "ticks": "",
            "zerolinecolor": "white"
           }
          },
          "shapedefaults": {
           "line": {
            "color": "#2a3f5f"
           }
          },
          "ternary": {
           "aaxis": {
            "gridcolor": "white",
            "linecolor": "white",
            "ticks": ""
           },
           "baxis": {
            "gridcolor": "white",
            "linecolor": "white",
            "ticks": ""
           },
           "bgcolor": "#E5ECF6",
           "caxis": {
            "gridcolor": "white",
            "linecolor": "white",
            "ticks": ""
           }
          },
          "title": {
           "x": 0.05
          },
          "xaxis": {
           "automargin": true,
           "gridcolor": "white",
           "linecolor": "white",
           "ticks": "",
           "title": {
            "standoff": 15
           },
           "zerolinecolor": "white",
           "zerolinewidth": 2
          },
          "yaxis": {
           "automargin": true,
           "gridcolor": "white",
           "linecolor": "white",
           "ticks": "",
           "title": {
            "standoff": 15
           },
           "zerolinecolor": "white",
           "zerolinewidth": 2
          }
         }
        },
        "title": {
         "text": "City vs Accident Count"
        },
        "xaxis": {
         "anchor": "y",
         "domain": [
          0,
          1
         ],
         "title": {
          "text": "Million Plus Cities"
         }
        },
        "yaxis": {
         "anchor": "x",
         "domain": [
          0,
          1
         ],
         "title": {
          "text": "Count"
         }
        }
       }
      }
     },
     "metadata": {},
     "output_type": "display_data"
    }
   ],
   "source": [
    "px.bar(accident_count,\"Million Plus Cities\",\"Count\",color=\"Count\",title=\"City vs Accident Count\",text=\"Count\")"
   ]
  },
  {
   "cell_type": "markdown",
   "id": "3b656802",
   "metadata": {
    "papermill": {
     "duration": 0.015966,
     "end_time": "2023-06-16T17:27:38.900785",
     "exception": false,
     "start_time": "2023-06-16T17:27:38.884819",
     "status": "completed"
    },
    "tags": []
   },
   "source": [
    "#### variable for dropdown Menu to show top N data"
   ]
  },
  {
   "cell_type": "code",
   "execution_count": null,
   "id": "f3efcd24",
   "metadata": {
    "execution": {
     "iopub.execute_input": "2023-06-16T17:27:38.936720Z",
     "iopub.status.busy": "2023-06-16T17:27:38.936333Z",
     "iopub.status.idle": "2023-06-16T17:27:38.941241Z",
     "shell.execute_reply": "2023-06-16T17:27:38.940239Z"
    },
    "papermill": {
     "duration": 0.026208,
     "end_time": "2023-06-16T17:27:38.943407",
     "exception": false,
     "start_time": "2023-06-16T17:27:38.917199",
     "status": "completed"
    },
    "tags": []
   },
   "outputs": [],
   "source": [
    "Count=[]\n",
    "for i in range(25,0,-5):\n",
    "    Count.append(i)    \n",
    "Count.reverse()  "
   ]
  },
  {
   "cell_type": "markdown",
   "id": "0a04649c",
   "metadata": {
    "papermill": {
     "duration": 0.015955,
     "end_time": "2023-06-16T17:27:38.975805",
     "exception": false,
     "start_time": "2023-06-16T17:27:38.959850",
     "status": "completed"
    },
    "tags": []
   },
   "source": [
    "# Top N cities with Higher Accident Count"
   ]
  },
  {
   "cell_type": "code",
   "execution_count": null,
   "id": "5583f67d",
   "metadata": {
    "execution": {
     "iopub.execute_input": "2023-06-16T17:27:39.010856Z",
     "iopub.status.busy": "2023-06-16T17:27:39.010233Z",
     "iopub.status.idle": "2023-06-16T17:27:39.060112Z",
     "shell.execute_reply": "2023-06-16T17:27:39.059218Z"
    },
    "papermill": {
     "duration": 0.070119,
     "end_time": "2023-06-16T17:27:39.062508",
     "exception": false,
     "start_time": "2023-06-16T17:27:38.992389",
     "status": "completed"
    },
    "tags": []
   },
   "outputs": [
    {
     "data": {
      "application/vnd.plotly.v1+json": {
       "config": {
        "plotlyServerURL": "https://plot.ly"
       },
       "data": [
        {
         "marker": {
          "color": "sienna"
         },
         "text": [
          26334,
          25068,
          19398,
          19356,
          18216
         ],
         "type": "bar",
         "visible": true,
         "x": [
          "Chennai",
          "Delhi",
          "Bengaluru",
          "Jabalpur",
          "Indore"
         ],
         "y": [
          26334,
          25068,
          19398,
          19356,
          18216
         ]
        },
        {
         "marker": {
          "color": "sienna"
         },
         "text": [
          26334,
          25068,
          19398,
          19356,
          18216,
          13770,
          12384,
          11640,
          10872,
          10794
         ],
         "type": "bar",
         "visible": false,
         "x": [
          "Chennai",
          "Delhi",
          "Bengaluru",
          "Jabalpur",
          "Indore",
          "Bhopal",
          "Hyderabad",
          "Jaipur",
          "Mumbai",
          "Gwalior"
         ],
         "y": [
          26334,
          25068,
          19398,
          19356,
          18216,
          13770,
          12384,
          11640,
          10872,
          10794
         ]
        },
        {
         "marker": {
          "color": "sienna"
         },
         "text": [
          26334,
          25068,
          19398,
          19356,
          18216,
          13770,
          12384,
          11640,
          10872,
          10794,
          10704,
          10596,
          10590,
          10098,
          8784
         ],
         "type": "bar",
         "visible": false,
         "x": [
          "Chennai",
          "Delhi",
          "Bengaluru",
          "Jabalpur",
          "Indore",
          "Bhopal",
          "Hyderabad",
          "Jaipur",
          "Mumbai",
          "Gwalior",
          "Mallapuram",
          "Raipur",
          "vizag",
          "Kolkata",
          "Thrissur"
         ],
         "y": [
          26334,
          25068,
          19398,
          19356,
          18216,
          13770,
          12384,
          11640,
          10872,
          10794,
          10704,
          10596,
          10590,
          10098,
          8784
         ]
        },
        {
         "marker": {
          "color": "sienna"
         },
         "text": [
          26334,
          25068,
          19398,
          19356,
          18216,
          13770,
          12384,
          11640,
          10872,
          10794,
          10704,
          10596,
          10590,
          10098,
          8784,
          8622,
          8466,
          7344,
          7284,
          7110
         ],
         "type": "bar",
         "visible": false,
         "x": [
          "Chennai",
          "Delhi",
          "Bengaluru",
          "Jabalpur",
          "Indore",
          "Bhopal",
          "Hyderabad",
          "Jaipur",
          "Mumbai",
          "Gwalior",
          "Mallapuram",
          "Raipur",
          "vizag",
          "Kolkata",
          "Thrissur",
          "Kochi",
          "Kollam",
          "Kanpur",
          "Thiruvanthapuram",
          "Ahmedabad"
         ],
         "y": [
          26334,
          25068,
          19398,
          19356,
          18216,
          13770,
          12384,
          11640,
          10872,
          10794,
          10704,
          10596,
          10590,
          10098,
          8784,
          8622,
          8466,
          7344,
          7284,
          7110
         ]
        },
        {
         "marker": {
          "color": "sienna"
         },
         "text": [
          26334,
          25068,
          19398,
          19356,
          18216,
          13770,
          12384,
          11640,
          10872,
          10794,
          10704,
          10596,
          10590,
          10098,
          8784,
          8622,
          8466,
          7344,
          7284,
          7110,
          6912,
          6432,
          6018,
          5676,
          5436
         ],
         "type": "bar",
         "visible": false,
         "x": [
          "Chennai",
          "Delhi",
          "Bengaluru",
          "Jabalpur",
          "Indore",
          "Bhopal",
          "Hyderabad",
          "Jaipur",
          "Mumbai",
          "Gwalior",
          "Mallapuram",
          "Raipur",
          "vizag",
          "Kolkata",
          "Thrissur",
          "Kochi",
          "Kollam",
          "Kanpur",
          "Thiruvanthapuram",
          "Ahmedabad",
          "Allahabad(Prayagraj)",
          "Vijaywada city",
          "Khozikode",
          "Lucknow",
          "Agra"
         ],
         "y": [
          26334,
          25068,
          19398,
          19356,
          18216,
          13770,
          12384,
          11640,
          10872,
          10794,
          10704,
          10596,
          10590,
          10098,
          8784,
          8622,
          8466,
          7344,
          7284,
          7110,
          6912,
          6432,
          6018,
          5676,
          5436
         ]
        }
       ],
       "layout": {
        "showlegend": false,
        "template": {
         "data": {
          "bar": [
           {
            "error_x": {
             "color": "#2a3f5f"
            },
            "error_y": {
             "color": "#2a3f5f"
            },
            "marker": {
             "line": {
              "color": "#E5ECF6",
              "width": 0.5
             },
             "pattern": {
              "fillmode": "overlay",
              "size": 10,
              "solidity": 0.2
             }
            },
            "type": "bar"
           }
          ],
          "barpolar": [
           {
            "marker": {
             "line": {
              "color": "#E5ECF6",
              "width": 0.5
             },
             "pattern": {
              "fillmode": "overlay",
              "size": 10,
              "solidity": 0.2
             }
            },
            "type": "barpolar"
           }
          ],
          "carpet": [
           {
            "aaxis": {
             "endlinecolor": "#2a3f5f",
             "gridcolor": "white",
             "linecolor": "white",
             "minorgridcolor": "white",
             "startlinecolor": "#2a3f5f"
            },
            "baxis": {
             "endlinecolor": "#2a3f5f",
             "gridcolor": "white",
             "linecolor": "white",
             "minorgridcolor": "white",
             "startlinecolor": "#2a3f5f"
            },
            "type": "carpet"
           }
          ],
          "choropleth": [
           {
            "colorbar": {
             "outlinewidth": 0,
             "ticks": ""
            },
            "type": "choropleth"
           }
          ],
          "contour": [
           {
            "colorbar": {
             "outlinewidth": 0,
             "ticks": ""
            },
            "colorscale": [
             [
              0,
              "#0d0887"
             ],
             [
              0.1111111111111111,
              "#46039f"
             ],
             [
              0.2222222222222222,
              "#7201a8"
             ],
             [
              0.3333333333333333,
              "#9c179e"
             ],
             [
              0.4444444444444444,
              "#bd3786"
             ],
             [
              0.5555555555555556,
              "#d8576b"
             ],
             [
              0.6666666666666666,
              "#ed7953"
             ],
             [
              0.7777777777777778,
              "#fb9f3a"
             ],
             [
              0.8888888888888888,
              "#fdca26"
             ],
             [
              1,
              "#f0f921"
             ]
            ],
            "type": "contour"
           }
          ],
          "contourcarpet": [
           {
            "colorbar": {
             "outlinewidth": 0,
             "ticks": ""
            },
            "type": "contourcarpet"
           }
          ],
          "heatmap": [
           {
            "colorbar": {
             "outlinewidth": 0,
             "ticks": ""
            },
            "colorscale": [
             [
              0,
              "#0d0887"
             ],
             [
              0.1111111111111111,
              "#46039f"
             ],
             [
              0.2222222222222222,
              "#7201a8"
             ],
             [
              0.3333333333333333,
              "#9c179e"
             ],
             [
              0.4444444444444444,
              "#bd3786"
             ],
             [
              0.5555555555555556,
              "#d8576b"
             ],
             [
              0.6666666666666666,
              "#ed7953"
             ],
             [
              0.7777777777777778,
              "#fb9f3a"
             ],
             [
              0.8888888888888888,
              "#fdca26"
             ],
             [
              1,
              "#f0f921"
             ]
            ],
            "type": "heatmap"
           }
          ],
          "heatmapgl": [
           {
            "colorbar": {
             "outlinewidth": 0,
             "ticks": ""
            },
            "colorscale": [
             [
              0,
              "#0d0887"
             ],
             [
              0.1111111111111111,
              "#46039f"
             ],
             [
              0.2222222222222222,
              "#7201a8"
             ],
             [
              0.3333333333333333,
              "#9c179e"
             ],
             [
              0.4444444444444444,
              "#bd3786"
             ],
             [
              0.5555555555555556,
              "#d8576b"
             ],
             [
              0.6666666666666666,
              "#ed7953"
             ],
             [
              0.7777777777777778,
              "#fb9f3a"
             ],
             [
              0.8888888888888888,
              "#fdca26"
             ],
             [
              1,
              "#f0f921"
             ]
            ],
            "type": "heatmapgl"
           }
          ],
          "histogram": [
           {
            "marker": {
             "pattern": {
              "fillmode": "overlay",
              "size": 10,
              "solidity": 0.2
             }
            },
            "type": "histogram"
           }
          ],
          "histogram2d": [
           {
            "colorbar": {
             "outlinewidth": 0,
             "ticks": ""
            },
            "colorscale": [
             [
              0,
              "#0d0887"
             ],
             [
              0.1111111111111111,
              "#46039f"
             ],
             [
              0.2222222222222222,
              "#7201a8"
             ],
             [
              0.3333333333333333,
              "#9c179e"
             ],
             [
              0.4444444444444444,
              "#bd3786"
             ],
             [
              0.5555555555555556,
              "#d8576b"
             ],
             [
              0.6666666666666666,
              "#ed7953"
             ],
             [
              0.7777777777777778,
              "#fb9f3a"
             ],
             [
              0.8888888888888888,
              "#fdca26"
             ],
             [
              1,
              "#f0f921"
             ]
            ],
            "type": "histogram2d"
           }
          ],
          "histogram2dcontour": [
           {
            "colorbar": {
             "outlinewidth": 0,
             "ticks": ""
            },
            "colorscale": [
             [
              0,
              "#0d0887"
             ],
             [
              0.1111111111111111,
              "#46039f"
             ],
             [
              0.2222222222222222,
              "#7201a8"
             ],
             [
              0.3333333333333333,
              "#9c179e"
             ],
             [
              0.4444444444444444,
              "#bd3786"
             ],
             [
              0.5555555555555556,
              "#d8576b"
             ],
             [
              0.6666666666666666,
              "#ed7953"
             ],
             [
              0.7777777777777778,
              "#fb9f3a"
             ],
             [
              0.8888888888888888,
              "#fdca26"
             ],
             [
              1,
              "#f0f921"
             ]
            ],
            "type": "histogram2dcontour"
           }
          ],
          "mesh3d": [
           {
            "colorbar": {
             "outlinewidth": 0,
             "ticks": ""
            },
            "type": "mesh3d"
           }
          ],
          "parcoords": [
           {
            "line": {
             "colorbar": {
              "outlinewidth": 0,
              "ticks": ""
             }
            },
            "type": "parcoords"
           }
          ],
          "pie": [
           {
            "automargin": true,
            "type": "pie"
           }
          ],
          "scatter": [
           {
            "fillpattern": {
             "fillmode": "overlay",
             "size": 10,
             "solidity": 0.2
            },
            "type": "scatter"
           }
          ],
          "scatter3d": [
           {
            "line": {
             "colorbar": {
              "outlinewidth": 0,
              "ticks": ""
             }
            },
            "marker": {
             "colorbar": {
              "outlinewidth": 0,
              "ticks": ""
             }
            },
            "type": "scatter3d"
           }
          ],
          "scattercarpet": [
           {
            "marker": {
             "colorbar": {
              "outlinewidth": 0,
              "ticks": ""
             }
            },
            "type": "scattercarpet"
           }
          ],
          "scattergeo": [
           {
            "marker": {
             "colorbar": {
              "outlinewidth": 0,
              "ticks": ""
             }
            },
            "type": "scattergeo"
           }
          ],
          "scattergl": [
           {
            "marker": {
             "colorbar": {
              "outlinewidth": 0,
              "ticks": ""
             }
            },
            "type": "scattergl"
           }
          ],
          "scattermapbox": [
           {
            "marker": {
             "colorbar": {
              "outlinewidth": 0,
              "ticks": ""
             }
            },
            "type": "scattermapbox"
           }
          ],
          "scatterpolar": [
           {
            "marker": {
             "colorbar": {
              "outlinewidth": 0,
              "ticks": ""
             }
            },
            "type": "scatterpolar"
           }
          ],
          "scatterpolargl": [
           {
            "marker": {
             "colorbar": {
              "outlinewidth": 0,
              "ticks": ""
             }
            },
            "type": "scatterpolargl"
           }
          ],
          "scatterternary": [
           {
            "marker": {
             "colorbar": {
              "outlinewidth": 0,
              "ticks": ""
             }
            },
            "type": "scatterternary"
           }
          ],
          "surface": [
           {
            "colorbar": {
             "outlinewidth": 0,
             "ticks": ""
            },
            "colorscale": [
             [
              0,
              "#0d0887"
             ],
             [
              0.1111111111111111,
              "#46039f"
             ],
             [
              0.2222222222222222,
              "#7201a8"
             ],
             [
              0.3333333333333333,
              "#9c179e"
             ],
             [
              0.4444444444444444,
              "#bd3786"
             ],
             [
              0.5555555555555556,
              "#d8576b"
             ],
             [
              0.6666666666666666,
              "#ed7953"
             ],
             [
              0.7777777777777778,
              "#fb9f3a"
             ],
             [
              0.8888888888888888,
              "#fdca26"
             ],
             [
              1,
              "#f0f921"
             ]
            ],
            "type": "surface"
           }
          ],
          "table": [
           {
            "cells": {
             "fill": {
              "color": "#EBF0F8"
             },
             "line": {
              "color": "white"
             }
            },
            "header": {
             "fill": {
              "color": "#C8D4E3"
             },
             "line": {
              "color": "white"
             }
            },
            "type": "table"
           }
          ]
         },
         "layout": {
          "annotationdefaults": {
           "arrowcolor": "#2a3f5f",
           "arrowhead": 0,
           "arrowwidth": 1
          },
          "autotypenumbers": "strict",
          "coloraxis": {
           "colorbar": {
            "outlinewidth": 0,
            "ticks": ""
           }
          },
          "colorscale": {
           "diverging": [
            [
             0,
             "#8e0152"
            ],
            [
             0.1,
             "#c51b7d"
            ],
            [
             0.2,
             "#de77ae"
            ],
            [
             0.3,
             "#f1b6da"
            ],
            [
             0.4,
             "#fde0ef"
            ],
            [
             0.5,
             "#f7f7f7"
            ],
            [
             0.6,
             "#e6f5d0"
            ],
            [
             0.7,
             "#b8e186"
            ],
            [
             0.8,
             "#7fbc41"
            ],
            [
             0.9,
             "#4d9221"
            ],
            [
             1,
             "#276419"
            ]
           ],
           "sequential": [
            [
             0,
             "#0d0887"
            ],
            [
             0.1111111111111111,
             "#46039f"
            ],
            [
             0.2222222222222222,
             "#7201a8"
            ],
            [
             0.3333333333333333,
             "#9c179e"
            ],
            [
             0.4444444444444444,
             "#bd3786"
            ],
            [
             0.5555555555555556,
             "#d8576b"
            ],
            [
             0.6666666666666666,
             "#ed7953"
            ],
            [
             0.7777777777777778,
             "#fb9f3a"
            ],
            [
             0.8888888888888888,
             "#fdca26"
            ],
            [
             1,
             "#f0f921"
            ]
           ],
           "sequentialminus": [
            [
             0,
             "#0d0887"
            ],
            [
             0.1111111111111111,
             "#46039f"
            ],
            [
             0.2222222222222222,
             "#7201a8"
            ],
            [
             0.3333333333333333,
             "#9c179e"
            ],
            [
             0.4444444444444444,
             "#bd3786"
            ],
            [
             0.5555555555555556,
             "#d8576b"
            ],
            [
             0.6666666666666666,
             "#ed7953"
            ],
            [
             0.7777777777777778,
             "#fb9f3a"
            ],
            [
             0.8888888888888888,
             "#fdca26"
            ],
            [
             1,
             "#f0f921"
            ]
           ]
          },
          "colorway": [
           "#636efa",
           "#EF553B",
           "#00cc96",
           "#ab63fa",
           "#FFA15A",
           "#19d3f3",
           "#FF6692",
           "#B6E880",
           "#FF97FF",
           "#FECB52"
          ],
          "font": {
           "color": "#2a3f5f"
          },
          "geo": {
           "bgcolor": "white",
           "lakecolor": "white",
           "landcolor": "#E5ECF6",
           "showlakes": true,
           "showland": true,
           "subunitcolor": "white"
          },
          "hoverlabel": {
           "align": "left"
          },
          "hovermode": "closest",
          "mapbox": {
           "style": "light"
          },
          "paper_bgcolor": "white",
          "plot_bgcolor": "#E5ECF6",
          "polar": {
           "angularaxis": {
            "gridcolor": "white",
            "linecolor": "white",
            "ticks": ""
           },
           "bgcolor": "#E5ECF6",
           "radialaxis": {
            "gridcolor": "white",
            "linecolor": "white",
            "ticks": ""
           }
          },
          "scene": {
           "xaxis": {
            "backgroundcolor": "#E5ECF6",
            "gridcolor": "white",
            "gridwidth": 2,
            "linecolor": "white",
            "showbackground": true,
            "ticks": "",
            "zerolinecolor": "white"
           },
           "yaxis": {
            "backgroundcolor": "#E5ECF6",
            "gridcolor": "white",
            "gridwidth": 2,
            "linecolor": "white",
            "showbackground": true,
            "ticks": "",
            "zerolinecolor": "white"
           },
           "zaxis": {
            "backgroundcolor": "#E5ECF6",
            "gridcolor": "white",
            "gridwidth": 2,
            "linecolor": "white",
            "showbackground": true,
            "ticks": "",
            "zerolinecolor": "white"
           }
          },
          "shapedefaults": {
           "line": {
            "color": "#2a3f5f"
           }
          },
          "ternary": {
           "aaxis": {
            "gridcolor": "white",
            "linecolor": "white",
            "ticks": ""
           },
           "baxis": {
            "gridcolor": "white",
            "linecolor": "white",
            "ticks": ""
           },
           "bgcolor": "#E5ECF6",
           "caxis": {
            "gridcolor": "white",
            "linecolor": "white",
            "ticks": ""
           }
          },
          "title": {
           "x": 0.05
          },
          "xaxis": {
           "automargin": true,
           "gridcolor": "white",
           "linecolor": "white",
           "ticks": "",
           "title": {
            "standoff": 15
           },
           "zerolinecolor": "white",
           "zerolinewidth": 2
          },
          "yaxis": {
           "automargin": true,
           "gridcolor": "white",
           "linecolor": "white",
           "ticks": "",
           "title": {
            "standoff": 15
           },
           "zerolinecolor": "white",
           "zerolinewidth": 2
          }
         }
        },
        "title": {
         "font": {
          "size": 40
         },
         "text": "City Having Higher Accident Count"
        },
        "updatemenus": [
         {
          "active": 0,
          "buttons": [
           {
            "args": [
             {
              "visible": [
               true,
               false,
               false,
               false,
               false
              ]
             }
            ],
            "label": "5",
            "method": "update"
           },
           {
            "args": [
             {
              "visible": [
               false,
               true,
               false,
               false,
               false
              ]
             }
            ],
            "label": "10",
            "method": "update"
           },
           {
            "args": [
             {
              "visible": [
               false,
               false,
               true,
               false,
               false
              ]
             }
            ],
            "label": "15",
            "method": "update"
           },
           {
            "args": [
             {
              "visible": [
               false,
               false,
               false,
               true,
               false
              ]
             }
            ],
            "label": "20",
            "method": "update"
           },
           {
            "args": [
             {
              "visible": [
               false,
               false,
               false,
               false,
               true
              ]
             }
            ],
            "label": "25",
            "method": "update"
           }
          ],
          "direction": "down"
         }
        ],
        "xaxis": {
         "title": {
          "text": "City"
         }
        },
        "yaxis": {
         "title": {
          "text": "Count Of Accident"
         }
        }
       }
      }
     },
     "metadata": {},
     "output_type": "display_data"
    }
   ],
   "source": [
    "accident_fig=go.Figure()\n",
    "accident_plot_names = []\n",
    "accident_fig_buttons=[]\n",
    "default_Top_City = 5\n",
    "for accident_fig_city in Count:\n",
    "    accident_fig_df=accident_count.head(accident_fig_city)\n",
    "    accident_fig.add_trace(go.Bar(y=accident_fig_df[\"Count\"],x=accident_fig_df[\"Million Plus Cities\"],marker=dict(color=\"sienna\"),text=accident_fig_df[\"Count\"],visible=(accident_fig_city==default_Top_City)))\n",
    "    accident_plot_names.extend([accident_fig_city])\n",
    "    \n",
    "    \n",
    "for accident_fig_city in Count:\n",
    "    accident_fig_buttons.append(dict(method='update',\n",
    "                        label=accident_fig_city,\n",
    "                        args = [{'visible': [accident_fig_city==r for r in accident_plot_names]}]))\n",
    "\n",
    "# Add dropdown menus to the figure\n",
    "accident_fig.update_layout(showlegend=False, updatemenus=[{\"buttons\": accident_fig_buttons, \"direction\": \"down\", \"active\": Count.index(default_Top_City)}])\n",
    "accident_fig.update_layout(xaxis_title=\"City\", yaxis_title=\"Count Of Accident\",title=dict(text=\"City Having Higher Accident Count\", font=dict(size=40)))\n",
    "accident_fig.show()"
   ]
  },
  {
   "cell_type": "markdown",
   "id": "55a3684f",
   "metadata": {
    "papermill": {
     "duration": 0.016274,
     "end_time": "2023-06-16T17:27:39.095382",
     "exception": false,
     "start_time": "2023-06-16T17:27:39.079108",
     "status": "completed"
    },
    "tags": []
   },
   "source": [
    "# Top N cities with Lower Accident Count"
   ]
  },
  {
   "cell_type": "code",
   "execution_count": null,
   "id": "43459d0c",
   "metadata": {
    "execution": {
     "iopub.execute_input": "2023-06-16T17:27:39.130677Z",
     "iopub.status.busy": "2023-06-16T17:27:39.130013Z",
     "iopub.status.idle": "2023-06-16T17:27:39.135145Z",
     "shell.execute_reply": "2023-06-16T17:27:39.134428Z"
    },
    "papermill": {
     "duration": 0.025195,
     "end_time": "2023-06-16T17:27:39.137228",
     "exception": false,
     "start_time": "2023-06-16T17:27:39.112033",
     "status": "completed"
    },
    "tags": []
   },
   "outputs": [],
   "source": [
    "accident_fig_desc_df_order=accident_count.sort_index(ascending=False)"
   ]
  },
  {
   "cell_type": "code",
   "execution_count": null,
   "id": "137a7efd",
   "metadata": {
    "execution": {
     "iopub.execute_input": "2023-06-16T17:27:39.173276Z",
     "iopub.status.busy": "2023-06-16T17:27:39.172620Z",
     "iopub.status.idle": "2023-06-16T17:27:39.200351Z",
     "shell.execute_reply": "2023-06-16T17:27:39.199248Z"
    },
    "papermill": {
     "duration": 0.04867,
     "end_time": "2023-06-16T17:27:39.202722",
     "exception": false,
     "start_time": "2023-06-16T17:27:39.154052",
     "status": "completed"
    },
    "tags": []
   },
   "outputs": [
    {
     "data": {
      "application/vnd.plotly.v1+json": {
       "config": {
        "plotlyServerURL": "https://plot.ly"
       },
       "data": [
        {
         "marker": {
          "color": "olive"
         },
         "text": [
          600,
          714,
          954,
          984,
          1650
         ],
         "type": "bar",
         "visible": true,
         "x": [
          "Amritsar",
          "Jamshedpur",
          "Chandigarh",
          "Dhanbad",
          "Srinagar"
         ],
         "y": [
          600,
          714,
          954,
          984,
          1650
         ]
        },
        {
         "marker": {
          "color": "olive"
         },
         "text": [
          600,
          714,
          954,
          984,
          1650,
          1752,
          2118,
          2238,
          2388,
          2436
         ],
         "type": "bar",
         "visible": false,
         "x": [
          "Amritsar",
          "Jamshedpur",
          "Chandigarh",
          "Dhanbad",
          "Srinagar",
          "Jodhpur",
          "Kota",
          "Patna",
          "Tiruchirapalli",
          "Aurangabad"
         ],
         "y": [
          600,
          714,
          954,
          984,
          1650,
          1752,
          2118,
          2238,
          2388,
          2436
         ]
        },
        {
         "marker": {
          "color": "olive"
         },
         "text": [
          600,
          714,
          954,
          984,
          1650,
          1752,
          2118,
          2238,
          2388,
          2436,
          2496,
          2508,
          2568,
          2592,
          2670
         ],
         "type": "bar",
         "visible": false,
         "x": [
          "Amritsar",
          "Jamshedpur",
          "Chandigarh",
          "Dhanbad",
          "Srinagar",
          "Jodhpur",
          "Kota",
          "Patna",
          "Tiruchirapalli",
          "Aurangabad",
          "Nashik",
          "Ludhiana",
          "Asansol Durgapur",
          "Rajkot",
          "Varanasi"
         ],
         "y": [
          600,
          714,
          954,
          984,
          1650,
          1752,
          2118,
          2238,
          2388,
          2436,
          2496,
          2508,
          2568,
          2592,
          2670
         ]
        },
        {
         "marker": {
          "color": "olive"
         },
         "text": [
          600,
          714,
          954,
          984,
          1650,
          1752,
          2118,
          2238,
          2388,
          2436,
          2496,
          2508,
          2568,
          2592,
          2670,
          2886,
          2892,
          2934,
          3024,
          3180
         ],
         "type": "bar",
         "visible": false,
         "x": [
          "Amritsar",
          "Jamshedpur",
          "Chandigarh",
          "Dhanbad",
          "Srinagar",
          "Jodhpur",
          "Kota",
          "Patna",
          "Tiruchirapalli",
          "Aurangabad",
          "Nashik",
          "Ludhiana",
          "Asansol Durgapur",
          "Rajkot",
          "Varanasi",
          "Vadodra",
          "Pune",
          "Faridabad",
          "Kannur",
          "Madurai"
         ],
         "y": [
          600,
          714,
          954,
          984,
          1650,
          1752,
          2118,
          2238,
          2388,
          2436,
          2496,
          2508,
          2568,
          2592,
          2670,
          2886,
          2892,
          2934,
          3024,
          3180
         ]
        },
        {
         "marker": {
          "color": "olive"
         },
         "text": [
          600,
          714,
          954,
          984,
          1650,
          1752,
          2118,
          2238,
          2388,
          2436,
          2496,
          2508,
          2568,
          2592,
          2670,
          2886,
          2892,
          2934,
          3024,
          3180,
          3450,
          4242,
          4248,
          4350,
          4638
         ],
         "type": "bar",
         "visible": false,
         "x": [
          "Amritsar",
          "Jamshedpur",
          "Chandigarh",
          "Dhanbad",
          "Srinagar",
          "Jodhpur",
          "Kota",
          "Patna",
          "Tiruchirapalli",
          "Aurangabad",
          "Nashik",
          "Ludhiana",
          "Asansol Durgapur",
          "Rajkot",
          "Varanasi",
          "Vadodra",
          "Pune",
          "Faridabad",
          "Kannur",
          "Madurai",
          "Surat",
          "Coimbatore",
          "Ghaziabad",
          "Meerut",
          "Nagpur"
         ],
         "y": [
          600,
          714,
          954,
          984,
          1650,
          1752,
          2118,
          2238,
          2388,
          2436,
          2496,
          2508,
          2568,
          2592,
          2670,
          2886,
          2892,
          2934,
          3024,
          3180,
          3450,
          4242,
          4248,
          4350,
          4638
         ]
        }
       ],
       "layout": {
        "showlegend": false,
        "template": {
         "data": {
          "bar": [
           {
            "error_x": {
             "color": "#2a3f5f"
            },
            "error_y": {
             "color": "#2a3f5f"
            },
            "marker": {
             "line": {
              "color": "#E5ECF6",
              "width": 0.5
             },
             "pattern": {
              "fillmode": "overlay",
              "size": 10,
              "solidity": 0.2
             }
            },
            "type": "bar"
           }
          ],
          "barpolar": [
           {
            "marker": {
             "line": {
              "color": "#E5ECF6",
              "width": 0.5
             },
             "pattern": {
              "fillmode": "overlay",
              "size": 10,
              "solidity": 0.2
             }
            },
            "type": "barpolar"
           }
          ],
          "carpet": [
           {
            "aaxis": {
             "endlinecolor": "#2a3f5f",
             "gridcolor": "white",
             "linecolor": "white",
             "minorgridcolor": "white",
             "startlinecolor": "#2a3f5f"
            },
            "baxis": {
             "endlinecolor": "#2a3f5f",
             "gridcolor": "white",
             "linecolor": "white",
             "minorgridcolor": "white",
             "startlinecolor": "#2a3f5f"
            },
            "type": "carpet"
           }
          ],
          "choropleth": [
           {
            "colorbar": {
             "outlinewidth": 0,
             "ticks": ""
            },
            "type": "choropleth"
           }
          ],
          "contour": [
           {
            "colorbar": {
             "outlinewidth": 0,
             "ticks": ""
            },
            "colorscale": [
             [
              0,
              "#0d0887"
             ],
             [
              0.1111111111111111,
              "#46039f"
             ],
             [
              0.2222222222222222,
              "#7201a8"
             ],
             [
              0.3333333333333333,
              "#9c179e"
             ],
             [
              0.4444444444444444,
              "#bd3786"
             ],
             [
              0.5555555555555556,
              "#d8576b"
             ],
             [
              0.6666666666666666,
              "#ed7953"
             ],
             [
              0.7777777777777778,
              "#fb9f3a"
             ],
             [
              0.8888888888888888,
              "#fdca26"
             ],
             [
              1,
              "#f0f921"
             ]
            ],
            "type": "contour"
           }
          ],
          "contourcarpet": [
           {
            "colorbar": {
             "outlinewidth": 0,
             "ticks": ""
            },
            "type": "contourcarpet"
           }
          ],
          "heatmap": [
           {
            "colorbar": {
             "outlinewidth": 0,
             "ticks": ""
            },
            "colorscale": [
             [
              0,
              "#0d0887"
             ],
             [
              0.1111111111111111,
              "#46039f"
             ],
             [
              0.2222222222222222,
              "#7201a8"
             ],
             [
              0.3333333333333333,
              "#9c179e"
             ],
             [
              0.4444444444444444,
              "#bd3786"
             ],
             [
              0.5555555555555556,
              "#d8576b"
             ],
             [
              0.6666666666666666,
              "#ed7953"
             ],
             [
              0.7777777777777778,
              "#fb9f3a"
             ],
             [
              0.8888888888888888,
              "#fdca26"
             ],
             [
              1,
              "#f0f921"
             ]
            ],
            "type": "heatmap"
           }
          ],
          "heatmapgl": [
           {
            "colorbar": {
             "outlinewidth": 0,
             "ticks": ""
            },
            "colorscale": [
             [
              0,
              "#0d0887"
             ],
             [
              0.1111111111111111,
              "#46039f"
             ],
             [
              0.2222222222222222,
              "#7201a8"
             ],
             [
              0.3333333333333333,
              "#9c179e"
             ],
             [
              0.4444444444444444,
              "#bd3786"
             ],
             [
              0.5555555555555556,
              "#d8576b"
             ],
             [
              0.6666666666666666,
              "#ed7953"
             ],
             [
              0.7777777777777778,
              "#fb9f3a"
             ],
             [
              0.8888888888888888,
              "#fdca26"
             ],
             [
              1,
              "#f0f921"
             ]
            ],
            "type": "heatmapgl"
           }
          ],
          "histogram": [
           {
            "marker": {
             "pattern": {
              "fillmode": "overlay",
              "size": 10,
              "solidity": 0.2
             }
            },
            "type": "histogram"
           }
          ],
          "histogram2d": [
           {
            "colorbar": {
             "outlinewidth": 0,
             "ticks": ""
            },
            "colorscale": [
             [
              0,
              "#0d0887"
             ],
             [
              0.1111111111111111,
              "#46039f"
             ],
             [
              0.2222222222222222,
              "#7201a8"
             ],
             [
              0.3333333333333333,
              "#9c179e"
             ],
             [
              0.4444444444444444,
              "#bd3786"
             ],
             [
              0.5555555555555556,
              "#d8576b"
             ],
             [
              0.6666666666666666,
              "#ed7953"
             ],
             [
              0.7777777777777778,
              "#fb9f3a"
             ],
             [
              0.8888888888888888,
              "#fdca26"
             ],
             [
              1,
              "#f0f921"
             ]
            ],
            "type": "histogram2d"
           }
          ],
          "histogram2dcontour": [
           {
            "colorbar": {
             "outlinewidth": 0,
             "ticks": ""
            },
            "colorscale": [
             [
              0,
              "#0d0887"
             ],
             [
              0.1111111111111111,
              "#46039f"
             ],
             [
              0.2222222222222222,
              "#7201a8"
             ],
             [
              0.3333333333333333,
              "#9c179e"
             ],
             [
              0.4444444444444444,
              "#bd3786"
             ],
             [
              0.5555555555555556,
              "#d8576b"
             ],
             [
              0.6666666666666666,
              "#ed7953"
             ],
             [
              0.7777777777777778,
              "#fb9f3a"
             ],
             [
              0.8888888888888888,
              "#fdca26"
             ],
             [
              1,
              "#f0f921"
             ]
            ],
            "type": "histogram2dcontour"
           }
          ],
          "mesh3d": [
           {
            "colorbar": {
             "outlinewidth": 0,
             "ticks": ""
            },
            "type": "mesh3d"
           }
          ],
          "parcoords": [
           {
            "line": {
             "colorbar": {
              "outlinewidth": 0,
              "ticks": ""
             }
            },
            "type": "parcoords"
           }
          ],
          "pie": [
           {
            "automargin": true,
            "type": "pie"
           }
          ],
          "scatter": [
           {
            "fillpattern": {
             "fillmode": "overlay",
             "size": 10,
             "solidity": 0.2
            },
            "type": "scatter"
           }
          ],
          "scatter3d": [
           {
            "line": {
             "colorbar": {
              "outlinewidth": 0,
              "ticks": ""
             }
            },
            "marker": {
             "colorbar": {
              "outlinewidth": 0,
              "ticks": ""
             }
            },
            "type": "scatter3d"
           }
          ],
          "scattercarpet": [
           {
            "marker": {
             "colorbar": {
              "outlinewidth": 0,
              "ticks": ""
             }
            },
            "type": "scattercarpet"
           }
          ],
          "scattergeo": [
           {
            "marker": {
             "colorbar": {
              "outlinewidth": 0,
              "ticks": ""
             }
            },
            "type": "scattergeo"
           }
          ],
          "scattergl": [
           {
            "marker": {
             "colorbar": {
              "outlinewidth": 0,
              "ticks": ""
             }
            },
            "type": "scattergl"
           }
          ],
          "scattermapbox": [
           {
            "marker": {
             "colorbar": {
              "outlinewidth": 0,
              "ticks": ""
             }
            },
            "type": "scattermapbox"
           }
          ],
          "scatterpolar": [
           {
            "marker": {
             "colorbar": {
              "outlinewidth": 0,
              "ticks": ""
             }
            },
            "type": "scatterpolar"
           }
          ],
          "scatterpolargl": [
           {
            "marker": {
             "colorbar": {
              "outlinewidth": 0,
              "ticks": ""
             }
            },
            "type": "scatterpolargl"
           }
          ],
          "scatterternary": [
           {
            "marker": {
             "colorbar": {
              "outlinewidth": 0,
              "ticks": ""
             }
            },
            "type": "scatterternary"
           }
          ],
          "surface": [
           {
            "colorbar": {
             "outlinewidth": 0,
             "ticks": ""
            },
            "colorscale": [
             [
              0,
              "#0d0887"
             ],
             [
              0.1111111111111111,
              "#46039f"
             ],
             [
              0.2222222222222222,
              "#7201a8"
             ],
             [
              0.3333333333333333,
              "#9c179e"
             ],
             [
              0.4444444444444444,
              "#bd3786"
             ],
             [
              0.5555555555555556,
              "#d8576b"
             ],
             [
              0.6666666666666666,
              "#ed7953"
             ],
             [
              0.7777777777777778,
              "#fb9f3a"
             ],
             [
              0.8888888888888888,
              "#fdca26"
             ],
             [
              1,
              "#f0f921"
             ]
            ],
            "type": "surface"
           }
          ],
          "table": [
           {
            "cells": {
             "fill": {
              "color": "#EBF0F8"
             },
             "line": {
              "color": "white"
             }
            },
            "header": {
             "fill": {
              "color": "#C8D4E3"
             },
             "line": {
              "color": "white"
             }
            },
            "type": "table"
           }
          ]
         },
         "layout": {
          "annotationdefaults": {
           "arrowcolor": "#2a3f5f",
           "arrowhead": 0,
           "arrowwidth": 1
          },
          "autotypenumbers": "strict",
          "coloraxis": {
           "colorbar": {
            "outlinewidth": 0,
            "ticks": ""
           }
          },
          "colorscale": {
           "diverging": [
            [
             0,
             "#8e0152"
            ],
            [
             0.1,
             "#c51b7d"
            ],
            [
             0.2,
             "#de77ae"
            ],
            [
             0.3,
             "#f1b6da"
            ],
            [
             0.4,
             "#fde0ef"
            ],
            [
             0.5,
             "#f7f7f7"
            ],
            [
             0.6,
             "#e6f5d0"
            ],
            [
             0.7,
             "#b8e186"
            ],
            [
             0.8,
             "#7fbc41"
            ],
            [
             0.9,
             "#4d9221"
            ],
            [
             1,
             "#276419"
            ]
           ],
           "sequential": [
            [
             0,
             "#0d0887"
            ],
            [
             0.1111111111111111,
             "#46039f"
            ],
            [
             0.2222222222222222,
             "#7201a8"
            ],
            [
             0.3333333333333333,
             "#9c179e"
            ],
            [
             0.4444444444444444,
             "#bd3786"
            ],
            [
             0.5555555555555556,
             "#d8576b"
            ],
            [
             0.6666666666666666,
             "#ed7953"
            ],
            [
             0.7777777777777778,
             "#fb9f3a"
            ],
            [
             0.8888888888888888,
             "#fdca26"
            ],
            [
             1,
             "#f0f921"
            ]
           ],
           "sequentialminus": [
            [
             0,
             "#0d0887"
            ],
            [
             0.1111111111111111,
             "#46039f"
            ],
            [
             0.2222222222222222,
             "#7201a8"
            ],
            [
             0.3333333333333333,
             "#9c179e"
            ],
            [
             0.4444444444444444,
             "#bd3786"
            ],
            [
             0.5555555555555556,
             "#d8576b"
            ],
            [
             0.6666666666666666,
             "#ed7953"
            ],
            [
             0.7777777777777778,
             "#fb9f3a"
            ],
            [
             0.8888888888888888,
             "#fdca26"
            ],
            [
             1,
             "#f0f921"
            ]
           ]
          },
          "colorway": [
           "#636efa",
           "#EF553B",
           "#00cc96",
           "#ab63fa",
           "#FFA15A",
           "#19d3f3",
           "#FF6692",
           "#B6E880",
           "#FF97FF",
           "#FECB52"
          ],
          "font": {
           "color": "#2a3f5f"
          },
          "geo": {
           "bgcolor": "white",
           "lakecolor": "white",
           "landcolor": "#E5ECF6",
           "showlakes": true,
           "showland": true,
           "subunitcolor": "white"
          },
          "hoverlabel": {
           "align": "left"
          },
          "hovermode": "closest",
          "mapbox": {
           "style": "light"
          },
          "paper_bgcolor": "white",
          "plot_bgcolor": "#E5ECF6",
          "polar": {
           "angularaxis": {
            "gridcolor": "white",
            "linecolor": "white",
            "ticks": ""
           },
           "bgcolor": "#E5ECF6",
           "radialaxis": {
            "gridcolor": "white",
            "linecolor": "white",
            "ticks": ""
           }
          },
          "scene": {
           "xaxis": {
            "backgroundcolor": "#E5ECF6",
            "gridcolor": "white",
            "gridwidth": 2,
            "linecolor": "white",
            "showbackground": true,
            "ticks": "",
            "zerolinecolor": "white"
           },
           "yaxis": {
            "backgroundcolor": "#E5ECF6",
            "gridcolor": "white",
            "gridwidth": 2,
            "linecolor": "white",
            "showbackground": true,
            "ticks": "",
            "zerolinecolor": "white"
           },
           "zaxis": {
            "backgroundcolor": "#E5ECF6",
            "gridcolor": "white",
            "gridwidth": 2,
            "linecolor": "white",
            "showbackground": true,
            "ticks": "",
            "zerolinecolor": "white"
           }
          },
          "shapedefaults": {
           "line": {
            "color": "#2a3f5f"
           }
          },
          "ternary": {
           "aaxis": {
            "gridcolor": "white",
            "linecolor": "white",
            "ticks": ""
           },
           "baxis": {
            "gridcolor": "white",
            "linecolor": "white",
            "ticks": ""
           },
           "bgcolor": "#E5ECF6",
           "caxis": {
            "gridcolor": "white",
            "linecolor": "white",
            "ticks": ""
           }
          },
          "title": {
           "x": 0.05
          },
          "xaxis": {
           "automargin": true,
           "gridcolor": "white",
           "linecolor": "white",
           "ticks": "",
           "title": {
            "standoff": 15
           },
           "zerolinecolor": "white",
           "zerolinewidth": 2
          },
          "yaxis": {
           "automargin": true,
           "gridcolor": "white",
           "linecolor": "white",
           "ticks": "",
           "title": {
            "standoff": 15
           },
           "zerolinecolor": "white",
           "zerolinewidth": 2
          }
         }
        },
        "title": {
         "font": {
          "size": 40
         },
         "text": "City Having Lower Accident Count"
        },
        "updatemenus": [
         {
          "active": 0,
          "buttons": [
           {
            "args": [
             {
              "visible": [
               true,
               false,
               false,
               false,
               false
              ]
             }
            ],
            "label": "5",
            "method": "update"
           },
           {
            "args": [
             {
              "visible": [
               false,
               true,
               false,
               false,
               false
              ]
             }
            ],
            "label": "10",
            "method": "update"
           },
           {
            "args": [
             {
              "visible": [
               false,
               false,
               true,
               false,
               false
              ]
             }
            ],
            "label": "15",
            "method": "update"
           },
           {
            "args": [
             {
              "visible": [
               false,
               false,
               false,
               true,
               false
              ]
             }
            ],
            "label": "20",
            "method": "update"
           },
           {
            "args": [
             {
              "visible": [
               false,
               false,
               false,
               false,
               true
              ]
             }
            ],
            "label": "25",
            "method": "update"
           }
          ],
          "direction": "down"
         }
        ],
        "xaxis": {
         "title": {
          "text": "City"
         }
        },
        "yaxis": {
         "title": {
          "text": "Count Of Accident"
         }
        }
       }
      }
     },
     "metadata": {},
     "output_type": "display_data"
    }
   ],
   "source": [
    "accident_desc_fig=go.Figure()\n",
    "accident_desc_plot_names = []\n",
    "accident_desc_buttons=[]\n",
    "default_Top_City = 5\n",
    "for accident_desc_city in Count:\n",
    "    \n",
    "    accident_fig_desc_df=accident_fig_desc_df_order.head(accident_desc_city)\n",
    "    accident_desc_fig.add_trace(go.Bar(y=accident_fig_desc_df[\"Count\"],x=accident_fig_desc_df[\"Million Plus Cities\"],marker=dict(color=\"olive\"),text=accident_fig_desc_df[\"Count\"],visible=(accident_desc_city==default_Top_City)))\n",
    "    accident_desc_plot_names.extend([accident_desc_city])\n",
    "    \n",
    "    \n",
    "for accident_desc_city in Count:\n",
    "    accident_desc_buttons.append(dict(method='update',\n",
    "                        label=accident_desc_city,\n",
    "                        args = [{'visible': [accident_desc_city==r for r in accident_desc_plot_names]}]))\n",
    "\n",
    "# Add dropdown menus to the figure\n",
    "accident_desc_fig.update_layout(showlegend=False, updatemenus=[{\"buttons\": accident_desc_buttons, \"direction\": \"down\", \"active\": Count.index(default_Top_City)}])\n",
    "accident_desc_fig.update_layout(xaxis_title=\"City\", yaxis_title=\"Count Of Accident\",title=dict(text=\"City Having Lower Accident Count\", font=dict(size=40)))\n",
    "accident_desc_fig.show()"
   ]
  },
  {
   "cell_type": "markdown",
   "id": "a71ebff8",
   "metadata": {
    "papermill": {
     "duration": 0.016595,
     "end_time": "2023-06-16T17:27:39.236381",
     "exception": false,
     "start_time": "2023-06-16T17:27:39.219786",
     "status": "completed"
    },
    "tags": []
   },
   "source": [
    "# Cities and thier Death Count"
   ]
  },
  {
   "cell_type": "code",
   "execution_count": null,
   "id": "44031c69",
   "metadata": {
    "execution": {
     "iopub.execute_input": "2023-06-16T17:27:39.272639Z",
     "iopub.status.busy": "2023-06-16T17:27:39.271982Z",
     "iopub.status.idle": "2023-06-16T17:27:39.281896Z",
     "shell.execute_reply": "2023-06-16T17:27:39.281072Z"
    },
    "papermill": {
     "duration": 0.030805,
     "end_time": "2023-06-16T17:27:39.284207",
     "exception": false,
     "start_time": "2023-06-16T17:27:39.253402",
     "status": "completed"
    },
    "tags": []
   },
   "outputs": [],
   "source": [
    "death_count=df[df[\"Outcome of Incident\"]==\"Persons Killed\"].groupby(by=\"Million Plus Cities\")[\"Count\"].sum().sort_values(ascending=False).reset_index()"
   ]
  },
  {
   "cell_type": "code",
   "execution_count": null,
   "id": "18caf344",
   "metadata": {
    "execution": {
     "iopub.execute_input": "2023-06-16T17:27:39.321550Z",
     "iopub.status.busy": "2023-06-16T17:27:39.320906Z",
     "iopub.status.idle": "2023-06-16T17:27:39.395418Z",
     "shell.execute_reply": "2023-06-16T17:27:39.394523Z"
    },
    "papermill": {
     "duration": 0.095855,
     "end_time": "2023-06-16T17:27:39.397579",
     "exception": false,
     "start_time": "2023-06-16T17:27:39.301724",
     "status": "completed"
    },
    "tags": []
   },
   "outputs": [
    {
     "data": {
      "application/vnd.plotly.v1+json": {
       "config": {
        "plotlyServerURL": "https://plot.ly"
       },
       "data": [
        {
         "alignmentgroup": "True",
         "hovertemplate": "Million Plus Cities=%{x}<br>Count=%{marker.color}<extra></extra>",
         "legendgroup": "",
         "marker": {
          "color": [
           7176,
           5232,
           3876,
           3636,
           3378,
           3102,
           3084,
           2892,
           2754,
           2532,
           2244,
           2094,
           2094,
           2040,
           1956,
           1896,
           1890,
           1698,
           1644,
           1530,
           1524,
           1482,
           1422,
           1278,
           1260,
           1206,
           1170,
           1164,
           1146,
           1086,
           1026,
           918,
           858,
           852,
           828,
           816,
           804,
           648,
           606,
           546,
           522,
           498,
           486,
           396,
           388,
           360,
           342,
           318,
           282,
           270
          ],
          "coloraxis": "coloraxis",
          "pattern": {
           "shape": ""
          }
         },
         "name": "",
         "offsetgroup": "",
         "orientation": "v",
         "showlegend": false,
         "text": [
          7176,
          5232,
          3876,
          3636,
          3378,
          3102,
          3084,
          2892,
          2754,
          2532,
          2244,
          2094,
          2094,
          2040,
          1956,
          1896,
          1890,
          1698,
          1644,
          1530,
          1524,
          1482,
          1422,
          1278,
          1260,
          1206,
          1170,
          1164,
          1146,
          1086,
          1026,
          918,
          858,
          852,
          828,
          816,
          804,
          648,
          606,
          546,
          522,
          498,
          486,
          396,
          388,
          360,
          342,
          318,
          282,
          270
         ],
         "textposition": "auto",
         "type": "bar",
         "x": [
          "Delhi",
          "Chennai",
          "Bengaluru",
          "Jaipur",
          "Kanpur",
          "Allahabad(Prayagraj)",
          "Agra",
          "Raipur",
          "Indore",
          "Jabalpur",
          "Lucknow",
          "Mumbai",
          "Meerut",
          "Ahmedabad",
          "Ghaziabad",
          "Gwalior",
          "Asansol Durgapur",
          "Ludhiana",
          "Vijaywada city",
          "vizag",
          "Hyderabad",
          "Mallapuram",
          "Bhopal",
          "Varanasi",
          "Nagpur",
          "Kolkata",
          "Faridabad",
          "Kollam",
          "Surat",
          "Patna",
          "Nashik",
          "Vadodra",
          "Pune",
          "Jodhpur",
          "Rajkot",
          "Aurangabad",
          "Thrissur",
          "Thiruvanthapuram",
          "Kochi",
          "Khozikode",
          "Tiruchirapalli",
          "Dhanbad",
          "Madurai",
          "Amritsar",
          "Coimbatore",
          "Kota",
          "Kannur",
          "Chandigarh",
          "Jamshedpur",
          "Srinagar"
         ],
         "xaxis": "x",
         "y": [
          7176,
          5232,
          3876,
          3636,
          3378,
          3102,
          3084,
          2892,
          2754,
          2532,
          2244,
          2094,
          2094,
          2040,
          1956,
          1896,
          1890,
          1698,
          1644,
          1530,
          1524,
          1482,
          1422,
          1278,
          1260,
          1206,
          1170,
          1164,
          1146,
          1086,
          1026,
          918,
          858,
          852,
          828,
          816,
          804,
          648,
          606,
          546,
          522,
          498,
          486,
          396,
          388,
          360,
          342,
          318,
          282,
          270
         ],
         "yaxis": "y"
        }
       ],
       "layout": {
        "barmode": "relative",
        "coloraxis": {
         "colorbar": {
          "title": {
           "text": "Count"
          }
         },
         "colorscale": [
          [
           0,
           "#0d0887"
          ],
          [
           0.1111111111111111,
           "#46039f"
          ],
          [
           0.2222222222222222,
           "#7201a8"
          ],
          [
           0.3333333333333333,
           "#9c179e"
          ],
          [
           0.4444444444444444,
           "#bd3786"
          ],
          [
           0.5555555555555556,
           "#d8576b"
          ],
          [
           0.6666666666666666,
           "#ed7953"
          ],
          [
           0.7777777777777778,
           "#fb9f3a"
          ],
          [
           0.8888888888888888,
           "#fdca26"
          ],
          [
           1,
           "#f0f921"
          ]
         ]
        },
        "legend": {
         "tracegroupgap": 0
        },
        "template": {
         "data": {
          "bar": [
           {
            "error_x": {
             "color": "#2a3f5f"
            },
            "error_y": {
             "color": "#2a3f5f"
            },
            "marker": {
             "line": {
              "color": "#E5ECF6",
              "width": 0.5
             },
             "pattern": {
              "fillmode": "overlay",
              "size": 10,
              "solidity": 0.2
             }
            },
            "type": "bar"
           }
          ],
          "barpolar": [
           {
            "marker": {
             "line": {
              "color": "#E5ECF6",
              "width": 0.5
             },
             "pattern": {
              "fillmode": "overlay",
              "size": 10,
              "solidity": 0.2
             }
            },
            "type": "barpolar"
           }
          ],
          "carpet": [
           {
            "aaxis": {
             "endlinecolor": "#2a3f5f",
             "gridcolor": "white",
             "linecolor": "white",
             "minorgridcolor": "white",
             "startlinecolor": "#2a3f5f"
            },
            "baxis": {
             "endlinecolor": "#2a3f5f",
             "gridcolor": "white",
             "linecolor": "white",
             "minorgridcolor": "white",
             "startlinecolor": "#2a3f5f"
            },
            "type": "carpet"
           }
          ],
          "choropleth": [
           {
            "colorbar": {
             "outlinewidth": 0,
             "ticks": ""
            },
            "type": "choropleth"
           }
          ],
          "contour": [
           {
            "colorbar": {
             "outlinewidth": 0,
             "ticks": ""
            },
            "colorscale": [
             [
              0,
              "#0d0887"
             ],
             [
              0.1111111111111111,
              "#46039f"
             ],
             [
              0.2222222222222222,
              "#7201a8"
             ],
             [
              0.3333333333333333,
              "#9c179e"
             ],
             [
              0.4444444444444444,
              "#bd3786"
             ],
             [
              0.5555555555555556,
              "#d8576b"
             ],
             [
              0.6666666666666666,
              "#ed7953"
             ],
             [
              0.7777777777777778,
              "#fb9f3a"
             ],
             [
              0.8888888888888888,
              "#fdca26"
             ],
             [
              1,
              "#f0f921"
             ]
            ],
            "type": "contour"
           }
          ],
          "contourcarpet": [
           {
            "colorbar": {
             "outlinewidth": 0,
             "ticks": ""
            },
            "type": "contourcarpet"
           }
          ],
          "heatmap": [
           {
            "colorbar": {
             "outlinewidth": 0,
             "ticks": ""
            },
            "colorscale": [
             [
              0,
              "#0d0887"
             ],
             [
              0.1111111111111111,
              "#46039f"
             ],
             [
              0.2222222222222222,
              "#7201a8"
             ],
             [
              0.3333333333333333,
              "#9c179e"
             ],
             [
              0.4444444444444444,
              "#bd3786"
             ],
             [
              0.5555555555555556,
              "#d8576b"
             ],
             [
              0.6666666666666666,
              "#ed7953"
             ],
             [
              0.7777777777777778,
              "#fb9f3a"
             ],
             [
              0.8888888888888888,
              "#fdca26"
             ],
             [
              1,
              "#f0f921"
             ]
            ],
            "type": "heatmap"
           }
          ],
          "heatmapgl": [
           {
            "colorbar": {
             "outlinewidth": 0,
             "ticks": ""
            },
            "colorscale": [
             [
              0,
              "#0d0887"
             ],
             [
              0.1111111111111111,
              "#46039f"
             ],
             [
              0.2222222222222222,
              "#7201a8"
             ],
             [
              0.3333333333333333,
              "#9c179e"
             ],
             [
              0.4444444444444444,
              "#bd3786"
             ],
             [
              0.5555555555555556,
              "#d8576b"
             ],
             [
              0.6666666666666666,
              "#ed7953"
             ],
             [
              0.7777777777777778,
              "#fb9f3a"
             ],
             [
              0.8888888888888888,
              "#fdca26"
             ],
             [
              1,
              "#f0f921"
             ]
            ],
            "type": "heatmapgl"
           }
          ],
          "histogram": [
           {
            "marker": {
             "pattern": {
              "fillmode": "overlay",
              "size": 10,
              "solidity": 0.2
             }
            },
            "type": "histogram"
           }
          ],
          "histogram2d": [
           {
            "colorbar": {
             "outlinewidth": 0,
             "ticks": ""
            },
            "colorscale": [
             [
              0,
              "#0d0887"
             ],
             [
              0.1111111111111111,
              "#46039f"
             ],
             [
              0.2222222222222222,
              "#7201a8"
             ],
             [
              0.3333333333333333,
              "#9c179e"
             ],
             [
              0.4444444444444444,
              "#bd3786"
             ],
             [
              0.5555555555555556,
              "#d8576b"
             ],
             [
              0.6666666666666666,
              "#ed7953"
             ],
             [
              0.7777777777777778,
              "#fb9f3a"
             ],
             [
              0.8888888888888888,
              "#fdca26"
             ],
             [
              1,
              "#f0f921"
             ]
            ],
            "type": "histogram2d"
           }
          ],
          "histogram2dcontour": [
           {
            "colorbar": {
             "outlinewidth": 0,
             "ticks": ""
            },
            "colorscale": [
             [
              0,
              "#0d0887"
             ],
             [
              0.1111111111111111,
              "#46039f"
             ],
             [
              0.2222222222222222,
              "#7201a8"
             ],
             [
              0.3333333333333333,
              "#9c179e"
             ],
             [
              0.4444444444444444,
              "#bd3786"
             ],
             [
              0.5555555555555556,
              "#d8576b"
             ],
             [
              0.6666666666666666,
              "#ed7953"
             ],
             [
              0.7777777777777778,
              "#fb9f3a"
             ],
             [
              0.8888888888888888,
              "#fdca26"
             ],
             [
              1,
              "#f0f921"
             ]
            ],
            "type": "histogram2dcontour"
           }
          ],
          "mesh3d": [
           {
            "colorbar": {
             "outlinewidth": 0,
             "ticks": ""
            },
            "type": "mesh3d"
           }
          ],
          "parcoords": [
           {
            "line": {
             "colorbar": {
              "outlinewidth": 0,
              "ticks": ""
             }
            },
            "type": "parcoords"
           }
          ],
          "pie": [
           {
            "automargin": true,
            "type": "pie"
           }
          ],
          "scatter": [
           {
            "fillpattern": {
             "fillmode": "overlay",
             "size": 10,
             "solidity": 0.2
            },
            "type": "scatter"
           }
          ],
          "scatter3d": [
           {
            "line": {
             "colorbar": {
              "outlinewidth": 0,
              "ticks": ""
             }
            },
            "marker": {
             "colorbar": {
              "outlinewidth": 0,
              "ticks": ""
             }
            },
            "type": "scatter3d"
           }
          ],
          "scattercarpet": [
           {
            "marker": {
             "colorbar": {
              "outlinewidth": 0,
              "ticks": ""
             }
            },
            "type": "scattercarpet"
           }
          ],
          "scattergeo": [
           {
            "marker": {
             "colorbar": {
              "outlinewidth": 0,
              "ticks": ""
             }
            },
            "type": "scattergeo"
           }
          ],
          "scattergl": [
           {
            "marker": {
             "colorbar": {
              "outlinewidth": 0,
              "ticks": ""
             }
            },
            "type": "scattergl"
           }
          ],
          "scattermapbox": [
           {
            "marker": {
             "colorbar": {
              "outlinewidth": 0,
              "ticks": ""
             }
            },
            "type": "scattermapbox"
           }
          ],
          "scatterpolar": [
           {
            "marker": {
             "colorbar": {
              "outlinewidth": 0,
              "ticks": ""
             }
            },
            "type": "scatterpolar"
           }
          ],
          "scatterpolargl": [
           {
            "marker": {
             "colorbar": {
              "outlinewidth": 0,
              "ticks": ""
             }
            },
            "type": "scatterpolargl"
           }
          ],
          "scatterternary": [
           {
            "marker": {
             "colorbar": {
              "outlinewidth": 0,
              "ticks": ""
             }
            },
            "type": "scatterternary"
           }
          ],
          "surface": [
           {
            "colorbar": {
             "outlinewidth": 0,
             "ticks": ""
            },
            "colorscale": [
             [
              0,
              "#0d0887"
             ],
             [
              0.1111111111111111,
              "#46039f"
             ],
             [
              0.2222222222222222,
              "#7201a8"
             ],
             [
              0.3333333333333333,
              "#9c179e"
             ],
             [
              0.4444444444444444,
              "#bd3786"
             ],
             [
              0.5555555555555556,
              "#d8576b"
             ],
             [
              0.6666666666666666,
              "#ed7953"
             ],
             [
              0.7777777777777778,
              "#fb9f3a"
             ],
             [
              0.8888888888888888,
              "#fdca26"
             ],
             [
              1,
              "#f0f921"
             ]
            ],
            "type": "surface"
           }
          ],
          "table": [
           {
            "cells": {
             "fill": {
              "color": "#EBF0F8"
             },
             "line": {
              "color": "white"
             }
            },
            "header": {
             "fill": {
              "color": "#C8D4E3"
             },
             "line": {
              "color": "white"
             }
            },
            "type": "table"
           }
          ]
         },
         "layout": {
          "annotationdefaults": {
           "arrowcolor": "#2a3f5f",
           "arrowhead": 0,
           "arrowwidth": 1
          },
          "autotypenumbers": "strict",
          "coloraxis": {
           "colorbar": {
            "outlinewidth": 0,
            "ticks": ""
           }
          },
          "colorscale": {
           "diverging": [
            [
             0,
             "#8e0152"
            ],
            [
             0.1,
             "#c51b7d"
            ],
            [
             0.2,
             "#de77ae"
            ],
            [
             0.3,
             "#f1b6da"
            ],
            [
             0.4,
             "#fde0ef"
            ],
            [
             0.5,
             "#f7f7f7"
            ],
            [
             0.6,
             "#e6f5d0"
            ],
            [
             0.7,
             "#b8e186"
            ],
            [
             0.8,
             "#7fbc41"
            ],
            [
             0.9,
             "#4d9221"
            ],
            [
             1,
             "#276419"
            ]
           ],
           "sequential": [
            [
             0,
             "#0d0887"
            ],
            [
             0.1111111111111111,
             "#46039f"
            ],
            [
             0.2222222222222222,
             "#7201a8"
            ],
            [
             0.3333333333333333,
             "#9c179e"
            ],
            [
             0.4444444444444444,
             "#bd3786"
            ],
            [
             0.5555555555555556,
             "#d8576b"
            ],
            [
             0.6666666666666666,
             "#ed7953"
            ],
            [
             0.7777777777777778,
             "#fb9f3a"
            ],
            [
             0.8888888888888888,
             "#fdca26"
            ],
            [
             1,
             "#f0f921"
            ]
           ],
           "sequentialminus": [
            [
             0,
             "#0d0887"
            ],
            [
             0.1111111111111111,
             "#46039f"
            ],
            [
             0.2222222222222222,
             "#7201a8"
            ],
            [
             0.3333333333333333,
             "#9c179e"
            ],
            [
             0.4444444444444444,
             "#bd3786"
            ],
            [
             0.5555555555555556,
             "#d8576b"
            ],
            [
             0.6666666666666666,
             "#ed7953"
            ],
            [
             0.7777777777777778,
             "#fb9f3a"
            ],
            [
             0.8888888888888888,
             "#fdca26"
            ],
            [
             1,
             "#f0f921"
            ]
           ]
          },
          "colorway": [
           "#636efa",
           "#EF553B",
           "#00cc96",
           "#ab63fa",
           "#FFA15A",
           "#19d3f3",
           "#FF6692",
           "#B6E880",
           "#FF97FF",
           "#FECB52"
          ],
          "font": {
           "color": "#2a3f5f"
          },
          "geo": {
           "bgcolor": "white",
           "lakecolor": "white",
           "landcolor": "#E5ECF6",
           "showlakes": true,
           "showland": true,
           "subunitcolor": "white"
          },
          "hoverlabel": {
           "align": "left"
          },
          "hovermode": "closest",
          "mapbox": {
           "style": "light"
          },
          "paper_bgcolor": "white",
          "plot_bgcolor": "#E5ECF6",
          "polar": {
           "angularaxis": {
            "gridcolor": "white",
            "linecolor": "white",
            "ticks": ""
           },
           "bgcolor": "#E5ECF6",
           "radialaxis": {
            "gridcolor": "white",
            "linecolor": "white",
            "ticks": ""
           }
          },
          "scene": {
           "xaxis": {
            "backgroundcolor": "#E5ECF6",
            "gridcolor": "white",
            "gridwidth": 2,
            "linecolor": "white",
            "showbackground": true,
            "ticks": "",
            "zerolinecolor": "white"
           },
           "yaxis": {
            "backgroundcolor": "#E5ECF6",
            "gridcolor": "white",
            "gridwidth": 2,
            "linecolor": "white",
            "showbackground": true,
            "ticks": "",
            "zerolinecolor": "white"
           },
           "zaxis": {
            "backgroundcolor": "#E5ECF6",
            "gridcolor": "white",
            "gridwidth": 2,
            "linecolor": "white",
            "showbackground": true,
            "ticks": "",
            "zerolinecolor": "white"
           }
          },
          "shapedefaults": {
           "line": {
            "color": "#2a3f5f"
           }
          },
          "ternary": {
           "aaxis": {
            "gridcolor": "white",
            "linecolor": "white",
            "ticks": ""
           },
           "baxis": {
            "gridcolor": "white",
            "linecolor": "white",
            "ticks": ""
           },
           "bgcolor": "#E5ECF6",
           "caxis": {
            "gridcolor": "white",
            "linecolor": "white",
            "ticks": ""
           }
          },
          "title": {
           "x": 0.05
          },
          "xaxis": {
           "automargin": true,
           "gridcolor": "white",
           "linecolor": "white",
           "ticks": "",
           "title": {
            "standoff": 15
           },
           "zerolinecolor": "white",
           "zerolinewidth": 2
          },
          "yaxis": {
           "automargin": true,
           "gridcolor": "white",
           "linecolor": "white",
           "ticks": "",
           "title": {
            "standoff": 15
           },
           "zerolinecolor": "white",
           "zerolinewidth": 2
          }
         }
        },
        "title": {
         "text": "City vs Death Count"
        },
        "xaxis": {
         "anchor": "y",
         "domain": [
          0,
          1
         ],
         "title": {
          "text": "Million Plus Cities"
         }
        },
        "yaxis": {
         "anchor": "x",
         "domain": [
          0,
          1
         ],
         "title": {
          "text": "Count"
         }
        }
       }
      }
     },
     "metadata": {},
     "output_type": "display_data"
    }
   ],
   "source": [
    "px.bar(death_count,\"Million Plus Cities\",\"Count\",color=\"Count\",title=\"City vs Death Count\",text=\"Count\")"
   ]
  },
  {
   "cell_type": "markdown",
   "id": "7aa38163",
   "metadata": {
    "papermill": {
     "duration": 0.016799,
     "end_time": "2023-06-16T17:27:39.431793",
     "exception": false,
     "start_time": "2023-06-16T17:27:39.414994",
     "status": "completed"
    },
    "tags": []
   },
   "source": [
    "# Top N cities with Higher Death Count"
   ]
  },
  {
   "cell_type": "code",
   "execution_count": null,
   "id": "6e13fe26",
   "metadata": {
    "execution": {
     "iopub.execute_input": "2023-06-16T17:27:39.468773Z",
     "iopub.status.busy": "2023-06-16T17:27:39.468111Z",
     "iopub.status.idle": "2023-06-16T17:27:39.495156Z",
     "shell.execute_reply": "2023-06-16T17:27:39.494058Z"
    },
    "papermill": {
     "duration": 0.048396,
     "end_time": "2023-06-16T17:27:39.497530",
     "exception": false,
     "start_time": "2023-06-16T17:27:39.449134",
     "status": "completed"
    },
    "tags": []
   },
   "outputs": [
    {
     "data": {
      "application/vnd.plotly.v1+json": {
       "config": {
        "plotlyServerURL": "https://plot.ly"
       },
       "data": [
        {
         "marker": {
          "color": "plum"
         },
         "text": [
          7176,
          5232,
          3876,
          3636,
          3378
         ],
         "type": "bar",
         "visible": true,
         "x": [
          "Delhi",
          "Chennai",
          "Bengaluru",
          "Jaipur",
          "Kanpur"
         ],
         "y": [
          7176,
          5232,
          3876,
          3636,
          3378
         ]
        },
        {
         "marker": {
          "color": "plum"
         },
         "text": [
          7176,
          5232,
          3876,
          3636,
          3378,
          3102,
          3084,
          2892,
          2754,
          2532
         ],
         "type": "bar",
         "visible": false,
         "x": [
          "Delhi",
          "Chennai",
          "Bengaluru",
          "Jaipur",
          "Kanpur",
          "Allahabad(Prayagraj)",
          "Agra",
          "Raipur",
          "Indore",
          "Jabalpur"
         ],
         "y": [
          7176,
          5232,
          3876,
          3636,
          3378,
          3102,
          3084,
          2892,
          2754,
          2532
         ]
        },
        {
         "marker": {
          "color": "plum"
         },
         "text": [
          7176,
          5232,
          3876,
          3636,
          3378,
          3102,
          3084,
          2892,
          2754,
          2532,
          2244,
          2094,
          2094,
          2040,
          1956
         ],
         "type": "bar",
         "visible": false,
         "x": [
          "Delhi",
          "Chennai",
          "Bengaluru",
          "Jaipur",
          "Kanpur",
          "Allahabad(Prayagraj)",
          "Agra",
          "Raipur",
          "Indore",
          "Jabalpur",
          "Lucknow",
          "Mumbai",
          "Meerut",
          "Ahmedabad",
          "Ghaziabad"
         ],
         "y": [
          7176,
          5232,
          3876,
          3636,
          3378,
          3102,
          3084,
          2892,
          2754,
          2532,
          2244,
          2094,
          2094,
          2040,
          1956
         ]
        },
        {
         "marker": {
          "color": "plum"
         },
         "text": [
          7176,
          5232,
          3876,
          3636,
          3378,
          3102,
          3084,
          2892,
          2754,
          2532,
          2244,
          2094,
          2094,
          2040,
          1956,
          1896,
          1890,
          1698,
          1644,
          1530
         ],
         "type": "bar",
         "visible": false,
         "x": [
          "Delhi",
          "Chennai",
          "Bengaluru",
          "Jaipur",
          "Kanpur",
          "Allahabad(Prayagraj)",
          "Agra",
          "Raipur",
          "Indore",
          "Jabalpur",
          "Lucknow",
          "Mumbai",
          "Meerut",
          "Ahmedabad",
          "Ghaziabad",
          "Gwalior",
          "Asansol Durgapur",
          "Ludhiana",
          "Vijaywada city",
          "vizag"
         ],
         "y": [
          7176,
          5232,
          3876,
          3636,
          3378,
          3102,
          3084,
          2892,
          2754,
          2532,
          2244,
          2094,
          2094,
          2040,
          1956,
          1896,
          1890,
          1698,
          1644,
          1530
         ]
        },
        {
         "marker": {
          "color": "plum"
         },
         "text": [
          7176,
          5232,
          3876,
          3636,
          3378,
          3102,
          3084,
          2892,
          2754,
          2532,
          2244,
          2094,
          2094,
          2040,
          1956,
          1896,
          1890,
          1698,
          1644,
          1530,
          1524,
          1482,
          1422,
          1278,
          1260
         ],
         "type": "bar",
         "visible": false,
         "x": [
          "Delhi",
          "Chennai",
          "Bengaluru",
          "Jaipur",
          "Kanpur",
          "Allahabad(Prayagraj)",
          "Agra",
          "Raipur",
          "Indore",
          "Jabalpur",
          "Lucknow",
          "Mumbai",
          "Meerut",
          "Ahmedabad",
          "Ghaziabad",
          "Gwalior",
          "Asansol Durgapur",
          "Ludhiana",
          "Vijaywada city",
          "vizag",
          "Hyderabad",
          "Mallapuram",
          "Bhopal",
          "Varanasi",
          "Nagpur"
         ],
         "y": [
          7176,
          5232,
          3876,
          3636,
          3378,
          3102,
          3084,
          2892,
          2754,
          2532,
          2244,
          2094,
          2094,
          2040,
          1956,
          1896,
          1890,
          1698,
          1644,
          1530,
          1524,
          1482,
          1422,
          1278,
          1260
         ]
        }
       ],
       "layout": {
        "showlegend": false,
        "template": {
         "data": {
          "bar": [
           {
            "error_x": {
             "color": "#2a3f5f"
            },
            "error_y": {
             "color": "#2a3f5f"
            },
            "marker": {
             "line": {
              "color": "#E5ECF6",
              "width": 0.5
             },
             "pattern": {
              "fillmode": "overlay",
              "size": 10,
              "solidity": 0.2
             }
            },
            "type": "bar"
           }
          ],
          "barpolar": [
           {
            "marker": {
             "line": {
              "color": "#E5ECF6",
              "width": 0.5
             },
             "pattern": {
              "fillmode": "overlay",
              "size": 10,
              "solidity": 0.2
             }
            },
            "type": "barpolar"
           }
          ],
          "carpet": [
           {
            "aaxis": {
             "endlinecolor": "#2a3f5f",
             "gridcolor": "white",
             "linecolor": "white",
             "minorgridcolor": "white",
             "startlinecolor": "#2a3f5f"
            },
            "baxis": {
             "endlinecolor": "#2a3f5f",
             "gridcolor": "white",
             "linecolor": "white",
             "minorgridcolor": "white",
             "startlinecolor": "#2a3f5f"
            },
            "type": "carpet"
           }
          ],
          "choropleth": [
           {
            "colorbar": {
             "outlinewidth": 0,
             "ticks": ""
            },
            "type": "choropleth"
           }
          ],
          "contour": [
           {
            "colorbar": {
             "outlinewidth": 0,
             "ticks": ""
            },
            "colorscale": [
             [
              0,
              "#0d0887"
             ],
             [
              0.1111111111111111,
              "#46039f"
             ],
             [
              0.2222222222222222,
              "#7201a8"
             ],
             [
              0.3333333333333333,
              "#9c179e"
             ],
             [
              0.4444444444444444,
              "#bd3786"
             ],
             [
              0.5555555555555556,
              "#d8576b"
             ],
             [
              0.6666666666666666,
              "#ed7953"
             ],
             [
              0.7777777777777778,
              "#fb9f3a"
             ],
             [
              0.8888888888888888,
              "#fdca26"
             ],
             [
              1,
              "#f0f921"
             ]
            ],
            "type": "contour"
           }
          ],
          "contourcarpet": [
           {
            "colorbar": {
             "outlinewidth": 0,
             "ticks": ""
            },
            "type": "contourcarpet"
           }
          ],
          "heatmap": [
           {
            "colorbar": {
             "outlinewidth": 0,
             "ticks": ""
            },
            "colorscale": [
             [
              0,
              "#0d0887"
             ],
             [
              0.1111111111111111,
              "#46039f"
             ],
             [
              0.2222222222222222,
              "#7201a8"
             ],
             [
              0.3333333333333333,
              "#9c179e"
             ],
             [
              0.4444444444444444,
              "#bd3786"
             ],
             [
              0.5555555555555556,
              "#d8576b"
             ],
             [
              0.6666666666666666,
              "#ed7953"
             ],
             [
              0.7777777777777778,
              "#fb9f3a"
             ],
             [
              0.8888888888888888,
              "#fdca26"
             ],
             [
              1,
              "#f0f921"
             ]
            ],
            "type": "heatmap"
           }
          ],
          "heatmapgl": [
           {
            "colorbar": {
             "outlinewidth": 0,
             "ticks": ""
            },
            "colorscale": [
             [
              0,
              "#0d0887"
             ],
             [
              0.1111111111111111,
              "#46039f"
             ],
             [
              0.2222222222222222,
              "#7201a8"
             ],
             [
              0.3333333333333333,
              "#9c179e"
             ],
             [
              0.4444444444444444,
              "#bd3786"
             ],
             [
              0.5555555555555556,
              "#d8576b"
             ],
             [
              0.6666666666666666,
              "#ed7953"
             ],
             [
              0.7777777777777778,
              "#fb9f3a"
             ],
             [
              0.8888888888888888,
              "#fdca26"
             ],
             [
              1,
              "#f0f921"
             ]
            ],
            "type": "heatmapgl"
           }
          ],
          "histogram": [
           {
            "marker": {
             "pattern": {
              "fillmode": "overlay",
              "size": 10,
              "solidity": 0.2
             }
            },
            "type": "histogram"
           }
          ],
          "histogram2d": [
           {
            "colorbar": {
             "outlinewidth": 0,
             "ticks": ""
            },
            "colorscale": [
             [
              0,
              "#0d0887"
             ],
             [
              0.1111111111111111,
              "#46039f"
             ],
             [
              0.2222222222222222,
              "#7201a8"
             ],
             [
              0.3333333333333333,
              "#9c179e"
             ],
             [
              0.4444444444444444,
              "#bd3786"
             ],
             [
              0.5555555555555556,
              "#d8576b"
             ],
             [
              0.6666666666666666,
              "#ed7953"
             ],
             [
              0.7777777777777778,
              "#fb9f3a"
             ],
             [
              0.8888888888888888,
              "#fdca26"
             ],
             [
              1,
              "#f0f921"
             ]
            ],
            "type": "histogram2d"
           }
          ],
          "histogram2dcontour": [
           {
            "colorbar": {
             "outlinewidth": 0,
             "ticks": ""
            },
            "colorscale": [
             [
              0,
              "#0d0887"
             ],
             [
              0.1111111111111111,
              "#46039f"
             ],
             [
              0.2222222222222222,
              "#7201a8"
             ],
             [
              0.3333333333333333,
              "#9c179e"
             ],
             [
              0.4444444444444444,
              "#bd3786"
             ],
             [
              0.5555555555555556,
              "#d8576b"
             ],
             [
              0.6666666666666666,
              "#ed7953"
             ],
             [
              0.7777777777777778,
              "#fb9f3a"
             ],
             [
              0.8888888888888888,
              "#fdca26"
             ],
             [
              1,
              "#f0f921"
             ]
            ],
            "type": "histogram2dcontour"
           }
          ],
          "mesh3d": [
           {
            "colorbar": {
             "outlinewidth": 0,
             "ticks": ""
            },
            "type": "mesh3d"
           }
          ],
          "parcoords": [
           {
            "line": {
             "colorbar": {
              "outlinewidth": 0,
              "ticks": ""
             }
            },
            "type": "parcoords"
           }
          ],
          "pie": [
           {
            "automargin": true,
            "type": "pie"
           }
          ],
          "scatter": [
           {
            "fillpattern": {
             "fillmode": "overlay",
             "size": 10,
             "solidity": 0.2
            },
            "type": "scatter"
           }
          ],
          "scatter3d": [
           {
            "line": {
             "colorbar": {
              "outlinewidth": 0,
              "ticks": ""
             }
            },
            "marker": {
             "colorbar": {
              "outlinewidth": 0,
              "ticks": ""
             }
            },
            "type": "scatter3d"
           }
          ],
          "scattercarpet": [
           {
            "marker": {
             "colorbar": {
              "outlinewidth": 0,
              "ticks": ""
             }
            },
            "type": "scattercarpet"
           }
          ],
          "scattergeo": [
           {
            "marker": {
             "colorbar": {
              "outlinewidth": 0,
              "ticks": ""
             }
            },
            "type": "scattergeo"
           }
          ],
          "scattergl": [
           {
            "marker": {
             "colorbar": {
              "outlinewidth": 0,
              "ticks": ""
             }
            },
            "type": "scattergl"
           }
          ],
          "scattermapbox": [
           {
            "marker": {
             "colorbar": {
              "outlinewidth": 0,
              "ticks": ""
             }
            },
            "type": "scattermapbox"
           }
          ],
          "scatterpolar": [
           {
            "marker": {
             "colorbar": {
              "outlinewidth": 0,
              "ticks": ""
             }
            },
            "type": "scatterpolar"
           }
          ],
          "scatterpolargl": [
           {
            "marker": {
             "colorbar": {
              "outlinewidth": 0,
              "ticks": ""
             }
            },
            "type": "scatterpolargl"
           }
          ],
          "scatterternary": [
           {
            "marker": {
             "colorbar": {
              "outlinewidth": 0,
              "ticks": ""
             }
            },
            "type": "scatterternary"
           }
          ],
          "surface": [
           {
            "colorbar": {
             "outlinewidth": 0,
             "ticks": ""
            },
            "colorscale": [
             [
              0,
              "#0d0887"
             ],
             [
              0.1111111111111111,
              "#46039f"
             ],
             [
              0.2222222222222222,
              "#7201a8"
             ],
             [
              0.3333333333333333,
              "#9c179e"
             ],
             [
              0.4444444444444444,
              "#bd3786"
             ],
             [
              0.5555555555555556,
              "#d8576b"
             ],
             [
              0.6666666666666666,
              "#ed7953"
             ],
             [
              0.7777777777777778,
              "#fb9f3a"
             ],
             [
              0.8888888888888888,
              "#fdca26"
             ],
             [
              1,
              "#f0f921"
             ]
            ],
            "type": "surface"
           }
          ],
          "table": [
           {
            "cells": {
             "fill": {
              "color": "#EBF0F8"
             },
             "line": {
              "color": "white"
             }
            },
            "header": {
             "fill": {
              "color": "#C8D4E3"
             },
             "line": {
              "color": "white"
             }
            },
            "type": "table"
           }
          ]
         },
         "layout": {
          "annotationdefaults": {
           "arrowcolor": "#2a3f5f",
           "arrowhead": 0,
           "arrowwidth": 1
          },
          "autotypenumbers": "strict",
          "coloraxis": {
           "colorbar": {
            "outlinewidth": 0,
            "ticks": ""
           }
          },
          "colorscale": {
           "diverging": [
            [
             0,
             "#8e0152"
            ],
            [
             0.1,
             "#c51b7d"
            ],
            [
             0.2,
             "#de77ae"
            ],
            [
             0.3,
             "#f1b6da"
            ],
            [
             0.4,
             "#fde0ef"
            ],
            [
             0.5,
             "#f7f7f7"
            ],
            [
             0.6,
             "#e6f5d0"
            ],
            [
             0.7,
             "#b8e186"
            ],
            [
             0.8,
             "#7fbc41"
            ],
            [
             0.9,
             "#4d9221"
            ],
            [
             1,
             "#276419"
            ]
           ],
           "sequential": [
            [
             0,
             "#0d0887"
            ],
            [
             0.1111111111111111,
             "#46039f"
            ],
            [
             0.2222222222222222,
             "#7201a8"
            ],
            [
             0.3333333333333333,
             "#9c179e"
            ],
            [
             0.4444444444444444,
             "#bd3786"
            ],
            [
             0.5555555555555556,
             "#d8576b"
            ],
            [
             0.6666666666666666,
             "#ed7953"
            ],
            [
             0.7777777777777778,
             "#fb9f3a"
            ],
            [
             0.8888888888888888,
             "#fdca26"
            ],
            [
             1,
             "#f0f921"
            ]
           ],
           "sequentialminus": [
            [
             0,
             "#0d0887"
            ],
            [
             0.1111111111111111,
             "#46039f"
            ],
            [
             0.2222222222222222,
             "#7201a8"
            ],
            [
             0.3333333333333333,
             "#9c179e"
            ],
            [
             0.4444444444444444,
             "#bd3786"
            ],
            [
             0.5555555555555556,
             "#d8576b"
            ],
            [
             0.6666666666666666,
             "#ed7953"
            ],
            [
             0.7777777777777778,
             "#fb9f3a"
            ],
            [
             0.8888888888888888,
             "#fdca26"
            ],
            [
             1,
             "#f0f921"
            ]
           ]
          },
          "colorway": [
           "#636efa",
           "#EF553B",
           "#00cc96",
           "#ab63fa",
           "#FFA15A",
           "#19d3f3",
           "#FF6692",
           "#B6E880",
           "#FF97FF",
           "#FECB52"
          ],
          "font": {
           "color": "#2a3f5f"
          },
          "geo": {
           "bgcolor": "white",
           "lakecolor": "white",
           "landcolor": "#E5ECF6",
           "showlakes": true,
           "showland": true,
           "subunitcolor": "white"
          },
          "hoverlabel": {
           "align": "left"
          },
          "hovermode": "closest",
          "mapbox": {
           "style": "light"
          },
          "paper_bgcolor": "white",
          "plot_bgcolor": "#E5ECF6",
          "polar": {
           "angularaxis": {
            "gridcolor": "white",
            "linecolor": "white",
            "ticks": ""
           },
           "bgcolor": "#E5ECF6",
           "radialaxis": {
            "gridcolor": "white",
            "linecolor": "white",
            "ticks": ""
           }
          },
          "scene": {
           "xaxis": {
            "backgroundcolor": "#E5ECF6",
            "gridcolor": "white",
            "gridwidth": 2,
            "linecolor": "white",
            "showbackground": true,
            "ticks": "",
            "zerolinecolor": "white"
           },
           "yaxis": {
            "backgroundcolor": "#E5ECF6",
            "gridcolor": "white",
            "gridwidth": 2,
            "linecolor": "white",
            "showbackground": true,
            "ticks": "",
            "zerolinecolor": "white"
           },
           "zaxis": {
            "backgroundcolor": "#E5ECF6",
            "gridcolor": "white",
            "gridwidth": 2,
            "linecolor": "white",
            "showbackground": true,
            "ticks": "",
            "zerolinecolor": "white"
           }
          },
          "shapedefaults": {
           "line": {
            "color": "#2a3f5f"
           }
          },
          "ternary": {
           "aaxis": {
            "gridcolor": "white",
            "linecolor": "white",
            "ticks": ""
           },
           "baxis": {
            "gridcolor": "white",
            "linecolor": "white",
            "ticks": ""
           },
           "bgcolor": "#E5ECF6",
           "caxis": {
            "gridcolor": "white",
            "linecolor": "white",
            "ticks": ""
           }
          },
          "title": {
           "x": 0.05
          },
          "xaxis": {
           "automargin": true,
           "gridcolor": "white",
           "linecolor": "white",
           "ticks": "",
           "title": {
            "standoff": 15
           },
           "zerolinecolor": "white",
           "zerolinewidth": 2
          },
          "yaxis": {
           "automargin": true,
           "gridcolor": "white",
           "linecolor": "white",
           "ticks": "",
           "title": {
            "standoff": 15
           },
           "zerolinecolor": "white",
           "zerolinewidth": 2
          }
         }
        },
        "title": {
         "font": {
          "size": 40
         },
         "text": "City Having Higher Death Count"
        },
        "updatemenus": [
         {
          "active": 0,
          "buttons": [
           {
            "args": [
             {
              "visible": [
               true,
               false,
               false,
               false,
               false
              ]
             }
            ],
            "label": "5",
            "method": "update"
           },
           {
            "args": [
             {
              "visible": [
               false,
               true,
               false,
               false,
               false
              ]
             }
            ],
            "label": "10",
            "method": "update"
           },
           {
            "args": [
             {
              "visible": [
               false,
               false,
               true,
               false,
               false
              ]
             }
            ],
            "label": "15",
            "method": "update"
           },
           {
            "args": [
             {
              "visible": [
               false,
               false,
               false,
               true,
               false
              ]
             }
            ],
            "label": "20",
            "method": "update"
           },
           {
            "args": [
             {
              "visible": [
               false,
               false,
               false,
               false,
               true
              ]
             }
            ],
            "label": "25",
            "method": "update"
           }
          ],
          "direction": "down"
         }
        ],
        "xaxis": {
         "title": {
          "text": "City"
         }
        },
        "yaxis": {
         "title": {
          "text": "No Of Deaths"
         }
        }
       }
      }
     },
     "metadata": {},
     "output_type": "display_data"
    }
   ],
   "source": [
    "death_count_fig=go.Figure()\n",
    "death_count_plot_names = []\n",
    "death_count_buttons=[]\n",
    "default_Top_City = 5\n",
    "for death_count_city in Count:\n",
    "    death_count_df=death_count.head(death_count_city)\n",
    "    death_count_fig.add_trace(go.Bar(y=death_count_df[\"Count\"],x=death_count_df[\"Million Plus Cities\"],marker=dict(color=\"plum\"),text=death_count_df[\"Count\"],visible=(death_count_city==default_Top_City)))\n",
    "    death_count_plot_names.extend([death_count_city])\n",
    "    \n",
    "    \n",
    "for death_count_city in Count:\n",
    "    death_count_buttons.append(dict(method='update',\n",
    "                        label=death_count_city,\n",
    "                        args = [{'visible': [death_count_city==r for r in death_count_plot_names]}]))\n",
    "\n",
    "# Add dropdown menus to the figure\n",
    "death_count_fig.update_layout(showlegend=False, updatemenus=[{\"buttons\": death_count_buttons, \"direction\": \"down\", \"active\": Count.index(default_Top_City)}])\n",
    "death_count_fig.update_layout(xaxis_title=\"City\", yaxis_title=\"No Of Deaths\",title=dict(text=\"City Having Higher Death Count\", font=dict(size=40)))\n",
    "death_count_fig.show()"
   ]
  },
  {
   "cell_type": "markdown",
   "id": "15ab046c",
   "metadata": {
    "papermill": {
     "duration": 0.017378,
     "end_time": "2023-06-16T17:27:39.532376",
     "exception": false,
     "start_time": "2023-06-16T17:27:39.514998",
     "status": "completed"
    },
    "tags": []
   },
   "source": [
    "# Top N cities with Lower Death Count"
   ]
  },
  {
   "cell_type": "code",
   "execution_count": null,
   "id": "2aac121f",
   "metadata": {
    "execution": {
     "iopub.execute_input": "2023-06-16T17:27:39.569638Z",
     "iopub.status.busy": "2023-06-16T17:27:39.568992Z",
     "iopub.status.idle": "2023-06-16T17:27:39.573993Z",
     "shell.execute_reply": "2023-06-16T17:27:39.573298Z"
    },
    "papermill": {
     "duration": 0.026099,
     "end_time": "2023-06-16T17:27:39.576010",
     "exception": false,
     "start_time": "2023-06-16T17:27:39.549911",
     "status": "completed"
    },
    "tags": []
   },
   "outputs": [],
   "source": [
    "death_count_desc_df_order=death_count.sort_index(ascending=False)"
   ]
  },
  {
   "cell_type": "code",
   "execution_count": null,
   "id": "0ee8c5b2",
   "metadata": {
    "execution": {
     "iopub.execute_input": "2023-06-16T17:27:39.613073Z",
     "iopub.status.busy": "2023-06-16T17:27:39.612457Z",
     "iopub.status.idle": "2023-06-16T17:27:39.639225Z",
     "shell.execute_reply": "2023-06-16T17:27:39.638187Z"
    },
    "papermill": {
     "duration": 0.047953,
     "end_time": "2023-06-16T17:27:39.641404",
     "exception": false,
     "start_time": "2023-06-16T17:27:39.593451",
     "status": "completed"
    },
    "tags": []
   },
   "outputs": [
    {
     "data": {
      "application/vnd.plotly.v1+json": {
       "config": {
        "plotlyServerURL": "https://plot.ly"
       },
       "data": [
        {
         "marker": {
          "color": "teal"
         },
         "text": [
          270,
          282,
          318,
          342,
          360
         ],
         "type": "bar",
         "visible": true,
         "x": [
          "Srinagar",
          "Jamshedpur",
          "Chandigarh",
          "Kannur",
          "Kota"
         ],
         "y": [
          270,
          282,
          318,
          342,
          360
         ]
        },
        {
         "marker": {
          "color": "teal"
         },
         "text": [
          270,
          282,
          318,
          342,
          360,
          388,
          396,
          486,
          498,
          522
         ],
         "type": "bar",
         "visible": false,
         "x": [
          "Srinagar",
          "Jamshedpur",
          "Chandigarh",
          "Kannur",
          "Kota",
          "Coimbatore",
          "Amritsar",
          "Madurai",
          "Dhanbad",
          "Tiruchirapalli"
         ],
         "y": [
          270,
          282,
          318,
          342,
          360,
          388,
          396,
          486,
          498,
          522
         ]
        },
        {
         "marker": {
          "color": "teal"
         },
         "text": [
          270,
          282,
          318,
          342,
          360,
          388,
          396,
          486,
          498,
          522,
          546,
          606,
          648,
          804,
          816
         ],
         "type": "bar",
         "visible": false,
         "x": [
          "Srinagar",
          "Jamshedpur",
          "Chandigarh",
          "Kannur",
          "Kota",
          "Coimbatore",
          "Amritsar",
          "Madurai",
          "Dhanbad",
          "Tiruchirapalli",
          "Khozikode",
          "Kochi",
          "Thiruvanthapuram",
          "Thrissur",
          "Aurangabad"
         ],
         "y": [
          270,
          282,
          318,
          342,
          360,
          388,
          396,
          486,
          498,
          522,
          546,
          606,
          648,
          804,
          816
         ]
        },
        {
         "marker": {
          "color": "teal"
         },
         "text": [
          270,
          282,
          318,
          342,
          360,
          388,
          396,
          486,
          498,
          522,
          546,
          606,
          648,
          804,
          816,
          828,
          852,
          858,
          918,
          1026
         ],
         "type": "bar",
         "visible": false,
         "x": [
          "Srinagar",
          "Jamshedpur",
          "Chandigarh",
          "Kannur",
          "Kota",
          "Coimbatore",
          "Amritsar",
          "Madurai",
          "Dhanbad",
          "Tiruchirapalli",
          "Khozikode",
          "Kochi",
          "Thiruvanthapuram",
          "Thrissur",
          "Aurangabad",
          "Rajkot",
          "Jodhpur",
          "Pune",
          "Vadodra",
          "Nashik"
         ],
         "y": [
          270,
          282,
          318,
          342,
          360,
          388,
          396,
          486,
          498,
          522,
          546,
          606,
          648,
          804,
          816,
          828,
          852,
          858,
          918,
          1026
         ]
        },
        {
         "marker": {
          "color": "teal"
         },
         "text": [
          270,
          282,
          318,
          342,
          360,
          388,
          396,
          486,
          498,
          522,
          546,
          606,
          648,
          804,
          816,
          828,
          852,
          858,
          918,
          1026,
          1086,
          1146,
          1164,
          1170,
          1206
         ],
         "type": "bar",
         "visible": false,
         "x": [
          "Srinagar",
          "Jamshedpur",
          "Chandigarh",
          "Kannur",
          "Kota",
          "Coimbatore",
          "Amritsar",
          "Madurai",
          "Dhanbad",
          "Tiruchirapalli",
          "Khozikode",
          "Kochi",
          "Thiruvanthapuram",
          "Thrissur",
          "Aurangabad",
          "Rajkot",
          "Jodhpur",
          "Pune",
          "Vadodra",
          "Nashik",
          "Patna",
          "Surat",
          "Kollam",
          "Faridabad",
          "Kolkata"
         ],
         "y": [
          270,
          282,
          318,
          342,
          360,
          388,
          396,
          486,
          498,
          522,
          546,
          606,
          648,
          804,
          816,
          828,
          852,
          858,
          918,
          1026,
          1086,
          1146,
          1164,
          1170,
          1206
         ]
        }
       ],
       "layout": {
        "showlegend": false,
        "template": {
         "data": {
          "bar": [
           {
            "error_x": {
             "color": "#2a3f5f"
            },
            "error_y": {
             "color": "#2a3f5f"
            },
            "marker": {
             "line": {
              "color": "#E5ECF6",
              "width": 0.5
             },
             "pattern": {
              "fillmode": "overlay",
              "size": 10,
              "solidity": 0.2
             }
            },
            "type": "bar"
           }
          ],
          "barpolar": [
           {
            "marker": {
             "line": {
              "color": "#E5ECF6",
              "width": 0.5
             },
             "pattern": {
              "fillmode": "overlay",
              "size": 10,
              "solidity": 0.2
             }
            },
            "type": "barpolar"
           }
          ],
          "carpet": [
           {
            "aaxis": {
             "endlinecolor": "#2a3f5f",
             "gridcolor": "white",
             "linecolor": "white",
             "minorgridcolor": "white",
             "startlinecolor": "#2a3f5f"
            },
            "baxis": {
             "endlinecolor": "#2a3f5f",
             "gridcolor": "white",
             "linecolor": "white",
             "minorgridcolor": "white",
             "startlinecolor": "#2a3f5f"
            },
            "type": "carpet"
           }
          ],
          "choropleth": [
           {
            "colorbar": {
             "outlinewidth": 0,
             "ticks": ""
            },
            "type": "choropleth"
           }
          ],
          "contour": [
           {
            "colorbar": {
             "outlinewidth": 0,
             "ticks": ""
            },
            "colorscale": [
             [
              0,
              "#0d0887"
             ],
             [
              0.1111111111111111,
              "#46039f"
             ],
             [
              0.2222222222222222,
              "#7201a8"
             ],
             [
              0.3333333333333333,
              "#9c179e"
             ],
             [
              0.4444444444444444,
              "#bd3786"
             ],
             [
              0.5555555555555556,
              "#d8576b"
             ],
             [
              0.6666666666666666,
              "#ed7953"
             ],
             [
              0.7777777777777778,
              "#fb9f3a"
             ],
             [
              0.8888888888888888,
              "#fdca26"
             ],
             [
              1,
              "#f0f921"
             ]
            ],
            "type": "contour"
           }
          ],
          "contourcarpet": [
           {
            "colorbar": {
             "outlinewidth": 0,
             "ticks": ""
            },
            "type": "contourcarpet"
           }
          ],
          "heatmap": [
           {
            "colorbar": {
             "outlinewidth": 0,
             "ticks": ""
            },
            "colorscale": [
             [
              0,
              "#0d0887"
             ],
             [
              0.1111111111111111,
              "#46039f"
             ],
             [
              0.2222222222222222,
              "#7201a8"
             ],
             [
              0.3333333333333333,
              "#9c179e"
             ],
             [
              0.4444444444444444,
              "#bd3786"
             ],
             [
              0.5555555555555556,
              "#d8576b"
             ],
             [
              0.6666666666666666,
              "#ed7953"
             ],
             [
              0.7777777777777778,
              "#fb9f3a"
             ],
             [
              0.8888888888888888,
              "#fdca26"
             ],
             [
              1,
              "#f0f921"
             ]
            ],
            "type": "heatmap"
           }
          ],
          "heatmapgl": [
           {
            "colorbar": {
             "outlinewidth": 0,
             "ticks": ""
            },
            "colorscale": [
             [
              0,
              "#0d0887"
             ],
             [
              0.1111111111111111,
              "#46039f"
             ],
             [
              0.2222222222222222,
              "#7201a8"
             ],
             [
              0.3333333333333333,
              "#9c179e"
             ],
             [
              0.4444444444444444,
              "#bd3786"
             ],
             [
              0.5555555555555556,
              "#d8576b"
             ],
             [
              0.6666666666666666,
              "#ed7953"
             ],
             [
              0.7777777777777778,
              "#fb9f3a"
             ],
             [
              0.8888888888888888,
              "#fdca26"
             ],
             [
              1,
              "#f0f921"
             ]
            ],
            "type": "heatmapgl"
           }
          ],
          "histogram": [
           {
            "marker": {
             "pattern": {
              "fillmode": "overlay",
              "size": 10,
              "solidity": 0.2
             }
            },
            "type": "histogram"
           }
          ],
          "histogram2d": [
           {
            "colorbar": {
             "outlinewidth": 0,
             "ticks": ""
            },
            "colorscale": [
             [
              0,
              "#0d0887"
             ],
             [
              0.1111111111111111,
              "#46039f"
             ],
             [
              0.2222222222222222,
              "#7201a8"
             ],
             [
              0.3333333333333333,
              "#9c179e"
             ],
             [
              0.4444444444444444,
              "#bd3786"
             ],
             [
              0.5555555555555556,
              "#d8576b"
             ],
             [
              0.6666666666666666,
              "#ed7953"
             ],
             [
              0.7777777777777778,
              "#fb9f3a"
             ],
             [
              0.8888888888888888,
              "#fdca26"
             ],
             [
              1,
              "#f0f921"
             ]
            ],
            "type": "histogram2d"
           }
          ],
          "histogram2dcontour": [
           {
            "colorbar": {
             "outlinewidth": 0,
             "ticks": ""
            },
            "colorscale": [
             [
              0,
              "#0d0887"
             ],
             [
              0.1111111111111111,
              "#46039f"
             ],
             [
              0.2222222222222222,
              "#7201a8"
             ],
             [
              0.3333333333333333,
              "#9c179e"
             ],
             [
              0.4444444444444444,
              "#bd3786"
             ],
             [
              0.5555555555555556,
              "#d8576b"
             ],
             [
              0.6666666666666666,
              "#ed7953"
             ],
             [
              0.7777777777777778,
              "#fb9f3a"
             ],
             [
              0.8888888888888888,
              "#fdca26"
             ],
             [
              1,
              "#f0f921"
             ]
            ],
            "type": "histogram2dcontour"
           }
          ],
          "mesh3d": [
           {
            "colorbar": {
             "outlinewidth": 0,
             "ticks": ""
            },
            "type": "mesh3d"
           }
          ],
          "parcoords": [
           {
            "line": {
             "colorbar": {
              "outlinewidth": 0,
              "ticks": ""
             }
            },
            "type": "parcoords"
           }
          ],
          "pie": [
           {
            "automargin": true,
            "type": "pie"
           }
          ],
          "scatter": [
           {
            "fillpattern": {
             "fillmode": "overlay",
             "size": 10,
             "solidity": 0.2
            },
            "type": "scatter"
           }
          ],
          "scatter3d": [
           {
            "line": {
             "colorbar": {
              "outlinewidth": 0,
              "ticks": ""
             }
            },
            "marker": {
             "colorbar": {
              "outlinewidth": 0,
              "ticks": ""
             }
            },
            "type": "scatter3d"
           }
          ],
          "scattercarpet": [
           {
            "marker": {
             "colorbar": {
              "outlinewidth": 0,
              "ticks": ""
             }
            },
            "type": "scattercarpet"
           }
          ],
          "scattergeo": [
           {
            "marker": {
             "colorbar": {
              "outlinewidth": 0,
              "ticks": ""
             }
            },
            "type": "scattergeo"
           }
          ],
          "scattergl": [
           {
            "marker": {
             "colorbar": {
              "outlinewidth": 0,
              "ticks": ""
             }
            },
            "type": "scattergl"
           }
          ],
          "scattermapbox": [
           {
            "marker": {
             "colorbar": {
              "outlinewidth": 0,
              "ticks": ""
             }
            },
            "type": "scattermapbox"
           }
          ],
          "scatterpolar": [
           {
            "marker": {
             "colorbar": {
              "outlinewidth": 0,
              "ticks": ""
             }
            },
            "type": "scatterpolar"
           }
          ],
          "scatterpolargl": [
           {
            "marker": {
             "colorbar": {
              "outlinewidth": 0,
              "ticks": ""
             }
            },
            "type": "scatterpolargl"
           }
          ],
          "scatterternary": [
           {
            "marker": {
             "colorbar": {
              "outlinewidth": 0,
              "ticks": ""
             }
            },
            "type": "scatterternary"
           }
          ],
          "surface": [
           {
            "colorbar": {
             "outlinewidth": 0,
             "ticks": ""
            },
            "colorscale": [
             [
              0,
              "#0d0887"
             ],
             [
              0.1111111111111111,
              "#46039f"
             ],
             [
              0.2222222222222222,
              "#7201a8"
             ],
             [
              0.3333333333333333,
              "#9c179e"
             ],
             [
              0.4444444444444444,
              "#bd3786"
             ],
             [
              0.5555555555555556,
              "#d8576b"
             ],
             [
              0.6666666666666666,
              "#ed7953"
             ],
             [
              0.7777777777777778,
              "#fb9f3a"
             ],
             [
              0.8888888888888888,
              "#fdca26"
             ],
             [
              1,
              "#f0f921"
             ]
            ],
            "type": "surface"
           }
          ],
          "table": [
           {
            "cells": {
             "fill": {
              "color": "#EBF0F8"
             },
             "line": {
              "color": "white"
             }
            },
            "header": {
             "fill": {
              "color": "#C8D4E3"
             },
             "line": {
              "color": "white"
             }
            },
            "type": "table"
           }
          ]
         },
         "layout": {
          "annotationdefaults": {
           "arrowcolor": "#2a3f5f",
           "arrowhead": 0,
           "arrowwidth": 1
          },
          "autotypenumbers": "strict",
          "coloraxis": {
           "colorbar": {
            "outlinewidth": 0,
            "ticks": ""
           }
          },
          "colorscale": {
           "diverging": [
            [
             0,
             "#8e0152"
            ],
            [
             0.1,
             "#c51b7d"
            ],
            [
             0.2,
             "#de77ae"
            ],
            [
             0.3,
             "#f1b6da"
            ],
            [
             0.4,
             "#fde0ef"
            ],
            [
             0.5,
             "#f7f7f7"
            ],
            [
             0.6,
             "#e6f5d0"
            ],
            [
             0.7,
             "#b8e186"
            ],
            [
             0.8,
             "#7fbc41"
            ],
            [
             0.9,
             "#4d9221"
            ],
            [
             1,
             "#276419"
            ]
           ],
           "sequential": [
            [
             0,
             "#0d0887"
            ],
            [
             0.1111111111111111,
             "#46039f"
            ],
            [
             0.2222222222222222,
             "#7201a8"
            ],
            [
             0.3333333333333333,
             "#9c179e"
            ],
            [
             0.4444444444444444,
             "#bd3786"
            ],
            [
             0.5555555555555556,
             "#d8576b"
            ],
            [
             0.6666666666666666,
             "#ed7953"
            ],
            [
             0.7777777777777778,
             "#fb9f3a"
            ],
            [
             0.8888888888888888,
             "#fdca26"
            ],
            [
             1,
             "#f0f921"
            ]
           ],
           "sequentialminus": [
            [
             0,
             "#0d0887"
            ],
            [
             0.1111111111111111,
             "#46039f"
            ],
            [
             0.2222222222222222,
             "#7201a8"
            ],
            [
             0.3333333333333333,
             "#9c179e"
            ],
            [
             0.4444444444444444,
             "#bd3786"
            ],
            [
             0.5555555555555556,
             "#d8576b"
            ],
            [
             0.6666666666666666,
             "#ed7953"
            ],
            [
             0.7777777777777778,
             "#fb9f3a"
            ],
            [
             0.8888888888888888,
             "#fdca26"
            ],
            [
             1,
             "#f0f921"
            ]
           ]
          },
          "colorway": [
           "#636efa",
           "#EF553B",
           "#00cc96",
           "#ab63fa",
           "#FFA15A",
           "#19d3f3",
           "#FF6692",
           "#B6E880",
           "#FF97FF",
           "#FECB52"
          ],
          "font": {
           "color": "#2a3f5f"
          },
          "geo": {
           "bgcolor": "white",
           "lakecolor": "white",
           "landcolor": "#E5ECF6",
           "showlakes": true,
           "showland": true,
           "subunitcolor": "white"
          },
          "hoverlabel": {
           "align": "left"
          },
          "hovermode": "closest",
          "mapbox": {
           "style": "light"
          },
          "paper_bgcolor": "white",
          "plot_bgcolor": "#E5ECF6",
          "polar": {
           "angularaxis": {
            "gridcolor": "white",
            "linecolor": "white",
            "ticks": ""
           },
           "bgcolor": "#E5ECF6",
           "radialaxis": {
            "gridcolor": "white",
            "linecolor": "white",
            "ticks": ""
           }
          },
          "scene": {
           "xaxis": {
            "backgroundcolor": "#E5ECF6",
            "gridcolor": "white",
            "gridwidth": 2,
            "linecolor": "white",
            "showbackground": true,
            "ticks": "",
            "zerolinecolor": "white"
           },
           "yaxis": {
            "backgroundcolor": "#E5ECF6",
            "gridcolor": "white",
            "gridwidth": 2,
            "linecolor": "white",
            "showbackground": true,
            "ticks": "",
            "zerolinecolor": "white"
           },
           "zaxis": {
            "backgroundcolor": "#E5ECF6",
            "gridcolor": "white",
            "gridwidth": 2,
            "linecolor": "white",
            "showbackground": true,
            "ticks": "",
            "zerolinecolor": "white"
           }
          },
          "shapedefaults": {
           "line": {
            "color": "#2a3f5f"
           }
          },
          "ternary": {
           "aaxis": {
            "gridcolor": "white",
            "linecolor": "white",
            "ticks": ""
           },
           "baxis": {
            "gridcolor": "white",
            "linecolor": "white",
            "ticks": ""
           },
           "bgcolor": "#E5ECF6",
           "caxis": {
            "gridcolor": "white",
            "linecolor": "white",
            "ticks": ""
           }
          },
          "title": {
           "x": 0.05
          },
          "xaxis": {
           "automargin": true,
           "gridcolor": "white",
           "linecolor": "white",
           "ticks": "",
           "title": {
            "standoff": 15
           },
           "zerolinecolor": "white",
           "zerolinewidth": 2
          },
          "yaxis": {
           "automargin": true,
           "gridcolor": "white",
           "linecolor": "white",
           "ticks": "",
           "title": {
            "standoff": 15
           },
           "zerolinecolor": "white",
           "zerolinewidth": 2
          }
         }
        },
        "title": {
         "font": {
          "size": 40
         },
         "text": "City Having Lower Death Count"
        },
        "updatemenus": [
         {
          "active": 0,
          "buttons": [
           {
            "args": [
             {
              "visible": [
               true,
               false,
               false,
               false,
               false
              ]
             }
            ],
            "label": "5",
            "method": "update"
           },
           {
            "args": [
             {
              "visible": [
               false,
               true,
               false,
               false,
               false
              ]
             }
            ],
            "label": "10",
            "method": "update"
           },
           {
            "args": [
             {
              "visible": [
               false,
               false,
               true,
               false,
               false
              ]
             }
            ],
            "label": "15",
            "method": "update"
           },
           {
            "args": [
             {
              "visible": [
               false,
               false,
               false,
               true,
               false
              ]
             }
            ],
            "label": "20",
            "method": "update"
           },
           {
            "args": [
             {
              "visible": [
               false,
               false,
               false,
               false,
               true
              ]
             }
            ],
            "label": "25",
            "method": "update"
           }
          ],
          "direction": "down"
         }
        ],
        "xaxis": {
         "title": {
          "text": "City"
         }
        },
        "yaxis": {
         "title": {
          "text": "No Of Deaths"
         }
        }
       }
      }
     },
     "metadata": {},
     "output_type": "display_data"
    }
   ],
   "source": [
    "death_count_desc_fig=go.Figure()\n",
    "death_count_desc_plot_names = []\n",
    "death_count_desc_buttons=[]\n",
    "default_Top_City = 5\n",
    "for death_count_desc_city in Count:\n",
    "    death_count_desc_df=death_count_desc_df_order.head(death_count_desc_city)\n",
    "    death_count_desc_fig.add_trace(go.Bar(y=death_count_desc_df[\"Count\"],x=death_count_desc_df[\"Million Plus Cities\"],marker=dict(color=\"teal\"),text=death_count_desc_df[\"Count\"],visible=(death_count_desc_city==default_Top_City)))\n",
    "    death_count_desc_plot_names.extend([death_count_desc_city])\n",
    "    \n",
    "    \n",
    "for death_count_desc_city in Count:\n",
    "    death_count_desc_buttons.append(dict(method='update',\n",
    "                        label=death_count_desc_city,\n",
    "                        args = [{'visible': [death_count_desc_city==r for r in death_count_desc_plot_names]}]))\n",
    "\n",
    "# Add dropdown menus to the figure\n",
    "death_count_desc_fig.update_layout(showlegend=False, updatemenus=[{\"buttons\": death_count_desc_buttons, \"direction\": \"down\", \"active\": Count.index(default_Top_City)}])\n",
    "death_count_desc_fig.update_layout(xaxis_title=\"City\", yaxis_title=\"No Of Deaths\",title=dict(text=\"City Having Lower Death Count\", font=dict(size=40)))\n",
    "death_count_desc_fig.show()"
   ]
  },
  {
   "cell_type": "markdown",
   "id": "ec00a978",
   "metadata": {
    "papermill": {
     "duration": 0.017775,
     "end_time": "2023-06-16T17:27:39.677066",
     "exception": false,
     "start_time": "2023-06-16T17:27:39.659291",
     "status": "completed"
    },
    "tags": []
   },
   "source": [
    "# Outcome of the Incident For each City"
   ]
  },
  {
   "cell_type": "code",
   "execution_count": null,
   "id": "8f78450a",
   "metadata": {
    "execution": {
     "iopub.execute_input": "2023-06-16T17:27:39.715215Z",
     "iopub.status.busy": "2023-06-16T17:27:39.714797Z",
     "iopub.status.idle": "2023-06-16T17:27:39.988278Z",
     "shell.execute_reply": "2023-06-16T17:27:39.987247Z"
    },
    "papermill": {
     "duration": 0.295118,
     "end_time": "2023-06-16T17:27:39.990601",
     "exception": false,
     "start_time": "2023-06-16T17:27:39.695483",
     "status": "completed"
    },
    "tags": []
   },
   "outputs": [
    {
     "data": {
      "application/vnd.plotly.v1+json": {
       "config": {
        "plotlyServerURL": "https://plot.ly"
       },
       "data": [
        {
         "marker": {
          "color": "tomato"
         },
         "text": [
          5436,
          3165,
          3084,
          2262,
          1536
         ],
         "type": "bar",
         "visible": false,
         "x": [
          "Total number of Accidents",
          "Total Injured",
          "Persons Killed",
          "Greviously Injured",
          "Minor Injury"
         ],
         "y": [
          5436,
          3165,
          3084,
          2262,
          1536
         ]
        },
        {
         "marker": {
          "color": "tomato"
         },
         "text": [
          7110,
          3930,
          2856,
          2040,
          1860
         ],
         "type": "bar",
         "visible": false,
         "x": [
          "Total number of Accidents",
          "Total Injured",
          "Greviously Injured",
          "Persons Killed",
          "Minor Injury"
         ],
         "y": [
          7110,
          3930,
          2856,
          2040,
          1860
         ]
        },
        {
         "marker": {
          "color": "tomato"
         },
         "text": [
          6912,
          3666,
          3660,
          3102,
          726
         ],
         "type": "bar",
         "visible": false,
         "x": [
          "Total number of Accidents",
          "Minor Injury",
          "Total Injured",
          "Persons Killed",
          "Greviously Injured"
         ],
         "y": [
          6912,
          3666,
          3660,
          3102,
          726
         ]
        },
        {
         "marker": {
          "color": "tomato"
         },
         "text": [
          600,
          396,
          295,
          228,
          126
         ],
         "type": "bar",
         "visible": false,
         "x": [
          "Total number of Accidents",
          "Persons Killed",
          "Total Injured",
          "Greviously Injured",
          "Minor Injury"
         ],
         "y": [
          600,
          396,
          295,
          228,
          126
         ]
        },
        {
         "marker": {
          "color": "tomato"
         },
         "text": [
          2568,
          1890,
          1230,
          1218,
          258
         ],
         "type": "bar",
         "visible": false,
         "x": [
          "Total number of Accidents",
          "Persons Killed",
          "Total Injured",
          "Greviously Injured",
          "Minor Injury"
         ],
         "y": [
          2568,
          1890,
          1230,
          1218,
          258
         ]
        },
        {
         "marker": {
          "color": "tomato"
         },
         "text": [
          2436,
          1465,
          1320,
          816,
          438
         ],
         "type": "bar",
         "visible": false,
         "x": [
          "Total number of Accidents",
          "Total Injured",
          "Greviously Injured",
          "Persons Killed",
          "Minor Injury"
         ],
         "y": [
          2436,
          1465,
          1320,
          816,
          438
         ]
        },
        {
         "marker": {
          "color": "tomato"
         },
         "text": [
          19398,
          13755,
          10242,
          6264,
          3876
         ],
         "type": "bar",
         "visible": false,
         "x": [
          "Total number of Accidents",
          "Total Injured",
          "Greviously Injured",
          "Minor Injury",
          "Persons Killed"
         ],
         "y": [
          19398,
          13755,
          10242,
          6264,
          3876
         ]
        },
        {
         "marker": {
          "color": "tomato"
         },
         "text": [
          13770,
          9726,
          9035,
          1422,
          1116
         ],
         "type": "bar",
         "visible": false,
         "x": [
          "Total number of Accidents",
          "Minor Injury",
          "Total Injured",
          "Persons Killed",
          "Greviously Injured"
         ],
         "y": [
          13770,
          9726,
          9035,
          1422,
          1116
         ]
        },
        {
         "marker": {
          "color": "tomato"
         },
         "text": [
          954,
          804,
          740,
          318,
          84
         ],
         "type": "bar",
         "visible": false,
         "x": [
          "Total number of Accidents",
          "Minor Injury",
          "Total Injured",
          "Persons Killed",
          "Greviously Injured"
         ],
         "y": [
          954,
          804,
          740,
          318,
          84
         ]
        },
        {
         "marker": {
          "color": "tomato"
         },
         "text": [
          26334,
          21315,
          19932,
          5646,
          5232
         ],
         "type": "bar",
         "visible": true,
         "x": [
          "Total number of Accidents",
          "Total Injured",
          "Minor Injury",
          "Greviously Injured",
          "Persons Killed"
         ],
         "y": [
          26334,
          21315,
          19932,
          5646,
          5232
         ]
        },
        {
         "marker": {
          "color": "tomato"
         },
         "text": [
          4242,
          3610,
          2250,
          2082,
          388
         ],
         "type": "bar",
         "visible": false,
         "x": [
          "Total number of Accidents",
          "Total Injured",
          "Minor Injury",
          "Greviously Injured",
          "Persons Killed"
         ],
         "y": [
          4242,
          3610,
          2250,
          2082,
          388
         ]
        },
        {
         "marker": {
          "color": "tomato"
         },
         "text": [
          25068,
          20700,
          18310,
          7176,
          1272
         ],
         "type": "bar",
         "visible": false,
         "x": [
          "Total number of Accidents",
          "Minor Injury",
          "Total Injured",
          "Persons Killed",
          "Greviously Injured"
         ],
         "y": [
          25068,
          20700,
          18310,
          7176,
          1272
         ]
        },
        {
         "marker": {
          "color": "tomato"
         },
         "text": [
          984,
          498,
          490,
          432,
          156
         ],
         "type": "bar",
         "visible": false,
         "x": [
          "Total number of Accidents",
          "Persons Killed",
          "Total Injured",
          "Greviously Injured",
          "Minor Injury"
         ],
         "y": [
          984,
          498,
          490,
          432,
          156
         ]
        },
        {
         "marker": {
          "color": "tomato"
         },
         "text": [
          2934,
          2136,
          2105,
          1170,
          390
         ],
         "type": "bar",
         "visible": false,
         "x": [
          "Total number of Accidents",
          "Minor Injury",
          "Total Injured",
          "Persons Killed",
          "Greviously Injured"
         ],
         "y": [
          2934,
          2136,
          2105,
          1170,
          390
         ]
        },
        {
         "marker": {
          "color": "tomato"
         },
         "text": [
          4248,
          2325,
          1956,
          1782,
          1008
         ],
         "type": "bar",
         "visible": false,
         "x": [
          "Total number of Accidents",
          "Total Injured",
          "Persons Killed",
          "Greviously Injured",
          "Minor Injury"
         ],
         "y": [
          4248,
          2325,
          1956,
          1782,
          1008
         ]
        },
        {
         "marker": {
          "color": "tomato"
         },
         "text": [
          10794,
          7404,
          6645,
          1896,
          570
         ],
         "type": "bar",
         "visible": false,
         "x": [
          "Total number of Accidents",
          "Minor Injury",
          "Total Injured",
          "Persons Killed",
          "Greviously Injured"
         ],
         "y": [
          10794,
          7404,
          6645,
          1896,
          570
         ]
        },
        {
         "marker": {
          "color": "tomato"
         },
         "text": [
          12384,
          10770,
          9460,
          1524,
          582
         ],
         "type": "bar",
         "visible": false,
         "x": [
          "Total number of Accidents",
          "Minor Injury",
          "Total Injured",
          "Persons Killed",
          "Greviously Injured"
         ],
         "y": [
          12384,
          10770,
          9460,
          1524,
          582
         ]
        },
        {
         "marker": {
          "color": "tomato"
         },
         "text": [
          18216,
          14556,
          13240,
          2754,
          1332
         ],
         "type": "bar",
         "visible": false,
         "x": [
          "Total number of Accidents",
          "Minor Injury",
          "Total Injured",
          "Persons Killed",
          "Greviously Injured"
         ],
         "y": [
          18216,
          14556,
          13240,
          2754,
          1332
         ]
        },
        {
         "marker": {
          "color": "tomato"
         },
         "text": [
          19356,
          16602,
          16285,
          2940,
          2532
         ],
         "type": "bar",
         "visible": false,
         "x": [
          "Total number of Accidents",
          "Minor Injury",
          "Total Injured",
          "Greviously Injured",
          "Persons Killed"
         ],
         "y": [
          19356,
          16602,
          16285,
          2940,
          2532
         ]
        },
        {
         "marker": {
          "color": "tomato"
         },
         "text": [
          11640,
          7840,
          6744,
          3636,
          2664
         ],
         "type": "bar",
         "visible": false,
         "x": [
          "Total number of Accidents",
          "Total Injured",
          "Minor Injury",
          "Persons Killed",
          "Greviously Injured"
         ],
         "y": [
          11640,
          7840,
          6744,
          3636,
          2664
         ]
        },
        {
         "marker": {
          "color": "tomato"
         },
         "text": [
          714,
          456,
          455,
          282,
          90
         ],
         "type": "bar",
         "visible": false,
         "x": [
          "Total number of Accidents",
          "Greviously Injured",
          "Total Injured",
          "Persons Killed",
          "Minor Injury"
         ],
         "y": [
          714,
          456,
          455,
          282,
          90
         ]
        },
        {
         "marker": {
          "color": "tomato"
         },
         "text": [
          1752,
          1044,
          1035,
          852,
          198
         ],
         "type": "bar",
         "visible": false,
         "x": [
          "Total number of Accidents",
          "Minor Injury",
          "Total Injured",
          "Persons Killed",
          "Greviously Injured"
         ],
         "y": [
          1752,
          1044,
          1035,
          852,
          198
         ]
        },
        {
         "marker": {
          "color": "tomato"
         },
         "text": [
          3024,
          2865,
          1824,
          1614,
          342
         ],
         "type": "bar",
         "visible": false,
         "x": [
          "Total number of Accidents",
          "Total Injured",
          "Greviously Injured",
          "Minor Injury",
          "Persons Killed"
         ],
         "y": [
          3024,
          2865,
          1824,
          1614,
          342
         ]
        },
        {
         "marker": {
          "color": "tomato"
         },
         "text": [
          7344,
          4158,
          3890,
          3378,
          510
         ],
         "type": "bar",
         "visible": false,
         "x": [
          "Total number of Accidents",
          "Greviously Injured",
          "Total Injured",
          "Persons Killed",
          "Minor Injury"
         ],
         "y": [
          7344,
          4158,
          3890,
          3378,
          510
         ]
        },
        {
         "marker": {
          "color": "tomato"
         },
         "text": [
          6018,
          5060,
          4572,
          1500,
          546
         ],
         "type": "bar",
         "visible": false,
         "x": [
          "Total number of Accidents",
          "Total Injured",
          "Greviously Injured",
          "Minor Injury",
          "Persons Killed"
         ],
         "y": [
          6018,
          5060,
          4572,
          1500,
          546
         ]
        },
        {
         "marker": {
          "color": "tomato"
         },
         "text": [
          8622,
          7030,
          6732,
          1704,
          606
         ],
         "type": "bar",
         "visible": false,
         "x": [
          "Total number of Accidents",
          "Total Injured",
          "Greviously Injured",
          "Minor Injury",
          "Persons Killed"
         ],
         "y": [
          8622,
          7030,
          6732,
          1704,
          606
         ]
        },
        {
         "marker": {
          "color": "tomato"
         },
         "text": [
          10098,
          7005,
          5064,
          3342,
          1206
         ],
         "type": "bar",
         "visible": false,
         "x": [
          "Total number of Accidents",
          "Total Injured",
          "Greviously Injured",
          "Minor Injury",
          "Persons Killed"
         ],
         "y": [
          10098,
          7005,
          5064,
          3342,
          1206
         ]
        },
        {
         "marker": {
          "color": "tomato"
         },
         "text": [
          8466,
          7236,
          6905,
          1164,
          1050
         ],
         "type": "bar",
         "visible": false,
         "x": [
          "Total number of Accidents",
          "Greviously Injured",
          "Total Injured",
          "Persons Killed",
          "Minor Injury"
         ],
         "y": [
          8466,
          7236,
          6905,
          1164,
          1050
         ]
        },
        {
         "marker": {
          "color": "tomato"
         },
         "text": [
          2118,
          1810,
          1770,
          402,
          360
         ],
         "type": "bar",
         "visible": false,
         "x": [
          "Total number of Accidents",
          "Total Injured",
          "Minor Injury",
          "Greviously Injured",
          "Persons Killed"
         ],
         "y": [
          2118,
          1810,
          1770,
          402,
          360
         ]
        },
        {
         "marker": {
          "color": "tomato"
         },
         "text": [
          5676,
          2770,
          2244,
          1836,
          1488
         ],
         "type": "bar",
         "visible": false,
         "x": [
          "Total number of Accidents",
          "Total Injured",
          "Persons Killed",
          "Greviously Injured",
          "Minor Injury"
         ],
         "y": [
          5676,
          2770,
          2244,
          1836,
          1488
         ]
        },
        {
         "marker": {
          "color": "tomato"
         },
         "text": [
          2508,
          1698,
          920,
          834,
          270
         ],
         "type": "bar",
         "visible": false,
         "x": [
          "Total number of Accidents",
          "Persons Killed",
          "Total Injured",
          "Greviously Injured",
          "Minor Injury"
         ],
         "y": [
          2508,
          1698,
          920,
          834,
          270
         ]
        },
        {
         "marker": {
          "color": "tomato"
         },
         "text": [
          3180,
          2495,
          2322,
          672,
          486
         ],
         "type": "bar",
         "visible": false,
         "x": [
          "Total number of Accidents",
          "Total Injured",
          "Minor Injury",
          "Greviously Injured",
          "Persons Killed"
         ],
         "y": [
          3180,
          2495,
          2322,
          672,
          486
         ]
        },
        {
         "marker": {
          "color": "tomato"
         },
         "text": [
          10704,
          9140,
          8208,
          2760,
          1482
         ],
         "type": "bar",
         "visible": false,
         "x": [
          "Total number of Accidents",
          "Total Injured",
          "Greviously Injured",
          "Minor Injury",
          "Persons Killed"
         ],
         "y": [
          10704,
          9140,
          8208,
          2760,
          1482
         ]
        },
        {
         "marker": {
          "color": "tomato"
         },
         "text": [
          4350,
          2760,
          2435,
          2094,
          162
         ],
         "type": "bar",
         "visible": false,
         "x": [
          "Total number of Accidents",
          "Minor Injury",
          "Total Injured",
          "Persons Killed",
          "Greviously Injured"
         ],
         "y": [
          4350,
          2760,
          2435,
          2094,
          162
         ]
        },
        {
         "marker": {
          "color": "tomato"
         },
         "text": [
          10872,
          8700,
          7782,
          2658,
          2094
         ],
         "type": "bar",
         "visible": false,
         "x": [
          "Total number of Accidents",
          "Total Injured",
          "Greviously Injured",
          "Minor Injury",
          "Persons Killed"
         ],
         "y": [
          10872,
          8700,
          7782,
          2658,
          2094
         ]
        },
        {
         "marker": {
          "color": "tomato"
         },
         "text": [
          4638,
          3760,
          2520,
          1992,
          1260
         ],
         "type": "bar",
         "visible": false,
         "x": [
          "Total number of Accidents",
          "Total Injured",
          "Greviously Injured",
          "Minor Injury",
          "Persons Killed"
         ],
         "y": [
          4638,
          3760,
          2520,
          1992,
          1260
         ]
        },
        {
         "marker": {
          "color": "tomato"
         },
         "text": [
          2496,
          1825,
          1722,
          1026,
          468
         ],
         "type": "bar",
         "visible": false,
         "x": [
          "Total number of Accidents",
          "Total Injured",
          "Greviously Injured",
          "Persons Killed",
          "Minor Injury"
         ],
         "y": [
          2496,
          1825,
          1722,
          1026,
          468
         ]
        },
        {
         "marker": {
          "color": "tomato"
         },
         "text": [
          2238,
          1368,
          1215,
          1086,
          90
         ],
         "type": "bar",
         "visible": false,
         "x": [
          "Total number of Accidents",
          "Greviously Injured",
          "Total Injured",
          "Persons Killed",
          "Minor Injury"
         ],
         "y": [
          2238,
          1368,
          1215,
          1086,
          90
         ]
        },
        {
         "marker": {
          "color": "tomato"
         },
         "text": [
          2892,
          1940,
          1782,
          858,
          546
         ],
         "type": "bar",
         "visible": false,
         "x": [
          "Total number of Accidents",
          "Total Injured",
          "Greviously Injured",
          "Persons Killed",
          "Minor Injury"
         ],
         "y": [
          2892,
          1940,
          1782,
          858,
          546
         ]
        },
        {
         "marker": {
          "color": "tomato"
         },
         "text": [
          10596,
          7470,
          6470,
          2892,
          294
         ],
         "type": "bar",
         "visible": false,
         "x": [
          "Total number of Accidents",
          "Minor Injury",
          "Total Injured",
          "Persons Killed",
          "Greviously Injured"
         ],
         "y": [
          10596,
          7470,
          6470,
          2892,
          294
         ]
        },
        {
         "marker": {
          "color": "tomato"
         },
         "text": [
          2592,
          1620,
          1206,
          828,
          738
         ],
         "type": "bar",
         "visible": false,
         "x": [
          "Total number of Accidents",
          "Total Injured",
          "Greviously Injured",
          "Persons Killed",
          "Minor Injury"
         ],
         "y": [
          2592,
          1620,
          1206,
          828,
          738
         ]
        },
        {
         "marker": {
          "color": "tomato"
         },
         "text": [
          1650,
          1650,
          1375,
          270,
          0
         ],
         "type": "bar",
         "visible": false,
         "x": [
          "Minor Injury",
          "Total number of Accidents",
          "Total Injured",
          "Persons Killed",
          "Greviously Injured"
         ],
         "y": [
          1650,
          1650,
          1375,
          270,
          0
         ]
        },
        {
         "marker": {
          "color": "tomato"
         },
         "text": [
          3450,
          2115,
          1908,
          1146,
          630
         ],
         "type": "bar",
         "visible": false,
         "x": [
          "Total number of Accidents",
          "Total Injured",
          "Greviously Injured",
          "Persons Killed",
          "Minor Injury"
         ],
         "y": [
          3450,
          2115,
          1908,
          1146,
          630
         ]
        },
        {
         "marker": {
          "color": "tomato"
         },
         "text": [
          7284,
          6315,
          6144,
          1434,
          648
         ],
         "type": "bar",
         "visible": false,
         "x": [
          "Total number of Accidents",
          "Total Injured",
          "Greviously Injured",
          "Minor Injury",
          "Persons Killed"
         ],
         "y": [
          7284,
          6315,
          6144,
          1434,
          648
         ]
        },
        {
         "marker": {
          "color": "tomato"
         },
         "text": [
          8784,
          8160,
          6612,
          3180,
          804
         ],
         "type": "bar",
         "visible": false,
         "x": [
          "Total number of Accidents",
          "Total Injured",
          "Greviously Injured",
          "Minor Injury",
          "Persons Killed"
         ],
         "y": [
          8784,
          8160,
          6612,
          3180,
          804
         ]
        },
        {
         "marker": {
          "color": "tomato"
         },
         "text": [
          2406,
          2388,
          2005,
          522,
          0
         ],
         "type": "bar",
         "visible": false,
         "x": [
          "Minor Injury",
          "Total number of Accidents",
          "Total Injured",
          "Persons Killed",
          "Greviously Injured"
         ],
         "y": [
          2406,
          2388,
          2005,
          522,
          0
         ]
        },
        {
         "marker": {
          "color": "tomato"
         },
         "text": [
          2886,
          2040,
          1446,
          1002,
          918
         ],
         "type": "bar",
         "visible": false,
         "x": [
          "Total number of Accidents",
          "Total Injured",
          "Greviously Injured",
          "Minor Injury",
          "Persons Killed"
         ],
         "y": [
          2886,
          2040,
          1446,
          1002,
          918
         ]
        },
        {
         "marker": {
          "color": "tomato"
         },
         "text": [
          2670,
          1525,
          1278,
          1092,
          738
         ],
         "type": "bar",
         "visible": false,
         "x": [
          "Total number of Accidents",
          "Total Injured",
          "Persons Killed",
          "Greviously Injured",
          "Minor Injury"
         ],
         "y": [
          2670,
          1525,
          1278,
          1092,
          738
         ]
        },
        {
         "marker": {
          "color": "tomato"
         },
         "text": [
          6432,
          4885,
          3408,
          2454,
          1644
         ],
         "type": "bar",
         "visible": false,
         "x": [
          "Total number of Accidents",
          "Total Injured",
          "Minor Injury",
          "Greviously Injured",
          "Persons Killed"
         ],
         "y": [
          6432,
          4885,
          3408,
          2454,
          1644
         ]
        },
        {
         "marker": {
          "color": "tomato"
         },
         "text": [
          10590,
          5910,
          4764,
          2328,
          1530
         ],
         "type": "bar",
         "visible": false,
         "x": [
          "Total number of Accidents",
          "Total Injured",
          "Greviously Injured",
          "Minor Injury",
          "Persons Killed"
         ],
         "y": [
          10590,
          5910,
          4764,
          2328,
          1530
         ]
        }
       ],
       "layout": {
        "showlegend": false,
        "template": {
         "data": {
          "bar": [
           {
            "error_x": {
             "color": "#2a3f5f"
            },
            "error_y": {
             "color": "#2a3f5f"
            },
            "marker": {
             "line": {
              "color": "#E5ECF6",
              "width": 0.5
             },
             "pattern": {
              "fillmode": "overlay",
              "size": 10,
              "solidity": 0.2
             }
            },
            "type": "bar"
           }
          ],
          "barpolar": [
           {
            "marker": {
             "line": {
              "color": "#E5ECF6",
              "width": 0.5
             },
             "pattern": {
              "fillmode": "overlay",
              "size": 10,
              "solidity": 0.2
             }
            },
            "type": "barpolar"
           }
          ],
          "carpet": [
           {
            "aaxis": {
             "endlinecolor": "#2a3f5f",
             "gridcolor": "white",
             "linecolor": "white",
             "minorgridcolor": "white",
             "startlinecolor": "#2a3f5f"
            },
            "baxis": {
             "endlinecolor": "#2a3f5f",
             "gridcolor": "white",
             "linecolor": "white",
             "minorgridcolor": "white",
             "startlinecolor": "#2a3f5f"
            },
            "type": "carpet"
           }
          ],
          "choropleth": [
           {
            "colorbar": {
             "outlinewidth": 0,
             "ticks": ""
            },
            "type": "choropleth"
           }
          ],
          "contour": [
           {
            "colorbar": {
             "outlinewidth": 0,
             "ticks": ""
            },
            "colorscale": [
             [
              0,
              "#0d0887"
             ],
             [
              0.1111111111111111,
              "#46039f"
             ],
             [
              0.2222222222222222,
              "#7201a8"
             ],
             [
              0.3333333333333333,
              "#9c179e"
             ],
             [
              0.4444444444444444,
              "#bd3786"
             ],
             [
              0.5555555555555556,
              "#d8576b"
             ],
             [
              0.6666666666666666,
              "#ed7953"
             ],
             [
              0.7777777777777778,
              "#fb9f3a"
             ],
             [
              0.8888888888888888,
              "#fdca26"
             ],
             [
              1,
              "#f0f921"
             ]
            ],
            "type": "contour"
           }
          ],
          "contourcarpet": [
           {
            "colorbar": {
             "outlinewidth": 0,
             "ticks": ""
            },
            "type": "contourcarpet"
           }
          ],
          "heatmap": [
           {
            "colorbar": {
             "outlinewidth": 0,
             "ticks": ""
            },
            "colorscale": [
             [
              0,
              "#0d0887"
             ],
             [
              0.1111111111111111,
              "#46039f"
             ],
             [
              0.2222222222222222,
              "#7201a8"
             ],
             [
              0.3333333333333333,
              "#9c179e"
             ],
             [
              0.4444444444444444,
              "#bd3786"
             ],
             [
              0.5555555555555556,
              "#d8576b"
             ],
             [
              0.6666666666666666,
              "#ed7953"
             ],
             [
              0.7777777777777778,
              "#fb9f3a"
             ],
             [
              0.8888888888888888,
              "#fdca26"
             ],
             [
              1,
              "#f0f921"
             ]
            ],
            "type": "heatmap"
           }
          ],
          "heatmapgl": [
           {
            "colorbar": {
             "outlinewidth": 0,
             "ticks": ""
            },
            "colorscale": [
             [
              0,
              "#0d0887"
             ],
             [
              0.1111111111111111,
              "#46039f"
             ],
             [
              0.2222222222222222,
              "#7201a8"
             ],
             [
              0.3333333333333333,
              "#9c179e"
             ],
             [
              0.4444444444444444,
              "#bd3786"
             ],
             [
              0.5555555555555556,
              "#d8576b"
             ],
             [
              0.6666666666666666,
              "#ed7953"
             ],
             [
              0.7777777777777778,
              "#fb9f3a"
             ],
             [
              0.8888888888888888,
              "#fdca26"
             ],
             [
              1,
              "#f0f921"
             ]
            ],
            "type": "heatmapgl"
           }
          ],
          "histogram": [
           {
            "marker": {
             "pattern": {
              "fillmode": "overlay",
              "size": 10,
              "solidity": 0.2
             }
            },
            "type": "histogram"
           }
          ],
          "histogram2d": [
           {
            "colorbar": {
             "outlinewidth": 0,
             "ticks": ""
            },
            "colorscale": [
             [
              0,
              "#0d0887"
             ],
             [
              0.1111111111111111,
              "#46039f"
             ],
             [
              0.2222222222222222,
              "#7201a8"
             ],
             [
              0.3333333333333333,
              "#9c179e"
             ],
             [
              0.4444444444444444,
              "#bd3786"
             ],
             [
              0.5555555555555556,
              "#d8576b"
             ],
             [
              0.6666666666666666,
              "#ed7953"
             ],
             [
              0.7777777777777778,
              "#fb9f3a"
             ],
             [
              0.8888888888888888,
              "#fdca26"
             ],
             [
              1,
              "#f0f921"
             ]
            ],
            "type": "histogram2d"
           }
          ],
          "histogram2dcontour": [
           {
            "colorbar": {
             "outlinewidth": 0,
             "ticks": ""
            },
            "colorscale": [
             [
              0,
              "#0d0887"
             ],
             [
              0.1111111111111111,
              "#46039f"
             ],
             [
              0.2222222222222222,
              "#7201a8"
             ],
             [
              0.3333333333333333,
              "#9c179e"
             ],
             [
              0.4444444444444444,
              "#bd3786"
             ],
             [
              0.5555555555555556,
              "#d8576b"
             ],
             [
              0.6666666666666666,
              "#ed7953"
             ],
             [
              0.7777777777777778,
              "#fb9f3a"
             ],
             [
              0.8888888888888888,
              "#fdca26"
             ],
             [
              1,
              "#f0f921"
             ]
            ],
            "type": "histogram2dcontour"
           }
          ],
          "mesh3d": [
           {
            "colorbar": {
             "outlinewidth": 0,
             "ticks": ""
            },
            "type": "mesh3d"
           }
          ],
          "parcoords": [
           {
            "line": {
             "colorbar": {
              "outlinewidth": 0,
              "ticks": ""
             }
            },
            "type": "parcoords"
           }
          ],
          "pie": [
           {
            "automargin": true,
            "type": "pie"
           }
          ],
          "scatter": [
           {
            "fillpattern": {
             "fillmode": "overlay",
             "size": 10,
             "solidity": 0.2
            },
            "type": "scatter"
           }
          ],
          "scatter3d": [
           {
            "line": {
             "colorbar": {
              "outlinewidth": 0,
              "ticks": ""
             }
            },
            "marker": {
             "colorbar": {
              "outlinewidth": 0,
              "ticks": ""
             }
            },
            "type": "scatter3d"
           }
          ],
          "scattercarpet": [
           {
            "marker": {
             "colorbar": {
              "outlinewidth": 0,
              "ticks": ""
             }
            },
            "type": "scattercarpet"
           }
          ],
          "scattergeo": [
           {
            "marker": {
             "colorbar": {
              "outlinewidth": 0,
              "ticks": ""
             }
            },
            "type": "scattergeo"
           }
          ],
          "scattergl": [
           {
            "marker": {
             "colorbar": {
              "outlinewidth": 0,
              "ticks": ""
             }
            },
            "type": "scattergl"
           }
          ],
          "scattermapbox": [
           {
            "marker": {
             "colorbar": {
              "outlinewidth": 0,
              "ticks": ""
             }
            },
            "type": "scattermapbox"
           }
          ],
          "scatterpolar": [
           {
            "marker": {
             "colorbar": {
              "outlinewidth": 0,
              "ticks": ""
             }
            },
            "type": "scatterpolar"
           }
          ],
          "scatterpolargl": [
           {
            "marker": {
             "colorbar": {
              "outlinewidth": 0,
              "ticks": ""
             }
            },
            "type": "scatterpolargl"
           }
          ],
          "scatterternary": [
           {
            "marker": {
             "colorbar": {
              "outlinewidth": 0,
              "ticks": ""
             }
            },
            "type": "scatterternary"
           }
          ],
          "surface": [
           {
            "colorbar": {
             "outlinewidth": 0,
             "ticks": ""
            },
            "colorscale": [
             [
              0,
              "#0d0887"
             ],
             [
              0.1111111111111111,
              "#46039f"
             ],
             [
              0.2222222222222222,
              "#7201a8"
             ],
             [
              0.3333333333333333,
              "#9c179e"
             ],
             [
              0.4444444444444444,
              "#bd3786"
             ],
             [
              0.5555555555555556,
              "#d8576b"
             ],
             [
              0.6666666666666666,
              "#ed7953"
             ],
             [
              0.7777777777777778,
              "#fb9f3a"
             ],
             [
              0.8888888888888888,
              "#fdca26"
             ],
             [
              1,
              "#f0f921"
             ]
            ],
            "type": "surface"
           }
          ],
          "table": [
           {
            "cells": {
             "fill": {
              "color": "#EBF0F8"
             },
             "line": {
              "color": "white"
             }
            },
            "header": {
             "fill": {
              "color": "#C8D4E3"
             },
             "line": {
              "color": "white"
             }
            },
            "type": "table"
           }
          ]
         },
         "layout": {
          "annotationdefaults": {
           "arrowcolor": "#2a3f5f",
           "arrowhead": 0,
           "arrowwidth": 1
          },
          "autotypenumbers": "strict",
          "coloraxis": {
           "colorbar": {
            "outlinewidth": 0,
            "ticks": ""
           }
          },
          "colorscale": {
           "diverging": [
            [
             0,
             "#8e0152"
            ],
            [
             0.1,
             "#c51b7d"
            ],
            [
             0.2,
             "#de77ae"
            ],
            [
             0.3,
             "#f1b6da"
            ],
            [
             0.4,
             "#fde0ef"
            ],
            [
             0.5,
             "#f7f7f7"
            ],
            [
             0.6,
             "#e6f5d0"
            ],
            [
             0.7,
             "#b8e186"
            ],
            [
             0.8,
             "#7fbc41"
            ],
            [
             0.9,
             "#4d9221"
            ],
            [
             1,
             "#276419"
            ]
           ],
           "sequential": [
            [
             0,
             "#0d0887"
            ],
            [
             0.1111111111111111,
             "#46039f"
            ],
            [
             0.2222222222222222,
             "#7201a8"
            ],
            [
             0.3333333333333333,
             "#9c179e"
            ],
            [
             0.4444444444444444,
             "#bd3786"
            ],
            [
             0.5555555555555556,
             "#d8576b"
            ],
            [
             0.6666666666666666,
             "#ed7953"
            ],
            [
             0.7777777777777778,
             "#fb9f3a"
            ],
            [
             0.8888888888888888,
             "#fdca26"
            ],
            [
             1,
             "#f0f921"
            ]
           ],
           "sequentialminus": [
            [
             0,
             "#0d0887"
            ],
            [
             0.1111111111111111,
             "#46039f"
            ],
            [
             0.2222222222222222,
             "#7201a8"
            ],
            [
             0.3333333333333333,
             "#9c179e"
            ],
            [
             0.4444444444444444,
             "#bd3786"
            ],
            [
             0.5555555555555556,
             "#d8576b"
            ],
            [
             0.6666666666666666,
             "#ed7953"
            ],
            [
             0.7777777777777778,
             "#fb9f3a"
            ],
            [
             0.8888888888888888,
             "#fdca26"
            ],
            [
             1,
             "#f0f921"
            ]
           ]
          },
          "colorway": [
           "#636efa",
           "#EF553B",
           "#00cc96",
           "#ab63fa",
           "#FFA15A",
           "#19d3f3",
           "#FF6692",
           "#B6E880",
           "#FF97FF",
           "#FECB52"
          ],
          "font": {
           "color": "#2a3f5f"
          },
          "geo": {
           "bgcolor": "white",
           "lakecolor": "white",
           "landcolor": "#E5ECF6",
           "showlakes": true,
           "showland": true,
           "subunitcolor": "white"
          },
          "hoverlabel": {
           "align": "left"
          },
          "hovermode": "closest",
          "mapbox": {
           "style": "light"
          },
          "paper_bgcolor": "white",
          "plot_bgcolor": "#E5ECF6",
          "polar": {
           "angularaxis": {
            "gridcolor": "white",
            "linecolor": "white",
            "ticks": ""
           },
           "bgcolor": "#E5ECF6",
           "radialaxis": {
            "gridcolor": "white",
            "linecolor": "white",
            "ticks": ""
           }
          },
          "scene": {
           "xaxis": {
            "backgroundcolor": "#E5ECF6",
            "gridcolor": "white",
            "gridwidth": 2,
            "linecolor": "white",
            "showbackground": true,
            "ticks": "",
            "zerolinecolor": "white"
           },
           "yaxis": {
            "backgroundcolor": "#E5ECF6",
            "gridcolor": "white",
            "gridwidth": 2,
            "linecolor": "white",
            "showbackground": true,
            "ticks": "",
            "zerolinecolor": "white"
           },
           "zaxis": {
            "backgroundcolor": "#E5ECF6",
            "gridcolor": "white",
            "gridwidth": 2,
            "linecolor": "white",
            "showbackground": true,
            "ticks": "",
            "zerolinecolor": "white"
           }
          },
          "shapedefaults": {
           "line": {
            "color": "#2a3f5f"
           }
          },
          "ternary": {
           "aaxis": {
            "gridcolor": "white",
            "linecolor": "white",
            "ticks": ""
           },
           "baxis": {
            "gridcolor": "white",
            "linecolor": "white",
            "ticks": ""
           },
           "bgcolor": "#E5ECF6",
           "caxis": {
            "gridcolor": "white",
            "linecolor": "white",
            "ticks": ""
           }
          },
          "title": {
           "x": 0.05
          },
          "xaxis": {
           "automargin": true,
           "gridcolor": "white",
           "linecolor": "white",
           "ticks": "",
           "title": {
            "standoff": 15
           },
           "zerolinecolor": "white",
           "zerolinewidth": 2
          },
          "yaxis": {
           "automargin": true,
           "gridcolor": "white",
           "linecolor": "white",
           "ticks": "",
           "title": {
            "standoff": 15
           },
           "zerolinecolor": "white",
           "zerolinewidth": 2
          }
         }
        },
        "title": {
         "font": {
          "size": 40
         },
         "text": "City Vs OutCome Of the Incident"
        },
        "updatemenus": [
         {
          "active": 9,
          "buttons": [
           {
            "args": [
             {
              "visible": [
               true,
               false,
               false,
               false,
               false,
               false,
               false,
               false,
               false,
               false,
               false,
               false,
               false,
               false,
               false,
               false,
               false,
               false,
               false,
               false,
               false,
               false,
               false,
               false,
               false,
               false,
               false,
               false,
               false,
               false,
               false,
               false,
               false,
               false,
               false,
               false,
               false,
               false,
               false,
               false,
               false,
               false,
               false,
               false,
               false,
               false,
               false,
               false,
               false,
               false
              ]
             }
            ],
            "label": "Agra",
            "method": "update"
           },
           {
            "args": [
             {
              "visible": [
               false,
               true,
               false,
               false,
               false,
               false,
               false,
               false,
               false,
               false,
               false,
               false,
               false,
               false,
               false,
               false,
               false,
               false,
               false,
               false,
               false,
               false,
               false,
               false,
               false,
               false,
               false,
               false,
               false,
               false,
               false,
               false,
               false,
               false,
               false,
               false,
               false,
               false,
               false,
               false,
               false,
               false,
               false,
               false,
               false,
               false,
               false,
               false,
               false,
               false
              ]
             }
            ],
            "label": "Ahmedabad",
            "method": "update"
           },
           {
            "args": [
             {
              "visible": [
               false,
               false,
               true,
               false,
               false,
               false,
               false,
               false,
               false,
               false,
               false,
               false,
               false,
               false,
               false,
               false,
               false,
               false,
               false,
               false,
               false,
               false,
               false,
               false,
               false,
               false,
               false,
               false,
               false,
               false,
               false,
               false,
               false,
               false,
               false,
               false,
               false,
               false,
               false,
               false,
               false,
               false,
               false,
               false,
               false,
               false,
               false,
               false,
               false,
               false
              ]
             }
            ],
            "label": "Allahabad(Prayagraj)",
            "method": "update"
           },
           {
            "args": [
             {
              "visible": [
               false,
               false,
               false,
               true,
               false,
               false,
               false,
               false,
               false,
               false,
               false,
               false,
               false,
               false,
               false,
               false,
               false,
               false,
               false,
               false,
               false,
               false,
               false,
               false,
               false,
               false,
               false,
               false,
               false,
               false,
               false,
               false,
               false,
               false,
               false,
               false,
               false,
               false,
               false,
               false,
               false,
               false,
               false,
               false,
               false,
               false,
               false,
               false,
               false,
               false
              ]
             }
            ],
            "label": "Amritsar",
            "method": "update"
           },
           {
            "args": [
             {
              "visible": [
               false,
               false,
               false,
               false,
               true,
               false,
               false,
               false,
               false,
               false,
               false,
               false,
               false,
               false,
               false,
               false,
               false,
               false,
               false,
               false,
               false,
               false,
               false,
               false,
               false,
               false,
               false,
               false,
               false,
               false,
               false,
               false,
               false,
               false,
               false,
               false,
               false,
               false,
               false,
               false,
               false,
               false,
               false,
               false,
               false,
               false,
               false,
               false,
               false,
               false
              ]
             }
            ],
            "label": "Asansol Durgapur",
            "method": "update"
           },
           {
            "args": [
             {
              "visible": [
               false,
               false,
               false,
               false,
               false,
               true,
               false,
               false,
               false,
               false,
               false,
               false,
               false,
               false,
               false,
               false,
               false,
               false,
               false,
               false,
               false,
               false,
               false,
               false,
               false,
               false,
               false,
               false,
               false,
               false,
               false,
               false,
               false,
               false,
               false,
               false,
               false,
               false,
               false,
               false,
               false,
               false,
               false,
               false,
               false,
               false,
               false,
               false,
               false,
               false
              ]
             }
            ],
            "label": "Aurangabad",
            "method": "update"
           },
           {
            "args": [
             {
              "visible": [
               false,
               false,
               false,
               false,
               false,
               false,
               true,
               false,
               false,
               false,
               false,
               false,
               false,
               false,
               false,
               false,
               false,
               false,
               false,
               false,
               false,
               false,
               false,
               false,
               false,
               false,
               false,
               false,
               false,
               false,
               false,
               false,
               false,
               false,
               false,
               false,
               false,
               false,
               false,
               false,
               false,
               false,
               false,
               false,
               false,
               false,
               false,
               false,
               false,
               false
              ]
             }
            ],
            "label": "Bengaluru",
            "method": "update"
           },
           {
            "args": [
             {
              "visible": [
               false,
               false,
               false,
               false,
               false,
               false,
               false,
               true,
               false,
               false,
               false,
               false,
               false,
               false,
               false,
               false,
               false,
               false,
               false,
               false,
               false,
               false,
               false,
               false,
               false,
               false,
               false,
               false,
               false,
               false,
               false,
               false,
               false,
               false,
               false,
               false,
               false,
               false,
               false,
               false,
               false,
               false,
               false,
               false,
               false,
               false,
               false,
               false,
               false,
               false
              ]
             }
            ],
            "label": "Bhopal",
            "method": "update"
           },
           {
            "args": [
             {
              "visible": [
               false,
               false,
               false,
               false,
               false,
               false,
               false,
               false,
               true,
               false,
               false,
               false,
               false,
               false,
               false,
               false,
               false,
               false,
               false,
               false,
               false,
               false,
               false,
               false,
               false,
               false,
               false,
               false,
               false,
               false,
               false,
               false,
               false,
               false,
               false,
               false,
               false,
               false,
               false,
               false,
               false,
               false,
               false,
               false,
               false,
               false,
               false,
               false,
               false,
               false
              ]
             }
            ],
            "label": "Chandigarh",
            "method": "update"
           },
           {
            "args": [
             {
              "visible": [
               false,
               false,
               false,
               false,
               false,
               false,
               false,
               false,
               false,
               true,
               false,
               false,
               false,
               false,
               false,
               false,
               false,
               false,
               false,
               false,
               false,
               false,
               false,
               false,
               false,
               false,
               false,
               false,
               false,
               false,
               false,
               false,
               false,
               false,
               false,
               false,
               false,
               false,
               false,
               false,
               false,
               false,
               false,
               false,
               false,
               false,
               false,
               false,
               false,
               false
              ]
             }
            ],
            "label": "Chennai",
            "method": "update"
           },
           {
            "args": [
             {
              "visible": [
               false,
               false,
               false,
               false,
               false,
               false,
               false,
               false,
               false,
               false,
               true,
               false,
               false,
               false,
               false,
               false,
               false,
               false,
               false,
               false,
               false,
               false,
               false,
               false,
               false,
               false,
               false,
               false,
               false,
               false,
               false,
               false,
               false,
               false,
               false,
               false,
               false,
               false,
               false,
               false,
               false,
               false,
               false,
               false,
               false,
               false,
               false,
               false,
               false,
               false
              ]
             }
            ],
            "label": "Coimbatore",
            "method": "update"
           },
           {
            "args": [
             {
              "visible": [
               false,
               false,
               false,
               false,
               false,
               false,
               false,
               false,
               false,
               false,
               false,
               true,
               false,
               false,
               false,
               false,
               false,
               false,
               false,
               false,
               false,
               false,
               false,
               false,
               false,
               false,
               false,
               false,
               false,
               false,
               false,
               false,
               false,
               false,
               false,
               false,
               false,
               false,
               false,
               false,
               false,
               false,
               false,
               false,
               false,
               false,
               false,
               false,
               false,
               false
              ]
             }
            ],
            "label": "Delhi",
            "method": "update"
           },
           {
            "args": [
             {
              "visible": [
               false,
               false,
               false,
               false,
               false,
               false,
               false,
               false,
               false,
               false,
               false,
               false,
               true,
               false,
               false,
               false,
               false,
               false,
               false,
               false,
               false,
               false,
               false,
               false,
               false,
               false,
               false,
               false,
               false,
               false,
               false,
               false,
               false,
               false,
               false,
               false,
               false,
               false,
               false,
               false,
               false,
               false,
               false,
               false,
               false,
               false,
               false,
               false,
               false,
               false
              ]
             }
            ],
            "label": "Dhanbad",
            "method": "update"
           },
           {
            "args": [
             {
              "visible": [
               false,
               false,
               false,
               false,
               false,
               false,
               false,
               false,
               false,
               false,
               false,
               false,
               false,
               true,
               false,
               false,
               false,
               false,
               false,
               false,
               false,
               false,
               false,
               false,
               false,
               false,
               false,
               false,
               false,
               false,
               false,
               false,
               false,
               false,
               false,
               false,
               false,
               false,
               false,
               false,
               false,
               false,
               false,
               false,
               false,
               false,
               false,
               false,
               false,
               false
              ]
             }
            ],
            "label": "Faridabad",
            "method": "update"
           },
           {
            "args": [
             {
              "visible": [
               false,
               false,
               false,
               false,
               false,
               false,
               false,
               false,
               false,
               false,
               false,
               false,
               false,
               false,
               true,
               false,
               false,
               false,
               false,
               false,
               false,
               false,
               false,
               false,
               false,
               false,
               false,
               false,
               false,
               false,
               false,
               false,
               false,
               false,
               false,
               false,
               false,
               false,
               false,
               false,
               false,
               false,
               false,
               false,
               false,
               false,
               false,
               false,
               false,
               false
              ]
             }
            ],
            "label": "Ghaziabad",
            "method": "update"
           },
           {
            "args": [
             {
              "visible": [
               false,
               false,
               false,
               false,
               false,
               false,
               false,
               false,
               false,
               false,
               false,
               false,
               false,
               false,
               false,
               true,
               false,
               false,
               false,
               false,
               false,
               false,
               false,
               false,
               false,
               false,
               false,
               false,
               false,
               false,
               false,
               false,
               false,
               false,
               false,
               false,
               false,
               false,
               false,
               false,
               false,
               false,
               false,
               false,
               false,
               false,
               false,
               false,
               false,
               false
              ]
             }
            ],
            "label": "Gwalior",
            "method": "update"
           },
           {
            "args": [
             {
              "visible": [
               false,
               false,
               false,
               false,
               false,
               false,
               false,
               false,
               false,
               false,
               false,
               false,
               false,
               false,
               false,
               false,
               true,
               false,
               false,
               false,
               false,
               false,
               false,
               false,
               false,
               false,
               false,
               false,
               false,
               false,
               false,
               false,
               false,
               false,
               false,
               false,
               false,
               false,
               false,
               false,
               false,
               false,
               false,
               false,
               false,
               false,
               false,
               false,
               false,
               false
              ]
             }
            ],
            "label": "Hyderabad",
            "method": "update"
           },
           {
            "args": [
             {
              "visible": [
               false,
               false,
               false,
               false,
               false,
               false,
               false,
               false,
               false,
               false,
               false,
               false,
               false,
               false,
               false,
               false,
               false,
               true,
               false,
               false,
               false,
               false,
               false,
               false,
               false,
               false,
               false,
               false,
               false,
               false,
               false,
               false,
               false,
               false,
               false,
               false,
               false,
               false,
               false,
               false,
               false,
               false,
               false,
               false,
               false,
               false,
               false,
               false,
               false,
               false
              ]
             }
            ],
            "label": "Indore",
            "method": "update"
           },
           {
            "args": [
             {
              "visible": [
               false,
               false,
               false,
               false,
               false,
               false,
               false,
               false,
               false,
               false,
               false,
               false,
               false,
               false,
               false,
               false,
               false,
               false,
               true,
               false,
               false,
               false,
               false,
               false,
               false,
               false,
               false,
               false,
               false,
               false,
               false,
               false,
               false,
               false,
               false,
               false,
               false,
               false,
               false,
               false,
               false,
               false,
               false,
               false,
               false,
               false,
               false,
               false,
               false,
               false
              ]
             }
            ],
            "label": "Jabalpur",
            "method": "update"
           },
           {
            "args": [
             {
              "visible": [
               false,
               false,
               false,
               false,
               false,
               false,
               false,
               false,
               false,
               false,
               false,
               false,
               false,
               false,
               false,
               false,
               false,
               false,
               false,
               true,
               false,
               false,
               false,
               false,
               false,
               false,
               false,
               false,
               false,
               false,
               false,
               false,
               false,
               false,
               false,
               false,
               false,
               false,
               false,
               false,
               false,
               false,
               false,
               false,
               false,
               false,
               false,
               false,
               false,
               false
              ]
             }
            ],
            "label": "Jaipur",
            "method": "update"
           },
           {
            "args": [
             {
              "visible": [
               false,
               false,
               false,
               false,
               false,
               false,
               false,
               false,
               false,
               false,
               false,
               false,
               false,
               false,
               false,
               false,
               false,
               false,
               false,
               false,
               true,
               false,
               false,
               false,
               false,
               false,
               false,
               false,
               false,
               false,
               false,
               false,
               false,
               false,
               false,
               false,
               false,
               false,
               false,
               false,
               false,
               false,
               false,
               false,
               false,
               false,
               false,
               false,
               false,
               false
              ]
             }
            ],
            "label": "Jamshedpur",
            "method": "update"
           },
           {
            "args": [
             {
              "visible": [
               false,
               false,
               false,
               false,
               false,
               false,
               false,
               false,
               false,
               false,
               false,
               false,
               false,
               false,
               false,
               false,
               false,
               false,
               false,
               false,
               false,
               true,
               false,
               false,
               false,
               false,
               false,
               false,
               false,
               false,
               false,
               false,
               false,
               false,
               false,
               false,
               false,
               false,
               false,
               false,
               false,
               false,
               false,
               false,
               false,
               false,
               false,
               false,
               false,
               false
              ]
             }
            ],
            "label": "Jodhpur",
            "method": "update"
           },
           {
            "args": [
             {
              "visible": [
               false,
               false,
               false,
               false,
               false,
               false,
               false,
               false,
               false,
               false,
               false,
               false,
               false,
               false,
               false,
               false,
               false,
               false,
               false,
               false,
               false,
               false,
               true,
               false,
               false,
               false,
               false,
               false,
               false,
               false,
               false,
               false,
               false,
               false,
               false,
               false,
               false,
               false,
               false,
               false,
               false,
               false,
               false,
               false,
               false,
               false,
               false,
               false,
               false,
               false
              ]
             }
            ],
            "label": "Kannur",
            "method": "update"
           },
           {
            "args": [
             {
              "visible": [
               false,
               false,
               false,
               false,
               false,
               false,
               false,
               false,
               false,
               false,
               false,
               false,
               false,
               false,
               false,
               false,
               false,
               false,
               false,
               false,
               false,
               false,
               false,
               true,
               false,
               false,
               false,
               false,
               false,
               false,
               false,
               false,
               false,
               false,
               false,
               false,
               false,
               false,
               false,
               false,
               false,
               false,
               false,
               false,
               false,
               false,
               false,
               false,
               false,
               false
              ]
             }
            ],
            "label": "Kanpur",
            "method": "update"
           },
           {
            "args": [
             {
              "visible": [
               false,
               false,
               false,
               false,
               false,
               false,
               false,
               false,
               false,
               false,
               false,
               false,
               false,
               false,
               false,
               false,
               false,
               false,
               false,
               false,
               false,
               false,
               false,
               false,
               true,
               false,
               false,
               false,
               false,
               false,
               false,
               false,
               false,
               false,
               false,
               false,
               false,
               false,
               false,
               false,
               false,
               false,
               false,
               false,
               false,
               false,
               false,
               false,
               false,
               false
              ]
             }
            ],
            "label": "Khozikode",
            "method": "update"
           },
           {
            "args": [
             {
              "visible": [
               false,
               false,
               false,
               false,
               false,
               false,
               false,
               false,
               false,
               false,
               false,
               false,
               false,
               false,
               false,
               false,
               false,
               false,
               false,
               false,
               false,
               false,
               false,
               false,
               false,
               true,
               false,
               false,
               false,
               false,
               false,
               false,
               false,
               false,
               false,
               false,
               false,
               false,
               false,
               false,
               false,
               false,
               false,
               false,
               false,
               false,
               false,
               false,
               false,
               false
              ]
             }
            ],
            "label": "Kochi",
            "method": "update"
           },
           {
            "args": [
             {
              "visible": [
               false,
               false,
               false,
               false,
               false,
               false,
               false,
               false,
               false,
               false,
               false,
               false,
               false,
               false,
               false,
               false,
               false,
               false,
               false,
               false,
               false,
               false,
               false,
               false,
               false,
               false,
               true,
               false,
               false,
               false,
               false,
               false,
               false,
               false,
               false,
               false,
               false,
               false,
               false,
               false,
               false,
               false,
               false,
               false,
               false,
               false,
               false,
               false,
               false,
               false
              ]
             }
            ],
            "label": "Kolkata",
            "method": "update"
           },
           {
            "args": [
             {
              "visible": [
               false,
               false,
               false,
               false,
               false,
               false,
               false,
               false,
               false,
               false,
               false,
               false,
               false,
               false,
               false,
               false,
               false,
               false,
               false,
               false,
               false,
               false,
               false,
               false,
               false,
               false,
               false,
               true,
               false,
               false,
               false,
               false,
               false,
               false,
               false,
               false,
               false,
               false,
               false,
               false,
               false,
               false,
               false,
               false,
               false,
               false,
               false,
               false,
               false,
               false
              ]
             }
            ],
            "label": "Kollam",
            "method": "update"
           },
           {
            "args": [
             {
              "visible": [
               false,
               false,
               false,
               false,
               false,
               false,
               false,
               false,
               false,
               false,
               false,
               false,
               false,
               false,
               false,
               false,
               false,
               false,
               false,
               false,
               false,
               false,
               false,
               false,
               false,
               false,
               false,
               false,
               true,
               false,
               false,
               false,
               false,
               false,
               false,
               false,
               false,
               false,
               false,
               false,
               false,
               false,
               false,
               false,
               false,
               false,
               false,
               false,
               false,
               false
              ]
             }
            ],
            "label": "Kota",
            "method": "update"
           },
           {
            "args": [
             {
              "visible": [
               false,
               false,
               false,
               false,
               false,
               false,
               false,
               false,
               false,
               false,
               false,
               false,
               false,
               false,
               false,
               false,
               false,
               false,
               false,
               false,
               false,
               false,
               false,
               false,
               false,
               false,
               false,
               false,
               false,
               true,
               false,
               false,
               false,
               false,
               false,
               false,
               false,
               false,
               false,
               false,
               false,
               false,
               false,
               false,
               false,
               false,
               false,
               false,
               false,
               false
              ]
             }
            ],
            "label": "Lucknow",
            "method": "update"
           },
           {
            "args": [
             {
              "visible": [
               false,
               false,
               false,
               false,
               false,
               false,
               false,
               false,
               false,
               false,
               false,
               false,
               false,
               false,
               false,
               false,
               false,
               false,
               false,
               false,
               false,
               false,
               false,
               false,
               false,
               false,
               false,
               false,
               false,
               false,
               true,
               false,
               false,
               false,
               false,
               false,
               false,
               false,
               false,
               false,
               false,
               false,
               false,
               false,
               false,
               false,
               false,
               false,
               false,
               false
              ]
             }
            ],
            "label": "Ludhiana",
            "method": "update"
           },
           {
            "args": [
             {
              "visible": [
               false,
               false,
               false,
               false,
               false,
               false,
               false,
               false,
               false,
               false,
               false,
               false,
               false,
               false,
               false,
               false,
               false,
               false,
               false,
               false,
               false,
               false,
               false,
               false,
               false,
               false,
               false,
               false,
               false,
               false,
               false,
               true,
               false,
               false,
               false,
               false,
               false,
               false,
               false,
               false,
               false,
               false,
               false,
               false,
               false,
               false,
               false,
               false,
               false,
               false
              ]
             }
            ],
            "label": "Madurai",
            "method": "update"
           },
           {
            "args": [
             {
              "visible": [
               false,
               false,
               false,
               false,
               false,
               false,
               false,
               false,
               false,
               false,
               false,
               false,
               false,
               false,
               false,
               false,
               false,
               false,
               false,
               false,
               false,
               false,
               false,
               false,
               false,
               false,
               false,
               false,
               false,
               false,
               false,
               false,
               true,
               false,
               false,
               false,
               false,
               false,
               false,
               false,
               false,
               false,
               false,
               false,
               false,
               false,
               false,
               false,
               false,
               false
              ]
             }
            ],
            "label": "Mallapuram",
            "method": "update"
           },
           {
            "args": [
             {
              "visible": [
               false,
               false,
               false,
               false,
               false,
               false,
               false,
               false,
               false,
               false,
               false,
               false,
               false,
               false,
               false,
               false,
               false,
               false,
               false,
               false,
               false,
               false,
               false,
               false,
               false,
               false,
               false,
               false,
               false,
               false,
               false,
               false,
               false,
               true,
               false,
               false,
               false,
               false,
               false,
               false,
               false,
               false,
               false,
               false,
               false,
               false,
               false,
               false,
               false,
               false
              ]
             }
            ],
            "label": "Meerut",
            "method": "update"
           },
           {
            "args": [
             {
              "visible": [
               false,
               false,
               false,
               false,
               false,
               false,
               false,
               false,
               false,
               false,
               false,
               false,
               false,
               false,
               false,
               false,
               false,
               false,
               false,
               false,
               false,
               false,
               false,
               false,
               false,
               false,
               false,
               false,
               false,
               false,
               false,
               false,
               false,
               false,
               true,
               false,
               false,
               false,
               false,
               false,
               false,
               false,
               false,
               false,
               false,
               false,
               false,
               false,
               false,
               false
              ]
             }
            ],
            "label": "Mumbai",
            "method": "update"
           },
           {
            "args": [
             {
              "visible": [
               false,
               false,
               false,
               false,
               false,
               false,
               false,
               false,
               false,
               false,
               false,
               false,
               false,
               false,
               false,
               false,
               false,
               false,
               false,
               false,
               false,
               false,
               false,
               false,
               false,
               false,
               false,
               false,
               false,
               false,
               false,
               false,
               false,
               false,
               false,
               true,
               false,
               false,
               false,
               false,
               false,
               false,
               false,
               false,
               false,
               false,
               false,
               false,
               false,
               false
              ]
             }
            ],
            "label": "Nagpur",
            "method": "update"
           },
           {
            "args": [
             {
              "visible": [
               false,
               false,
               false,
               false,
               false,
               false,
               false,
               false,
               false,
               false,
               false,
               false,
               false,
               false,
               false,
               false,
               false,
               false,
               false,
               false,
               false,
               false,
               false,
               false,
               false,
               false,
               false,
               false,
               false,
               false,
               false,
               false,
               false,
               false,
               false,
               false,
               true,
               false,
               false,
               false,
               false,
               false,
               false,
               false,
               false,
               false,
               false,
               false,
               false,
               false
              ]
             }
            ],
            "label": "Nashik",
            "method": "update"
           },
           {
            "args": [
             {
              "visible": [
               false,
               false,
               false,
               false,
               false,
               false,
               false,
               false,
               false,
               false,
               false,
               false,
               false,
               false,
               false,
               false,
               false,
               false,
               false,
               false,
               false,
               false,
               false,
               false,
               false,
               false,
               false,
               false,
               false,
               false,
               false,
               false,
               false,
               false,
               false,
               false,
               false,
               true,
               false,
               false,
               false,
               false,
               false,
               false,
               false,
               false,
               false,
               false,
               false,
               false
              ]
             }
            ],
            "label": "Patna",
            "method": "update"
           },
           {
            "args": [
             {
              "visible": [
               false,
               false,
               false,
               false,
               false,
               false,
               false,
               false,
               false,
               false,
               false,
               false,
               false,
               false,
               false,
               false,
               false,
               false,
               false,
               false,
               false,
               false,
               false,
               false,
               false,
               false,
               false,
               false,
               false,
               false,
               false,
               false,
               false,
               false,
               false,
               false,
               false,
               false,
               true,
               false,
               false,
               false,
               false,
               false,
               false,
               false,
               false,
               false,
               false,
               false
              ]
             }
            ],
            "label": "Pune",
            "method": "update"
           },
           {
            "args": [
             {
              "visible": [
               false,
               false,
               false,
               false,
               false,
               false,
               false,
               false,
               false,
               false,
               false,
               false,
               false,
               false,
               false,
               false,
               false,
               false,
               false,
               false,
               false,
               false,
               false,
               false,
               false,
               false,
               false,
               false,
               false,
               false,
               false,
               false,
               false,
               false,
               false,
               false,
               false,
               false,
               false,
               true,
               false,
               false,
               false,
               false,
               false,
               false,
               false,
               false,
               false,
               false
              ]
             }
            ],
            "label": "Raipur",
            "method": "update"
           },
           {
            "args": [
             {
              "visible": [
               false,
               false,
               false,
               false,
               false,
               false,
               false,
               false,
               false,
               false,
               false,
               false,
               false,
               false,
               false,
               false,
               false,
               false,
               false,
               false,
               false,
               false,
               false,
               false,
               false,
               false,
               false,
               false,
               false,
               false,
               false,
               false,
               false,
               false,
               false,
               false,
               false,
               false,
               false,
               false,
               true,
               false,
               false,
               false,
               false,
               false,
               false,
               false,
               false,
               false
              ]
             }
            ],
            "label": "Rajkot",
            "method": "update"
           },
           {
            "args": [
             {
              "visible": [
               false,
               false,
               false,
               false,
               false,
               false,
               false,
               false,
               false,
               false,
               false,
               false,
               false,
               false,
               false,
               false,
               false,
               false,
               false,
               false,
               false,
               false,
               false,
               false,
               false,
               false,
               false,
               false,
               false,
               false,
               false,
               false,
               false,
               false,
               false,
               false,
               false,
               false,
               false,
               false,
               false,
               true,
               false,
               false,
               false,
               false,
               false,
               false,
               false,
               false
              ]
             }
            ],
            "label": "Srinagar",
            "method": "update"
           },
           {
            "args": [
             {
              "visible": [
               false,
               false,
               false,
               false,
               false,
               false,
               false,
               false,
               false,
               false,
               false,
               false,
               false,
               false,
               false,
               false,
               false,
               false,
               false,
               false,
               false,
               false,
               false,
               false,
               false,
               false,
               false,
               false,
               false,
               false,
               false,
               false,
               false,
               false,
               false,
               false,
               false,
               false,
               false,
               false,
               false,
               false,
               true,
               false,
               false,
               false,
               false,
               false,
               false,
               false
              ]
             }
            ],
            "label": "Surat",
            "method": "update"
           },
           {
            "args": [
             {
              "visible": [
               false,
               false,
               false,
               false,
               false,
               false,
               false,
               false,
               false,
               false,
               false,
               false,
               false,
               false,
               false,
               false,
               false,
               false,
               false,
               false,
               false,
               false,
               false,
               false,
               false,
               false,
               false,
               false,
               false,
               false,
               false,
               false,
               false,
               false,
               false,
               false,
               false,
               false,
               false,
               false,
               false,
               false,
               false,
               true,
               false,
               false,
               false,
               false,
               false,
               false
              ]
             }
            ],
            "label": "Thiruvanthapuram",
            "method": "update"
           },
           {
            "args": [
             {
              "visible": [
               false,
               false,
               false,
               false,
               false,
               false,
               false,
               false,
               false,
               false,
               false,
               false,
               false,
               false,
               false,
               false,
               false,
               false,
               false,
               false,
               false,
               false,
               false,
               false,
               false,
               false,
               false,
               false,
               false,
               false,
               false,
               false,
               false,
               false,
               false,
               false,
               false,
               false,
               false,
               false,
               false,
               false,
               false,
               false,
               true,
               false,
               false,
               false,
               false,
               false
              ]
             }
            ],
            "label": "Thrissur",
            "method": "update"
           },
           {
            "args": [
             {
              "visible": [
               false,
               false,
               false,
               false,
               false,
               false,
               false,
               false,
               false,
               false,
               false,
               false,
               false,
               false,
               false,
               false,
               false,
               false,
               false,
               false,
               false,
               false,
               false,
               false,
               false,
               false,
               false,
               false,
               false,
               false,
               false,
               false,
               false,
               false,
               false,
               false,
               false,
               false,
               false,
               false,
               false,
               false,
               false,
               false,
               false,
               true,
               false,
               false,
               false,
               false
              ]
             }
            ],
            "label": "Tiruchirapalli",
            "method": "update"
           },
           {
            "args": [
             {
              "visible": [
               false,
               false,
               false,
               false,
               false,
               false,
               false,
               false,
               false,
               false,
               false,
               false,
               false,
               false,
               false,
               false,
               false,
               false,
               false,
               false,
               false,
               false,
               false,
               false,
               false,
               false,
               false,
               false,
               false,
               false,
               false,
               false,
               false,
               false,
               false,
               false,
               false,
               false,
               false,
               false,
               false,
               false,
               false,
               false,
               false,
               false,
               true,
               false,
               false,
               false
              ]
             }
            ],
            "label": "Vadodra",
            "method": "update"
           },
           {
            "args": [
             {
              "visible": [
               false,
               false,
               false,
               false,
               false,
               false,
               false,
               false,
               false,
               false,
               false,
               false,
               false,
               false,
               false,
               false,
               false,
               false,
               false,
               false,
               false,
               false,
               false,
               false,
               false,
               false,
               false,
               false,
               false,
               false,
               false,
               false,
               false,
               false,
               false,
               false,
               false,
               false,
               false,
               false,
               false,
               false,
               false,
               false,
               false,
               false,
               false,
               true,
               false,
               false
              ]
             }
            ],
            "label": "Varanasi",
            "method": "update"
           },
           {
            "args": [
             {
              "visible": [
               false,
               false,
               false,
               false,
               false,
               false,
               false,
               false,
               false,
               false,
               false,
               false,
               false,
               false,
               false,
               false,
               false,
               false,
               false,
               false,
               false,
               false,
               false,
               false,
               false,
               false,
               false,
               false,
               false,
               false,
               false,
               false,
               false,
               false,
               false,
               false,
               false,
               false,
               false,
               false,
               false,
               false,
               false,
               false,
               false,
               false,
               false,
               false,
               true,
               false
              ]
             }
            ],
            "label": "Vijaywada city",
            "method": "update"
           },
           {
            "args": [
             {
              "visible": [
               false,
               false,
               false,
               false,
               false,
               false,
               false,
               false,
               false,
               false,
               false,
               false,
               false,
               false,
               false,
               false,
               false,
               false,
               false,
               false,
               false,
               false,
               false,
               false,
               false,
               false,
               false,
               false,
               false,
               false,
               false,
               false,
               false,
               false,
               false,
               false,
               false,
               false,
               false,
               false,
               false,
               false,
               false,
               false,
               false,
               false,
               false,
               false,
               false,
               true
              ]
             }
            ],
            "label": "vizag",
            "method": "update"
           }
          ],
          "direction": "down"
         }
        ],
        "xaxis": {
         "title": {
          "text": "Outcome"
         }
        },
        "yaxis": {
         "title": {
          "text": "Count"
         }
        }
       }
      }
     },
     "metadata": {},
     "output_type": "display_data"
    }
   ],
   "source": [
    "city_list = sorted(set(df[\"Million Plus Cities\"]))\n",
    "fig=go.Figure()\n",
    "city_plot_names = []\n",
    "buttons=[]\n",
    "default_city = \"Chennai\"\n",
    "for city_name in city_list:\n",
    "    region=df[df[\"Million Plus Cities\"]==city_name].groupby(by=[\"Outcome of Incident\"])[\"Count\"].sum().reset_index()\n",
    "    region=region.sort_values(by=\"Count\",ascending=False)\n",
    "    fig.add_trace(go.Bar(x=region[\"Outcome of Incident\"],y=region[\"Count\"],marker=dict(color=\"tomato\"),text=region[\"Count\"], visible=(city_name==default_city)))\n",
    "  \n",
    "    city_plot_names.extend([city_name])\n",
    "    \n",
    "for city_name in city_list:\n",
    "    buttons.append(dict(method='update',\n",
    "                        label=city_name,\n",
    "                        args = [{'visible': [city_name==r for r in city_plot_names]}]))\n",
    "\n",
    "# Add dropdown menus to the figure\n",
    "fig.update_layout(showlegend=False, updatemenus=[{\"buttons\": buttons, \"direction\": \"down\", \"active\": city_list.index(default_city)}])\n",
    "fig.update_layout(xaxis_title=\"Outcome\", yaxis_title=\"Count\",title=dict(text=\"City Vs OutCome Of the Incident\", font=dict(size=40)))\n",
    "fig.show()"
   ]
  },
  {
   "cell_type": "markdown",
   "id": "33d4fce9",
   "metadata": {
    "papermill": {
     "duration": 0.018087,
     "end_time": "2023-06-16T17:27:40.026931",
     "exception": false,
     "start_time": "2023-06-16T17:27:40.008844",
     "status": "completed"
    },
    "tags": []
   },
   "source": [
    "# Accidents Due to Traffic Violation"
   ]
  },
  {
   "cell_type": "code",
   "execution_count": null,
   "id": "85f6407e",
   "metadata": {
    "execution": {
     "iopub.execute_input": "2023-06-16T17:27:40.065341Z",
     "iopub.status.busy": "2023-06-16T17:27:40.064942Z",
     "iopub.status.idle": "2023-06-16T17:27:40.075658Z",
     "shell.execute_reply": "2023-06-16T17:27:40.074823Z"
    },
    "papermill": {
     "duration": 0.03265,
     "end_time": "2023-06-16T17:27:40.077955",
     "exception": false,
     "start_time": "2023-06-16T17:27:40.045305",
     "status": "completed"
    },
    "tags": []
   },
   "outputs": [],
   "source": [
    "Traffic_violation=df[df[\"Cause category\"]==\"Traffic Violation\"].groupby(by=\"Cause Subcategory\")[\"Count\"].sum()\n",
    "Traffic_violation=Traffic_violation.reset_index()\n",
    "Traffic_violation.sort_values(by=\"Count\",ascending=False,inplace=True)"
   ]
  },
  {
   "cell_type": "code",
   "execution_count": null,
   "id": "3ca9338d",
   "metadata": {
    "execution": {
     "iopub.execute_input": "2023-06-16T17:27:40.117060Z",
     "iopub.status.busy": "2023-06-16T17:27:40.116308Z",
     "iopub.status.idle": "2023-06-16T17:27:40.212949Z",
     "shell.execute_reply": "2023-06-16T17:27:40.211992Z"
    },
    "papermill": {
     "duration": 0.119028,
     "end_time": "2023-06-16T17:27:40.215437",
     "exception": false,
     "start_time": "2023-06-16T17:27:40.096409",
     "status": "completed"
    },
    "tags": []
   },
   "outputs": [
    {
     "data": {
      "application/vnd.plotly.v1+json": {
       "config": {
        "plotlyServerURL": "https://plot.ly"
       },
       "data": [
        {
         "alignmentgroup": "True",
         "hovertemplate": "Cause Subcategory=%{x}<br>Count=%{text}<extra></extra>",
         "legendgroup": "Over",
         "marker": {
          "color": "#636efa",
          "pattern": {
           "shape": ""
          }
         },
         "name": "Over",
         "offsetgroup": "Over",
         "orientation": "v",
         "showlegend": true,
         "text": [
          123013
         ],
         "textposition": "auto",
         "type": "bar",
         "x": [
          "Over"
         ],
         "xaxis": "x",
         "y": [
          123013
         ],
         "yaxis": "y"
        },
        {
         "alignmentgroup": "True",
         "hovertemplate": "Cause Subcategory=%{x}<br>Count=%{text}<extra></extra>",
         "legendgroup": "Others",
         "marker": {
          "color": "#EF553B",
          "pattern": {
           "shape": ""
          }
         },
         "name": "Others",
         "offsetgroup": "Others",
         "orientation": "v",
         "showlegend": true,
         "text": [
          32594
         ],
         "textposition": "auto",
         "type": "bar",
         "x": [
          "Others"
         ],
         "xaxis": "x",
         "y": [
          32594
         ],
         "yaxis": "y"
        },
        {
         "alignmentgroup": "True",
         "hovertemplate": "Cause Subcategory=%{x}<br>Count=%{text}<extra></extra>",
         "legendgroup": "Driving on Wrong side",
         "marker": {
          "color": "#00cc96",
          "pattern": {
           "shape": ""
          }
         },
         "name": "Driving on Wrong side",
         "offsetgroup": "Driving on Wrong side",
         "orientation": "v",
         "showlegend": true,
         "text": [
          6731
         ],
         "textposition": "auto",
         "type": "bar",
         "x": [
          "Driving on Wrong side"
         ],
         "xaxis": "x",
         "y": [
          6731
         ],
         "yaxis": "y"
        },
        {
         "alignmentgroup": "True",
         "hovertemplate": "Cause Subcategory=%{x}<br>Count=%{text}<extra></extra>",
         "legendgroup": "Drunken Driving/ Consumption of alcohol and drug",
         "marker": {
          "color": "#ab63fa",
          "pattern": {
           "shape": ""
          }
         },
         "name": "Drunken Driving/ Consumption of alcohol and drug",
         "offsetgroup": "Drunken Driving/ Consumption of alcohol and drug",
         "orientation": "v",
         "showlegend": true,
         "text": [
          4355
         ],
         "textposition": "auto",
         "type": "bar",
         "x": [
          "Drunken Driving/ Consumption of alcohol and drug"
         ],
         "xaxis": "x",
         "y": [
          4355
         ],
         "yaxis": "y"
        },
        {
         "alignmentgroup": "True",
         "hovertemplate": "Cause Subcategory=%{x}<br>Count=%{text}<extra></extra>",
         "legendgroup": "Jumping Red Light",
         "marker": {
          "color": "#FFA15A",
          "pattern": {
           "shape": ""
          }
         },
         "name": "Jumping Red Light",
         "offsetgroup": "Jumping Red Light",
         "orientation": "v",
         "showlegend": true,
         "text": [
          3387
         ],
         "textposition": "auto",
         "type": "bar",
         "x": [
          "Jumping Red Light"
         ],
         "xaxis": "x",
         "y": [
          3387
         ],
         "yaxis": "y"
        },
        {
         "alignmentgroup": "True",
         "hovertemplate": "Cause Subcategory=%{x}<br>Count=%{text}<extra></extra>",
         "legendgroup": "Use of Mobile Phone",
         "marker": {
          "color": "#19d3f3",
          "pattern": {
           "shape": ""
          }
         },
         "name": "Use of Mobile Phone",
         "offsetgroup": "Use of Mobile Phone",
         "orientation": "v",
         "showlegend": true,
         "text": [
          3228
         ],
         "textposition": "auto",
         "type": "bar",
         "x": [
          "Use of Mobile Phone"
         ],
         "xaxis": "x",
         "y": [
          3228
         ],
         "yaxis": "y"
        }
       ],
       "layout": {
        "barmode": "relative",
        "legend": {
         "title": {
          "text": "Cause Subcategory"
         },
         "tracegroupgap": 0
        },
        "template": {
         "data": {
          "bar": [
           {
            "error_x": {
             "color": "#2a3f5f"
            },
            "error_y": {
             "color": "#2a3f5f"
            },
            "marker": {
             "line": {
              "color": "#E5ECF6",
              "width": 0.5
             },
             "pattern": {
              "fillmode": "overlay",
              "size": 10,
              "solidity": 0.2
             }
            },
            "type": "bar"
           }
          ],
          "barpolar": [
           {
            "marker": {
             "line": {
              "color": "#E5ECF6",
              "width": 0.5
             },
             "pattern": {
              "fillmode": "overlay",
              "size": 10,
              "solidity": 0.2
             }
            },
            "type": "barpolar"
           }
          ],
          "carpet": [
           {
            "aaxis": {
             "endlinecolor": "#2a3f5f",
             "gridcolor": "white",
             "linecolor": "white",
             "minorgridcolor": "white",
             "startlinecolor": "#2a3f5f"
            },
            "baxis": {
             "endlinecolor": "#2a3f5f",
             "gridcolor": "white",
             "linecolor": "white",
             "minorgridcolor": "white",
             "startlinecolor": "#2a3f5f"
            },
            "type": "carpet"
           }
          ],
          "choropleth": [
           {
            "colorbar": {
             "outlinewidth": 0,
             "ticks": ""
            },
            "type": "choropleth"
           }
          ],
          "contour": [
           {
            "colorbar": {
             "outlinewidth": 0,
             "ticks": ""
            },
            "colorscale": [
             [
              0,
              "#0d0887"
             ],
             [
              0.1111111111111111,
              "#46039f"
             ],
             [
              0.2222222222222222,
              "#7201a8"
             ],
             [
              0.3333333333333333,
              "#9c179e"
             ],
             [
              0.4444444444444444,
              "#bd3786"
             ],
             [
              0.5555555555555556,
              "#d8576b"
             ],
             [
              0.6666666666666666,
              "#ed7953"
             ],
             [
              0.7777777777777778,
              "#fb9f3a"
             ],
             [
              0.8888888888888888,
              "#fdca26"
             ],
             [
              1,
              "#f0f921"
             ]
            ],
            "type": "contour"
           }
          ],
          "contourcarpet": [
           {
            "colorbar": {
             "outlinewidth": 0,
             "ticks": ""
            },
            "type": "contourcarpet"
           }
          ],
          "heatmap": [
           {
            "colorbar": {
             "outlinewidth": 0,
             "ticks": ""
            },
            "colorscale": [
             [
              0,
              "#0d0887"
             ],
             [
              0.1111111111111111,
              "#46039f"
             ],
             [
              0.2222222222222222,
              "#7201a8"
             ],
             [
              0.3333333333333333,
              "#9c179e"
             ],
             [
              0.4444444444444444,
              "#bd3786"
             ],
             [
              0.5555555555555556,
              "#d8576b"
             ],
             [
              0.6666666666666666,
              "#ed7953"
             ],
             [
              0.7777777777777778,
              "#fb9f3a"
             ],
             [
              0.8888888888888888,
              "#fdca26"
             ],
             [
              1,
              "#f0f921"
             ]
            ],
            "type": "heatmap"
           }
          ],
          "heatmapgl": [
           {
            "colorbar": {
             "outlinewidth": 0,
             "ticks": ""
            },
            "colorscale": [
             [
              0,
              "#0d0887"
             ],
             [
              0.1111111111111111,
              "#46039f"
             ],
             [
              0.2222222222222222,
              "#7201a8"
             ],
             [
              0.3333333333333333,
              "#9c179e"
             ],
             [
              0.4444444444444444,
              "#bd3786"
             ],
             [
              0.5555555555555556,
              "#d8576b"
             ],
             [
              0.6666666666666666,
              "#ed7953"
             ],
             [
              0.7777777777777778,
              "#fb9f3a"
             ],
             [
              0.8888888888888888,
              "#fdca26"
             ],
             [
              1,
              "#f0f921"
             ]
            ],
            "type": "heatmapgl"
           }
          ],
          "histogram": [
           {
            "marker": {
             "pattern": {
              "fillmode": "overlay",
              "size": 10,
              "solidity": 0.2
             }
            },
            "type": "histogram"
           }
          ],
          "histogram2d": [
           {
            "colorbar": {
             "outlinewidth": 0,
             "ticks": ""
            },
            "colorscale": [
             [
              0,
              "#0d0887"
             ],
             [
              0.1111111111111111,
              "#46039f"
             ],
             [
              0.2222222222222222,
              "#7201a8"
             ],
             [
              0.3333333333333333,
              "#9c179e"
             ],
             [
              0.4444444444444444,
              "#bd3786"
             ],
             [
              0.5555555555555556,
              "#d8576b"
             ],
             [
              0.6666666666666666,
              "#ed7953"
             ],
             [
              0.7777777777777778,
              "#fb9f3a"
             ],
             [
              0.8888888888888888,
              "#fdca26"
             ],
             [
              1,
              "#f0f921"
             ]
            ],
            "type": "histogram2d"
           }
          ],
          "histogram2dcontour": [
           {
            "colorbar": {
             "outlinewidth": 0,
             "ticks": ""
            },
            "colorscale": [
             [
              0,
              "#0d0887"
             ],
             [
              0.1111111111111111,
              "#46039f"
             ],
             [
              0.2222222222222222,
              "#7201a8"
             ],
             [
              0.3333333333333333,
              "#9c179e"
             ],
             [
              0.4444444444444444,
              "#bd3786"
             ],
             [
              0.5555555555555556,
              "#d8576b"
             ],
             [
              0.6666666666666666,
              "#ed7953"
             ],
             [
              0.7777777777777778,
              "#fb9f3a"
             ],
             [
              0.8888888888888888,
              "#fdca26"
             ],
             [
              1,
              "#f0f921"
             ]
            ],
            "type": "histogram2dcontour"
           }
          ],
          "mesh3d": [
           {
            "colorbar": {
             "outlinewidth": 0,
             "ticks": ""
            },
            "type": "mesh3d"
           }
          ],
          "parcoords": [
           {
            "line": {
             "colorbar": {
              "outlinewidth": 0,
              "ticks": ""
             }
            },
            "type": "parcoords"
           }
          ],
          "pie": [
           {
            "automargin": true,
            "type": "pie"
           }
          ],
          "scatter": [
           {
            "fillpattern": {
             "fillmode": "overlay",
             "size": 10,
             "solidity": 0.2
            },
            "type": "scatter"
           }
          ],
          "scatter3d": [
           {
            "line": {
             "colorbar": {
              "outlinewidth": 0,
              "ticks": ""
             }
            },
            "marker": {
             "colorbar": {
              "outlinewidth": 0,
              "ticks": ""
             }
            },
            "type": "scatter3d"
           }
          ],
          "scattercarpet": [
           {
            "marker": {
             "colorbar": {
              "outlinewidth": 0,
              "ticks": ""
             }
            },
            "type": "scattercarpet"
           }
          ],
          "scattergeo": [
           {
            "marker": {
             "colorbar": {
              "outlinewidth": 0,
              "ticks": ""
             }
            },
            "type": "scattergeo"
           }
          ],
          "scattergl": [
           {
            "marker": {
             "colorbar": {
              "outlinewidth": 0,
              "ticks": ""
             }
            },
            "type": "scattergl"
           }
          ],
          "scattermapbox": [
           {
            "marker": {
             "colorbar": {
              "outlinewidth": 0,
              "ticks": ""
             }
            },
            "type": "scattermapbox"
           }
          ],
          "scatterpolar": [
           {
            "marker": {
             "colorbar": {
              "outlinewidth": 0,
              "ticks": ""
             }
            },
            "type": "scatterpolar"
           }
          ],
          "scatterpolargl": [
           {
            "marker": {
             "colorbar": {
              "outlinewidth": 0,
              "ticks": ""
             }
            },
            "type": "scatterpolargl"
           }
          ],
          "scatterternary": [
           {
            "marker": {
             "colorbar": {
              "outlinewidth": 0,
              "ticks": ""
             }
            },
            "type": "scatterternary"
           }
          ],
          "surface": [
           {
            "colorbar": {
             "outlinewidth": 0,
             "ticks": ""
            },
            "colorscale": [
             [
              0,
              "#0d0887"
             ],
             [
              0.1111111111111111,
              "#46039f"
             ],
             [
              0.2222222222222222,
              "#7201a8"
             ],
             [
              0.3333333333333333,
              "#9c179e"
             ],
             [
              0.4444444444444444,
              "#bd3786"
             ],
             [
              0.5555555555555556,
              "#d8576b"
             ],
             [
              0.6666666666666666,
              "#ed7953"
             ],
             [
              0.7777777777777778,
              "#fb9f3a"
             ],
             [
              0.8888888888888888,
              "#fdca26"
             ],
             [
              1,
              "#f0f921"
             ]
            ],
            "type": "surface"
           }
          ],
          "table": [
           {
            "cells": {
             "fill": {
              "color": "#EBF0F8"
             },
             "line": {
              "color": "white"
             }
            },
            "header": {
             "fill": {
              "color": "#C8D4E3"
             },
             "line": {
              "color": "white"
             }
            },
            "type": "table"
           }
          ]
         },
         "layout": {
          "annotationdefaults": {
           "arrowcolor": "#2a3f5f",
           "arrowhead": 0,
           "arrowwidth": 1
          },
          "autotypenumbers": "strict",
          "coloraxis": {
           "colorbar": {
            "outlinewidth": 0,
            "ticks": ""
           }
          },
          "colorscale": {
           "diverging": [
            [
             0,
             "#8e0152"
            ],
            [
             0.1,
             "#c51b7d"
            ],
            [
             0.2,
             "#de77ae"
            ],
            [
             0.3,
             "#f1b6da"
            ],
            [
             0.4,
             "#fde0ef"
            ],
            [
             0.5,
             "#f7f7f7"
            ],
            [
             0.6,
             "#e6f5d0"
            ],
            [
             0.7,
             "#b8e186"
            ],
            [
             0.8,
             "#7fbc41"
            ],
            [
             0.9,
             "#4d9221"
            ],
            [
             1,
             "#276419"
            ]
           ],
           "sequential": [
            [
             0,
             "#0d0887"
            ],
            [
             0.1111111111111111,
             "#46039f"
            ],
            [
             0.2222222222222222,
             "#7201a8"
            ],
            [
             0.3333333333333333,
             "#9c179e"
            ],
            [
             0.4444444444444444,
             "#bd3786"
            ],
            [
             0.5555555555555556,
             "#d8576b"
            ],
            [
             0.6666666666666666,
             "#ed7953"
            ],
            [
             0.7777777777777778,
             "#fb9f3a"
            ],
            [
             0.8888888888888888,
             "#fdca26"
            ],
            [
             1,
             "#f0f921"
            ]
           ],
           "sequentialminus": [
            [
             0,
             "#0d0887"
            ],
            [
             0.1111111111111111,
             "#46039f"
            ],
            [
             0.2222222222222222,
             "#7201a8"
            ],
            [
             0.3333333333333333,
             "#9c179e"
            ],
            [
             0.4444444444444444,
             "#bd3786"
            ],
            [
             0.5555555555555556,
             "#d8576b"
            ],
            [
             0.6666666666666666,
             "#ed7953"
            ],
            [
             0.7777777777777778,
             "#fb9f3a"
            ],
            [
             0.8888888888888888,
             "#fdca26"
            ],
            [
             1,
             "#f0f921"
            ]
           ]
          },
          "colorway": [
           "#636efa",
           "#EF553B",
           "#00cc96",
           "#ab63fa",
           "#FFA15A",
           "#19d3f3",
           "#FF6692",
           "#B6E880",
           "#FF97FF",
           "#FECB52"
          ],
          "font": {
           "color": "#2a3f5f"
          },
          "geo": {
           "bgcolor": "white",
           "lakecolor": "white",
           "landcolor": "#E5ECF6",
           "showlakes": true,
           "showland": true,
           "subunitcolor": "white"
          },
          "hoverlabel": {
           "align": "left"
          },
          "hovermode": "closest",
          "mapbox": {
           "style": "light"
          },
          "paper_bgcolor": "white",
          "plot_bgcolor": "#E5ECF6",
          "polar": {
           "angularaxis": {
            "gridcolor": "white",
            "linecolor": "white",
            "ticks": ""
           },
           "bgcolor": "#E5ECF6",
           "radialaxis": {
            "gridcolor": "white",
            "linecolor": "white",
            "ticks": ""
           }
          },
          "scene": {
           "xaxis": {
            "backgroundcolor": "#E5ECF6",
            "gridcolor": "white",
            "gridwidth": 2,
            "linecolor": "white",
            "showbackground": true,
            "ticks": "",
            "zerolinecolor": "white"
           },
           "yaxis": {
            "backgroundcolor": "#E5ECF6",
            "gridcolor": "white",
            "gridwidth": 2,
            "linecolor": "white",
            "showbackground": true,
            "ticks": "",
            "zerolinecolor": "white"
           },
           "zaxis": {
            "backgroundcolor": "#E5ECF6",
            "gridcolor": "white",
            "gridwidth": 2,
            "linecolor": "white",
            "showbackground": true,
            "ticks": "",
            "zerolinecolor": "white"
           }
          },
          "shapedefaults": {
           "line": {
            "color": "#2a3f5f"
           }
          },
          "ternary": {
           "aaxis": {
            "gridcolor": "white",
            "linecolor": "white",
            "ticks": ""
           },
           "baxis": {
            "gridcolor": "white",
            "linecolor": "white",
            "ticks": ""
           },
           "bgcolor": "#E5ECF6",
           "caxis": {
            "gridcolor": "white",
            "linecolor": "white",
            "ticks": ""
           }
          },
          "title": {
           "x": 0.05
          },
          "xaxis": {
           "automargin": true,
           "gridcolor": "white",
           "linecolor": "white",
           "ticks": "",
           "title": {
            "standoff": 15
           },
           "zerolinecolor": "white",
           "zerolinewidth": 2
          },
          "yaxis": {
           "automargin": true,
           "gridcolor": "white",
           "linecolor": "white",
           "ticks": "",
           "title": {
            "standoff": 15
           },
           "zerolinecolor": "white",
           "zerolinewidth": 2
          }
         }
        },
        "title": {
         "text": "Accident Due to Traffic Violations"
        },
        "xaxis": {
         "anchor": "y",
         "categoryarray": [
          "Over",
          "Others",
          "Driving on Wrong side",
          "Drunken Driving/ Consumption of alcohol and drug",
          "Jumping Red Light",
          "Use of Mobile Phone"
         ],
         "categoryorder": "array",
         "domain": [
          0,
          1
         ],
         "title": {
          "text": "Cause Subcategory"
         }
        },
        "yaxis": {
         "anchor": "x",
         "domain": [
          0,
          1
         ],
         "title": {
          "text": "Count"
         }
        }
       }
      }
     },
     "metadata": {},
     "output_type": "display_data"
    }
   ],
   "source": [
    "px.bar(Traffic_violation,x=\"Cause Subcategory\",y=\"Count\",color=\"Cause Subcategory\",title=\"Accident Due to Traffic Violations\",text=\"Count\")\n"
   ]
  },
  {
   "cell_type": "code",
   "execution_count": null,
   "id": "bad37aa7",
   "metadata": {
    "papermill": {
     "duration": 0.018285,
     "end_time": "2023-06-16T17:27:40.252229",
     "exception": false,
     "start_time": "2023-06-16T17:27:40.233944",
     "status": "completed"
    },
    "tags": []
   },
   "outputs": [],
   "source": []
  }
 ],
 "metadata": {
  "kernelspec": {
   "display_name": "Python 3",
   "language": "python",
   "name": "python3"
  },
  "language_info": {
   "codemirror_mode": {
    "name": "ipython",
    "version": 3
   },
   "file_extension": ".py",
   "mimetype": "text/x-python",
   "name": "python",
   "nbconvert_exporter": "python",
   "pygments_lexer": "ipython3",
   "version": "3.11.7"
  },
  "papermill": {
   "default_parameters": {},
   "duration": 19.490264,
   "end_time": "2023-06-16T17:27:41.294387",
   "environment_variables": {},
   "exception": null,
   "input_path": "__notebook__.ipynb",
   "output_path": "__notebook__.ipynb",
   "parameters": {},
   "start_time": "2023-06-16T17:27:21.804123",
   "version": "2.4.0"
  }
 },
 "nbformat": 4,
 "nbformat_minor": 5
}
